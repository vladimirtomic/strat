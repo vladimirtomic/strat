{
 "cells": [
  {
   "cell_type": "markdown",
   "id": "9f92c789-f267-4a8a-af0c-9d8f0618f1d0",
   "metadata": {},
   "source": [
    "# Clean data analysis"
   ]
  },
  {
   "cell_type": "markdown",
   "id": "0dffc2b6-0dc6-4ad8-8b31-cff219f0c4f0",
   "metadata": {},
   "source": [
    "## 1. Imports"
   ]
  },
  {
   "cell_type": "code",
   "execution_count": 1,
   "id": "3a462d8c-f20c-4c94-9ec1-1ceee021d6d0",
   "metadata": {},
   "outputs": [],
   "source": [
    "import matplotlib.pyplot as plt\n",
    "import numpy as np\n",
    "import pandas as pd\n",
    "from PIL import Image, ImageDraw\n",
    "import seaborn as sns"
   ]
  },
  {
   "cell_type": "code",
   "execution_count": 2,
   "id": "f47a5d33-7f00-4d21-9622-780115f65440",
   "metadata": {},
   "outputs": [],
   "source": [
    "input_path = '../../../projects/ONT/data/pcr2persons/output/'\n",
    "output_path = '../../../projects/ONT/data/pcr2persons/output/'"
   ]
  },
  {
   "cell_type": "code",
   "execution_count": 3,
   "id": "c8d21f2f-e1f0-4f3b-9021-f9dd79f3ceb9",
   "metadata": {},
   "outputs": [],
   "source": [
    "data = f'{input_path}clean_00_67.tsv'"
   ]
  },
  {
   "cell_type": "markdown",
   "id": "cd3f4efd-82a2-40ac-a145-1ffdedebf815",
   "metadata": {},
   "source": [
    "## 2. Functions"
   ]
  },
  {
   "cell_type": "code",
   "execution_count": 4,
   "id": "df84374b-af73-4019-bbcc-be26d530c6f3",
   "metadata": {},
   "outputs": [],
   "source": [
    "def modes(s, num_of_modes=20):\n",
    "    return s.value_counts().nlargest(num_of_modes)"
   ]
  },
  {
   "cell_type": "code",
   "execution_count": 5,
   "id": "2e4e7e6d-6571-4701-8ef0-132f3c37b7c4",
   "metadata": {},
   "outputs": [],
   "source": [
    "def consensus_string(strings):\n",
    "    if not strings or not all(len(strings[0]) == len(s) for s in strings):\n",
    "        raise ValueError(\"Input strings must be non-empty and of equal length\")\n",
    "\n",
    "    consensus = ''\n",
    "    for i in range(len(strings[0])):\n",
    "        # Create a dictionary to count occurrences of each character at the current position\n",
    "        char_count = {}\n",
    "        for s in strings:\n",
    "            char = s[i]\n",
    "            char_count[char] = char_count.get(char, 0) + 1\n",
    "\n",
    "        # Find the most frequent character at the current position\n",
    "        most_frequent_char = max(char_count, key=char_count.get)\n",
    "\n",
    "        # Append the most frequent character to the consensus string\n",
    "        consensus += most_frequent_char\n",
    "\n",
    "    return consensus"
   ]
  },
  {
   "cell_type": "markdown",
   "id": "2a99da01-9308-4278-8802-826609b2cecc",
   "metadata": {},
   "source": [
    "## 3. Load the data"
   ]
  },
  {
   "cell_type": "code",
   "execution_count": 6,
   "id": "568dbccc-d5d6-4897-aa80-caba16220eca",
   "metadata": {},
   "outputs": [],
   "source": [
    "df = pd.read_csv(data, sep='\\t')"
   ]
  },
  {
   "cell_type": "code",
   "execution_count": 7,
   "id": "1dec581f-224f-49d0-8322-b9fede34f9e6",
   "metadata": {},
   "outputs": [
    {
     "data": {
      "text/plain": [
       "(64504, 14)"
      ]
     },
     "execution_count": 7,
     "metadata": {},
     "output_type": "execute_result"
    }
   ],
   "source": [
    "df.shape"
   ]
  },
  {
   "cell_type": "markdown",
   "id": "c7fa7943-e6b6-409c-b8fb-e2c656d5b370",
   "metadata": {},
   "source": [
    "## 4. Overview"
   ]
  },
  {
   "cell_type": "code",
   "execution_count": 8,
   "id": "1ace521a-a5af-4866-89db-f4976d74b519",
   "metadata": {},
   "outputs": [
    {
     "data": {
      "text/plain": [
       "Index(['id', 'direction', 'seq', 'opt', 'qual', 'read_length', 'start', 'end',\n",
       "       'prefix_flank', 'suffix_flank', 'ins', 'ins_len', 'prefix_flank_len',\n",
       "       'suffix_flank_len'],\n",
       "      dtype='object')"
      ]
     },
     "execution_count": 8,
     "metadata": {},
     "output_type": "execute_result"
    }
   ],
   "source": [
    "df.columns"
   ]
  },
  {
   "cell_type": "code",
   "execution_count": 9,
   "id": "b369b4f1-6c71-405c-b8ef-89ac14cc5111",
   "metadata": {},
   "outputs": [
    {
     "data": {
      "text/plain": [
       "count    64504.000000\n",
       "mean        70.740853\n",
       "std         79.791442\n",
       "min          2.000000\n",
       "25%         15.000000\n",
       "50%         47.000000\n",
       "75%        106.000000\n",
       "max       3367.000000\n",
       "Name: ins_len, dtype: float64"
      ]
     },
     "execution_count": 9,
     "metadata": {},
     "output_type": "execute_result"
    }
   ],
   "source": [
    "df['ins_len'].describe()"
   ]
  },
  {
   "cell_type": "code",
   "execution_count": 10,
   "id": "8e3e4214-639c-438b-8de2-6c1dd8385772",
   "metadata": {},
   "outputs": [
    {
     "data": {
      "text/html": [
       "<div>\n",
       "<style scoped>\n",
       "    .dataframe tbody tr th:only-of-type {\n",
       "        vertical-align: middle;\n",
       "    }\n",
       "\n",
       "    .dataframe tbody tr th {\n",
       "        vertical-align: top;\n",
       "    }\n",
       "\n",
       "    .dataframe thead th {\n",
       "        text-align: right;\n",
       "    }\n",
       "</style>\n",
       "<table border=\"1\" class=\"dataframe\">\n",
       "  <thead>\n",
       "    <tr style=\"text-align: right;\">\n",
       "      <th></th>\n",
       "      <th>id</th>\n",
       "      <th>direction</th>\n",
       "      <th>seq</th>\n",
       "      <th>opt</th>\n",
       "      <th>qual</th>\n",
       "      <th>read_length</th>\n",
       "      <th>start</th>\n",
       "      <th>end</th>\n",
       "      <th>prefix_flank</th>\n",
       "      <th>suffix_flank</th>\n",
       "      <th>ins</th>\n",
       "      <th>ins_len</th>\n",
       "      <th>prefix_flank_len</th>\n",
       "      <th>suffix_flank_len</th>\n",
       "    </tr>\n",
       "  </thead>\n",
       "  <tbody>\n",
       "  </tbody>\n",
       "</table>\n",
       "</div>"
      ],
      "text/plain": [
       "Empty DataFrame\n",
       "Columns: [id, direction, seq, opt, qual, read_length, start, end, prefix_flank, suffix_flank, ins, ins_len, prefix_flank_len, suffix_flank_len]\n",
       "Index: []"
      ]
     },
     "execution_count": 10,
     "metadata": {},
     "output_type": "execute_result"
    }
   ],
   "source": [
    "cond = df['read_length'] != (df['prefix_flank_len'] + df['ins_len'] + df['suffix_flank_len'])\n",
    "df[cond]"
   ]
  },
  {
   "cell_type": "markdown",
   "id": "fffeef5b-c24f-470d-b313-a7284879e385",
   "metadata": {},
   "source": [
    "## 5. Strand specific analysis"
   ]
  },
  {
   "cell_type": "code",
   "execution_count": 11,
   "id": "6b35a720-50ca-4071-8115-3aa576408e12",
   "metadata": {},
   "outputs": [],
   "source": [
    "direction = 'rev'\n",
    "cond = df['direction'] == direction\n",
    "dfc = df[cond]"
   ]
  },
  {
   "cell_type": "code",
   "execution_count": 12,
   "id": "96ea4495-ddbc-40f2-b474-fadd61b1663a",
   "metadata": {},
   "outputs": [
    {
     "data": {
      "text/plain": [
       "prefix_flank_len\n",
       "346     2548\n",
       "347     2548\n",
       "348     2516\n",
       "345     2496\n",
       "349     2355\n",
       "        ... \n",
       "121        1\n",
       "845        1\n",
       "1202       1\n",
       "1190       1\n",
       "796        1\n",
       "Name: count, Length: 754, dtype: int64"
      ]
     },
     "execution_count": 12,
     "metadata": {},
     "output_type": "execute_result"
    }
   ],
   "source": [
    "dfc['prefix_flank_len'].value_counts()"
   ]
  },
  {
   "cell_type": "code",
   "execution_count": 13,
   "id": "9a515aff-1b51-4840-8c3e-22df0c94cb6c",
   "metadata": {},
   "outputs": [
    {
     "data": {
      "text/plain": [
       "'CCACGTATTGCTGGGGGGAGGGGGTAAAAAAAAACCAAAACCCCCAAAGGGGGGGGGGCGGGGGGGGGCCCCGGGGGGGGGGGGGGGGGGGGGGGGGGGGGGGCCCCCAAAAAAGGGGGGTGGGAAAAAAAAATTCCCCCAAAAAGGGGGGGAAGGCCCCCCCCCCCCCCCCCCAGGGGGGGGGGCCCAAAAAAAAAATTTTTCCTTTTGGGAAAAAAAAAAGGGGGGGGGGGGGGGGGGGGGGGAAAACGGGCGGCCCGGCTTGCCCCCTTCCCCGGCCCGCAGTTTGCCCCTCCCCCTCAGGGCCCCAGCCTGGCCGAAAGAAAGAAATGGTCTGTGATCCCCC'"
      ]
     },
     "execution_count": 13,
     "metadata": {},
     "output_type": "execute_result"
    }
   ],
   "source": [
    "cond = dfc['prefix_flank_len'] == dfc['prefix_flank_len'].value_counts().index[0]\n",
    "inss = list(dfc[cond]['prefix_flank'])\n",
    "consensus_string(inss)"
   ]
  },
  {
   "cell_type": "code",
   "execution_count": 14,
   "id": "844250d6-5ad5-4b90-a123-bf3083d3daaa",
   "metadata": {},
   "outputs": [
    {
     "data": {
      "text/plain": [
       "'CATTCCCGGCTACAAGGACCCTTCGAGCCCCGTTCGCCGGCCGCGGACCCGGCCCCCCCCCCCCCGGCCCCGGGGGGGGGGGCCCGGAAAAAGGGGGGGGGGGGGGGGGGGCCCCCCCCCGGGGGGGGGTGGGAAGGGGGGGGGGGGGGGGGGGGCTTTCGCCCCCCCCCCCCCCCCCCCTTTTCCCCCGGGGGCCCCGGGGGGAAAAAAATTTTTGGGGGGGGGGGGGGGGGGGGGGCCCCGGGGGGGGCCCCCCGGGGGGGGGGGGGGGGGGGGGGGGCCCCCCCCCCCACCCCCCCGGGGGGGGGGGGGGAAAAAAAAAAAAGGGGAAAAAAAAAAAAAAAAAAAAAAAAAAAGAGAACAA'"
      ]
     },
     "execution_count": 14,
     "metadata": {},
     "output_type": "execute_result"
    }
   ],
   "source": [
    "cond = dfc['suffix_flank_len'] == dfc['suffix_flank_len'].value_counts().index[0]\n",
    "inss = list(dfc[cond]['suffix_flank'])\n",
    "consensus_string(inss)"
   ]
  },
  {
   "cell_type": "markdown",
   "id": "b5264a3f-6387-48b5-9f1e-566d32621636",
   "metadata": {},
   "source": [
    "## 6. Find cool reads"
   ]
  },
  {
   "cell_type": "code",
   "execution_count": 15,
   "id": "84e34844-5ea4-4111-8326-f0561dcf65d0",
   "metadata": {},
   "outputs": [
    {
     "data": {
      "text/html": [
       "<div>\n",
       "<style scoped>\n",
       "    .dataframe tbody tr th:only-of-type {\n",
       "        vertical-align: middle;\n",
       "    }\n",
       "\n",
       "    .dataframe tbody tr th {\n",
       "        vertical-align: top;\n",
       "    }\n",
       "\n",
       "    .dataframe thead th {\n",
       "        text-align: right;\n",
       "    }\n",
       "</style>\n",
       "<table border=\"1\" class=\"dataframe\">\n",
       "  <thead>\n",
       "    <tr style=\"text-align: right;\">\n",
       "      <th></th>\n",
       "      <th>id</th>\n",
       "      <th>direction</th>\n",
       "      <th>seq</th>\n",
       "      <th>opt</th>\n",
       "      <th>qual</th>\n",
       "      <th>read_length</th>\n",
       "      <th>start</th>\n",
       "      <th>end</th>\n",
       "      <th>prefix_flank</th>\n",
       "      <th>suffix_flank</th>\n",
       "      <th>ins</th>\n",
       "      <th>ins_len</th>\n",
       "      <th>prefix_flank_len</th>\n",
       "      <th>suffix_flank_len</th>\n",
       "    </tr>\n",
       "  </thead>\n",
       "  <tbody>\n",
       "    <tr>\n",
       "      <th>0</th>\n",
       "      <td>@90c36059-b1b8-435f-912d-533eaf89cedd runid=83...</td>\n",
       "      <td>fwd</td>\n",
       "      <td>ACTGCTTGCTGGAACCGTTGGTCTTGCTCGGAGGACGAGGTCGATA...</td>\n",
       "      <td>+</td>\n",
       "      <td>$$$$&amp;,%#$&amp;&amp;)')','+*('('&amp;'&amp;./0676::85''''''&amp;%%(...</td>\n",
       "      <td>692</td>\n",
       "      <td>340.0</td>\n",
       "      <td>355.0</td>\n",
       "      <td>ACTGCTTGCTGGAACCGTTGGTCTTGCTCGGAGGACGAGGTCGATA...</td>\n",
       "      <td>CATTCCCGGCTGCGAGGACCCTTCAGCCCGTTCGCCGGCCGCGGAC...</td>\n",
       "      <td>CAGCAGCAGCAGCAG</td>\n",
       "      <td>15</td>\n",
       "      <td>340</td>\n",
       "      <td>337</td>\n",
       "    </tr>\n",
       "    <tr>\n",
       "      <th>197</th>\n",
       "      <td>@44d753ee-8f19-4b39-bce0-836f728b01b1 runid=83...</td>\n",
       "      <td>fwd</td>\n",
       "      <td>GCTGCTTGGTACAGTTGGTGTTGCTGGAGGACGAGGTCGAATCAAT...</td>\n",
       "      <td>+</td>\n",
       "      <td>$$$$##$$%''-,,---+,)))),-&amp;&amp;')+)'&amp;%&amp;%&amp;&amp;$$#$%'''...</td>\n",
       "      <td>708</td>\n",
       "      <td>358.0</td>\n",
       "      <td>373.0</td>\n",
       "      <td>GCTGCTTGGTACAGTTGGTGTTGCTGGAGGACGAGGTCGAATCAAT...</td>\n",
       "      <td>CATTCCCGGCTACAAGGACCTCGAGCCGTTCGCCGGCCGCAGACCC...</td>\n",
       "      <td>CAGCAGCAGCAGCAG</td>\n",
       "      <td>15</td>\n",
       "      <td>358</td>\n",
       "      <td>335</td>\n",
       "    </tr>\n",
       "    <tr>\n",
       "      <th>296</th>\n",
       "      <td>@21cc6eba-1009-4d2b-8cbf-538b61ce8ba0 runid=83...</td>\n",
       "      <td>fwd</td>\n",
       "      <td>TGTGTCTCTCGTCAGTTACGTATTGCTCGGAGGACGAGGTCGATGA...</td>\n",
       "      <td>+</td>\n",
       "      <td>$%%&amp;(&amp;%%&amp;$%%$$'''&amp;%%&amp;**,'()()0141.+**,++(&amp;&amp;'()...</td>\n",
       "      <td>704</td>\n",
       "      <td>349.0</td>\n",
       "      <td>364.0</td>\n",
       "      <td>TGTGTCTCTCGTCAGTTACGTATTGCTCGGAGGACGAGGTCGATGA...</td>\n",
       "      <td>CATTCCCGGCTACAAGGACCCTTCGAGCCCCGTTCGCCGGCCGCGG...</td>\n",
       "      <td>CAGCAGCAGCAGCAG</td>\n",
       "      <td>15</td>\n",
       "      <td>349</td>\n",
       "      <td>340</td>\n",
       "    </tr>\n",
       "    <tr>\n",
       "      <th>453</th>\n",
       "      <td>@300e2c13-f820-4fa0-b502-a7a390891700 runid=83...</td>\n",
       "      <td>fwd</td>\n",
       "      <td>TTCGTTTACTTGGTTCAGTTACGTATTGCTCGGAGGACGAGGTCGA...</td>\n",
       "      <td>+</td>\n",
       "      <td>')&amp;%&amp;&amp;(&amp;&amp;&amp;(*.223)(().)((''''))''((=&gt;=;211;&lt;3))...</td>\n",
       "      <td>717</td>\n",
       "      <td>369.0</td>\n",
       "      <td>384.0</td>\n",
       "      <td>TTCGTTTACTTGGTTCAGTTACGTATTGCTCGGAGGACGAGGTCGA...</td>\n",
       "      <td>CATTCCCGGCTACAAGGACCCTTCGAGCCCCGTTCGCCGGCCGCAG...</td>\n",
       "      <td>CAGCAGCAGCAGCAG</td>\n",
       "      <td>15</td>\n",
       "      <td>369</td>\n",
       "      <td>333</td>\n",
       "    </tr>\n",
       "    <tr>\n",
       "      <th>459</th>\n",
       "      <td>@0887f2a9-8c34-43d0-b1e7-75920fef05e6 runid=83...</td>\n",
       "      <td>fwd</td>\n",
       "      <td>TTGTCCTGCTGGACAGATTACGTATTGCTCGGAGGACGAGGTCAGA...</td>\n",
       "      <td>+</td>\n",
       "      <td>$%$%###$%%&amp;(*/0..-..01221/(+,''./6886-,,++)&amp;&amp;'...</td>\n",
       "      <td>712</td>\n",
       "      <td>359.0</td>\n",
       "      <td>374.0</td>\n",
       "      <td>TTGTCCTGCTGGACAGATTACGTATTGCTCGGAGGACGAGGTCAGA...</td>\n",
       "      <td>TCATCCCGGCTACAAGGACCCTTCGAGCCGTTCACCAGCCGCGGAC...</td>\n",
       "      <td>AGCAGCAGCAGCAGC</td>\n",
       "      <td>15</td>\n",
       "      <td>359</td>\n",
       "      <td>338</td>\n",
       "    </tr>\n",
       "    <tr>\n",
       "      <th>...</th>\n",
       "      <td>...</td>\n",
       "      <td>...</td>\n",
       "      <td>...</td>\n",
       "      <td>...</td>\n",
       "      <td>...</td>\n",
       "      <td>...</td>\n",
       "      <td>...</td>\n",
       "      <td>...</td>\n",
       "      <td>...</td>\n",
       "      <td>...</td>\n",
       "      <td>...</td>\n",
       "      <td>...</td>\n",
       "      <td>...</td>\n",
       "      <td>...</td>\n",
       "    </tr>\n",
       "    <tr>\n",
       "      <th>64318</th>\n",
       "      <td>@fe255d4c-6e90-52f9-8d90-a3302024deaa runid=83...</td>\n",
       "      <td>fwd</td>\n",
       "      <td>ATGTGGTCTACTGGTTCAGTTCGTATTGCTCGGAGGACGAGGTCAA...</td>\n",
       "      <td>+</td>\n",
       "      <td>$$$%&amp;$$###$%$%%%$$$$&amp;##&amp;/,,++,,-01;:96.,++'')(...</td>\n",
       "      <td>695</td>\n",
       "      <td>361.0</td>\n",
       "      <td>376.0</td>\n",
       "      <td>ATGTGGTCTACTGGTTCAGTTCGTATTGCTCGGAGGACGAGGTCAA...</td>\n",
       "      <td>CATTCCCGGCTACAAGAGACCCTCGACCCGTACCGCCGGCCGCAGA...</td>\n",
       "      <td>CAGCAGCAGCAGCAG</td>\n",
       "      <td>15</td>\n",
       "      <td>361</td>\n",
       "      <td>319</td>\n",
       "    </tr>\n",
       "    <tr>\n",
       "      <th>64396</th>\n",
       "      <td>@51819eeb-5ddd-5e99-9651-f2edc786d2f9 runid=83...</td>\n",
       "      <td>fwd</td>\n",
       "      <td>ACAGCAATAACTACTTGGTTCCATTACGTATTGCTCGGAGGACGAG...</td>\n",
       "      <td>+</td>\n",
       "      <td>./0..(((&amp;#\"\"\"#'''(,+++)++.24577976911?A@&lt;&lt;977:...</td>\n",
       "      <td>712</td>\n",
       "      <td>365.0</td>\n",
       "      <td>380.0</td>\n",
       "      <td>ACAGCAATAACTACTTGGTTCCATTACGTATTGCTCGGAGGACGAG...</td>\n",
       "      <td>CATTCCCGGCTGCAAGGACCCTTCGACCCCGTTCGCCGGCCGCGGA...</td>\n",
       "      <td>CAGCAGCAGCAGCAG</td>\n",
       "      <td>15</td>\n",
       "      <td>365</td>\n",
       "      <td>332</td>\n",
       "    </tr>\n",
       "    <tr>\n",
       "      <th>64413</th>\n",
       "      <td>@8f9e1ecc-0fc8-43ec-b161-d50645301df5 runid=83...</td>\n",
       "      <td>fwd</td>\n",
       "      <td>TTTGGTCTACTGGTTCCATTAGCGTATTGCTGGGAGGACAAGGTCG...</td>\n",
       "      <td>+</td>\n",
       "      <td>#$&amp;%%%##%'-))-.0*%%%'&amp;&amp;()457,/+%%&amp;'8866'''(*'%...</td>\n",
       "      <td>708</td>\n",
       "      <td>360.0</td>\n",
       "      <td>375.0</td>\n",
       "      <td>TTTGGTCTACTGGTTCCATTAGCGTATTGCTGGGAGGACAAGGTCG...</td>\n",
       "      <td>CATTCCCGGCTACAAGGACCCCTCGACCCCGTTCGCCGGCCGCGAC...</td>\n",
       "      <td>CAGCAGCAGCGGCGG</td>\n",
       "      <td>15</td>\n",
       "      <td>360</td>\n",
       "      <td>333</td>\n",
       "    </tr>\n",
       "    <tr>\n",
       "      <th>64435</th>\n",
       "      <td>@ee63ad53-9ccb-5d27-97e7-290637d59033 runid=83...</td>\n",
       "      <td>fwd</td>\n",
       "      <td>GGTGATGTCCTCGACTCGTTCAGTTACGTATTGCTCGGAGGACGAG...</td>\n",
       "      <td>+</td>\n",
       "      <td>-$$$#$&amp;%''*+++-.'&amp;''*('()*))(*,+*--**219&lt;&lt;4-,,...</td>\n",
       "      <td>1439</td>\n",
       "      <td>351.0</td>\n",
       "      <td>366.0</td>\n",
       "      <td>GGTGATGTCCTCGACTCGTTCAGTTACGTATTGCTCGGAGGACGAG...</td>\n",
       "      <td>CATTCCCGGCTACAAGGACCCTTCAAGCCGTTCACCAGCCGCGGAC...</td>\n",
       "      <td>AGCAGCAGCAGCAGC</td>\n",
       "      <td>15</td>\n",
       "      <td>351</td>\n",
       "      <td>1073</td>\n",
       "    </tr>\n",
       "    <tr>\n",
       "      <th>64465</th>\n",
       "      <td>@6e3878c0-c3c1-410c-818b-a8ceedeecadc runid=83...</td>\n",
       "      <td>fwd</td>\n",
       "      <td>TTTCCCTCTACTCGTTCAGTTACGTATTGCTCGGAGGACGAGGTCA...</td>\n",
       "      <td>+</td>\n",
       "      <td>&amp;)*&amp;%%%%&amp;&amp;')&amp;&amp;&amp;'+(&amp;&amp;&amp;(*++21555621001/--+((0.2-...</td>\n",
       "      <td>1110</td>\n",
       "      <td>362.0</td>\n",
       "      <td>377.0</td>\n",
       "      <td>TTTCCCTCTACTCGTTCAGTTACGTATTGCTCGGAGGACGAGGTCA...</td>\n",
       "      <td>CATTCCCGGCTACAAGGACCCTTCGAGCCCGTTCGCCGGCCGCGGA...</td>\n",
       "      <td>CAGCAGCAGCAGCAG</td>\n",
       "      <td>15</td>\n",
       "      <td>362</td>\n",
       "      <td>733</td>\n",
       "    </tr>\n",
       "  </tbody>\n",
       "</table>\n",
       "<p>1407 rows × 14 columns</p>\n",
       "</div>"
      ],
      "text/plain": [
       "                                                      id direction  \\\n",
       "0      @90c36059-b1b8-435f-912d-533eaf89cedd runid=83...       fwd   \n",
       "197    @44d753ee-8f19-4b39-bce0-836f728b01b1 runid=83...       fwd   \n",
       "296    @21cc6eba-1009-4d2b-8cbf-538b61ce8ba0 runid=83...       fwd   \n",
       "453    @300e2c13-f820-4fa0-b502-a7a390891700 runid=83...       fwd   \n",
       "459    @0887f2a9-8c34-43d0-b1e7-75920fef05e6 runid=83...       fwd   \n",
       "...                                                  ...       ...   \n",
       "64318  @fe255d4c-6e90-52f9-8d90-a3302024deaa runid=83...       fwd   \n",
       "64396  @51819eeb-5ddd-5e99-9651-f2edc786d2f9 runid=83...       fwd   \n",
       "64413  @8f9e1ecc-0fc8-43ec-b161-d50645301df5 runid=83...       fwd   \n",
       "64435  @ee63ad53-9ccb-5d27-97e7-290637d59033 runid=83...       fwd   \n",
       "64465  @6e3878c0-c3c1-410c-818b-a8ceedeecadc runid=83...       fwd   \n",
       "\n",
       "                                                     seq opt  \\\n",
       "0      ACTGCTTGCTGGAACCGTTGGTCTTGCTCGGAGGACGAGGTCGATA...   +   \n",
       "197    GCTGCTTGGTACAGTTGGTGTTGCTGGAGGACGAGGTCGAATCAAT...   +   \n",
       "296    TGTGTCTCTCGTCAGTTACGTATTGCTCGGAGGACGAGGTCGATGA...   +   \n",
       "453    TTCGTTTACTTGGTTCAGTTACGTATTGCTCGGAGGACGAGGTCGA...   +   \n",
       "459    TTGTCCTGCTGGACAGATTACGTATTGCTCGGAGGACGAGGTCAGA...   +   \n",
       "...                                                  ...  ..   \n",
       "64318  ATGTGGTCTACTGGTTCAGTTCGTATTGCTCGGAGGACGAGGTCAA...   +   \n",
       "64396  ACAGCAATAACTACTTGGTTCCATTACGTATTGCTCGGAGGACGAG...   +   \n",
       "64413  TTTGGTCTACTGGTTCCATTAGCGTATTGCTGGGAGGACAAGGTCG...   +   \n",
       "64435  GGTGATGTCCTCGACTCGTTCAGTTACGTATTGCTCGGAGGACGAG...   +   \n",
       "64465  TTTCCCTCTACTCGTTCAGTTACGTATTGCTCGGAGGACGAGGTCA...   +   \n",
       "\n",
       "                                                    qual  read_length  start  \\\n",
       "0      $$$$&,%#$&&)')','+*('('&'&./0676::85''''''&%%(...          692  340.0   \n",
       "197    $$$$##$$%''-,,---+,)))),-&&')+)'&%&%&&$$#$%'''...          708  358.0   \n",
       "296    $%%&(&%%&$%%$$'''&%%&**,'()()0141.+**,++(&&'()...          704  349.0   \n",
       "453    ')&%&&(&&&(*.223)(().)((''''))''((=>=;211;<3))...          717  369.0   \n",
       "459    $%$%###$%%&(*/0..-..01221/(+,''./6886-,,++)&&'...          712  359.0   \n",
       "...                                                  ...          ...    ...   \n",
       "64318  $$$%&$$###$%$%%%$$$$&##&/,,++,,-01;:96.,++'')(...          695  361.0   \n",
       "64396  ./0..(((&#\"\"\"#'''(,+++)++.24577976911?A@<<977:...          712  365.0   \n",
       "64413  #$&%%%##%'-))-.0*%%%'&&()457,/+%%&'8866'''(*'%...          708  360.0   \n",
       "64435  -$$$#$&%''*+++-.'&''*('()*))(*,+*--**219<<4-,,...         1439  351.0   \n",
       "64465  &)*&%%%%&&')&&&'+(&&&(*++21555621001/--+((0.2-...         1110  362.0   \n",
       "\n",
       "         end                                       prefix_flank  \\\n",
       "0      355.0  ACTGCTTGCTGGAACCGTTGGTCTTGCTCGGAGGACGAGGTCGATA...   \n",
       "197    373.0  GCTGCTTGGTACAGTTGGTGTTGCTGGAGGACGAGGTCGAATCAAT...   \n",
       "296    364.0  TGTGTCTCTCGTCAGTTACGTATTGCTCGGAGGACGAGGTCGATGA...   \n",
       "453    384.0  TTCGTTTACTTGGTTCAGTTACGTATTGCTCGGAGGACGAGGTCGA...   \n",
       "459    374.0  TTGTCCTGCTGGACAGATTACGTATTGCTCGGAGGACGAGGTCAGA...   \n",
       "...      ...                                                ...   \n",
       "64318  376.0  ATGTGGTCTACTGGTTCAGTTCGTATTGCTCGGAGGACGAGGTCAA...   \n",
       "64396  380.0  ACAGCAATAACTACTTGGTTCCATTACGTATTGCTCGGAGGACGAG...   \n",
       "64413  375.0  TTTGGTCTACTGGTTCCATTAGCGTATTGCTGGGAGGACAAGGTCG...   \n",
       "64435  366.0  GGTGATGTCCTCGACTCGTTCAGTTACGTATTGCTCGGAGGACGAG...   \n",
       "64465  377.0  TTTCCCTCTACTCGTTCAGTTACGTATTGCTCGGAGGACGAGGTCA...   \n",
       "\n",
       "                                            suffix_flank              ins  \\\n",
       "0      CATTCCCGGCTGCGAGGACCCTTCAGCCCGTTCGCCGGCCGCGGAC...  CAGCAGCAGCAGCAG   \n",
       "197    CATTCCCGGCTACAAGGACCTCGAGCCGTTCGCCGGCCGCAGACCC...  CAGCAGCAGCAGCAG   \n",
       "296    CATTCCCGGCTACAAGGACCCTTCGAGCCCCGTTCGCCGGCCGCGG...  CAGCAGCAGCAGCAG   \n",
       "453    CATTCCCGGCTACAAGGACCCTTCGAGCCCCGTTCGCCGGCCGCAG...  CAGCAGCAGCAGCAG   \n",
       "459    TCATCCCGGCTACAAGGACCCTTCGAGCCGTTCACCAGCCGCGGAC...  AGCAGCAGCAGCAGC   \n",
       "...                                                  ...              ...   \n",
       "64318  CATTCCCGGCTACAAGAGACCCTCGACCCGTACCGCCGGCCGCAGA...  CAGCAGCAGCAGCAG   \n",
       "64396  CATTCCCGGCTGCAAGGACCCTTCGACCCCGTTCGCCGGCCGCGGA...  CAGCAGCAGCAGCAG   \n",
       "64413  CATTCCCGGCTACAAGGACCCCTCGACCCCGTTCGCCGGCCGCGAC...  CAGCAGCAGCGGCGG   \n",
       "64435  CATTCCCGGCTACAAGGACCCTTCAAGCCGTTCACCAGCCGCGGAC...  AGCAGCAGCAGCAGC   \n",
       "64465  CATTCCCGGCTACAAGGACCCTTCGAGCCCGTTCGCCGGCCGCGGA...  CAGCAGCAGCAGCAG   \n",
       "\n",
       "       ins_len  prefix_flank_len  suffix_flank_len  \n",
       "0           15               340               337  \n",
       "197         15               358               335  \n",
       "296         15               349               340  \n",
       "453         15               369               333  \n",
       "459         15               359               338  \n",
       "...        ...               ...               ...  \n",
       "64318       15               361               319  \n",
       "64396       15               365               332  \n",
       "64413       15               360               333  \n",
       "64435       15               351              1073  \n",
       "64465       15               362               733  \n",
       "\n",
       "[1407 rows x 14 columns]"
      ]
     },
     "execution_count": 15,
     "metadata": {},
     "output_type": "execute_result"
    }
   ],
   "source": [
    "cond = df['direction'] == 'fwd'\n",
    "cond &= df['ins_len'] == 15\n",
    "df[cond]"
   ]
  }
 ],
 "metadata": {
  "kernelspec": {
   "display_name": "Python 3 (ipykernel)",
   "language": "python",
   "name": "python3"
  },
  "language_info": {
   "codemirror_mode": {
    "name": "ipython",
    "version": 3
   },
   "file_extension": ".py",
   "mimetype": "text/x-python",
   "name": "python",
   "nbconvert_exporter": "python",
   "pygments_lexer": "ipython3",
   "version": "3.10.1"
  }
 },
 "nbformat": 4,
 "nbformat_minor": 5
}
