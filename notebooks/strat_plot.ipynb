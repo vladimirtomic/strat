{
 "cells": [
  {
   "cell_type": "markdown",
   "id": "485fa301-cf65-4f43-941d-db274d59647e",
   "metadata": {},
   "source": [
    "# STRAT - Short Tandem Repeat Analysis Tool"
   ]
  },
  {
   "cell_type": "markdown",
   "id": "0ed2c6e2-0448-4013-bef0-7625ab3e3d88",
   "metadata": {},
   "source": [
    "## 1. Plot various graphs on processed reads"
   ]
  },
  {
   "cell_type": "code",
   "execution_count": 1,
   "id": "036dca77-1002-4657-bcdf-6243c7d7a1f7",
   "metadata": {},
   "outputs": [],
   "source": [
    "from csv import QUOTE_NONE\n",
    "import numpy as np\n",
    "import pandas as pd\n",
    "from PIL import Image, ImageDraw"
   ]
  },
  {
   "cell_type": "markdown",
   "id": "f07d055e-d7a6-47f9-8f96-6e48c4d6938e",
   "metadata": {},
   "source": [
    "## 2. Arguments"
   ]
  },
  {
   "cell_type": "code",
   "execution_count": 2,
   "id": "4893741c-d241-46f9-b5b3-87c8101265c1",
   "metadata": {},
   "outputs": [],
   "source": [
    "motif = 'CAG'\n",
    "\n",
    "# bc3_1 guppy\n",
    "input_path = '/opt/data/workdir/bc3_1.dorado.ontarget.processed.tsv'\n",
    "output_path = '/opt/data/workdir/'"
   ]
  },
  {
   "cell_type": "markdown",
   "id": "3a9fab11-2a53-42dd-847b-27ced80fa5e6",
   "metadata": {},
   "source": [
    "## 3. Constants"
   ]
  },
  {
   "cell_type": "code",
   "execution_count": 3,
   "id": "875adcf9-673e-469c-9f0d-56d87ae8036c",
   "metadata": {},
   "outputs": [],
   "source": [
    "COLORS = {\n",
    "    'A': '#3DA853',  # green\n",
    "    'C': '#4285F4',  # blue\n",
    "    'G': '#F8BC07',  # yellow\n",
    "    'T': '#EA4334',  # red\n",
    "    ' ': 'white'\n",
    "}"
   ]
  },
  {
   "cell_type": "markdown",
   "id": "6ecc5005-aba3-4a33-8c9e-54dbdeeee766",
   "metadata": {},
   "source": [
    "## 4. Functions"
   ]
  },
  {
   "cell_type": "code",
   "execution_count": 4,
   "id": "ff9cef0b-5da4-461c-af49-c95a5da01aac",
   "metadata": {},
   "outputs": [],
   "source": [
    "def prepare_for_plotting(df, col_seq, col_len, col_cnt, col_cov):\n",
    "    results = []\n",
    "    for i in range(df[col_len].max()):\n",
    "        cond = df[col_len] >= i + 1\n",
    "        row = dict(df[cond][col_seq].str[i].value_counts())\n",
    "        \n",
    "        cond = df[col_len] == i + 1\n",
    "        row[col_cnt] = sum(cond)\n",
    "        \n",
    "        cond = df[col_len] >= i + 1\n",
    "        row[col_cov] = sum(cond)\n",
    "        \n",
    "        results.append(row)\n",
    "    \n",
    "    result_df = pd.DataFrame(results).fillna(0).astype(int)\n",
    "    return result_df\n",
    "\n",
    "\n",
    "def plot(df, col_seq, direction):\n",
    "    output_image = f'/opt/data/workdir/images/test.{col_seq}.{direction}.png'\n",
    "    col_len = 'len_' + col_seq\n",
    "    col_cnt = 'cnt_' + col_seq\n",
    "    col_cov = 'cov_' + col_seq\n",
    "    \n",
    "    cond = df['direction'] == direction\n",
    "    cond &= df[col_len] <= 201\n",
    "    \n",
    "    df_prep = prepare_for_plotting(df[cond][[col_seq, col_len]], col_seq, col_len, col_cnt, col_cov)\n",
    "\n",
    "    \n",
    "    colors = COLORS\n",
    "    width = 1500\n",
    "    height = 1000\n",
    "    image = Image.new('RGB', (width, height), 'grey')\n",
    "    draw = ImageDraw.Draw(image)\n",
    "    reach_max = df_prep[col_cov].max()\n",
    "    \n",
    "    for i in sorted(df_prep.index):\n",
    "        x = i + 1\n",
    "        row = df_prep.iloc[i]\n",
    "        cnt = 0 if row[col_cnt] == 0 else row[col_cnt]\n",
    "        cov = 0 if row[col_cov] == 0 else row[col_cov]\n",
    "        reach = 500 * cov / reach_max\n",
    "        bottom = 0\n",
    "        for n in ['G', 'C', 'A', 'T', ' ']:\n",
    "            if not n in row:\n",
    "                continue\n",
    "            cnt = row[n]\n",
    "            freq = int((reach * row[n] / cov).round())\n",
    "            if n == 'CAG'[i%3]:\n",
    "                color = 'black'\n",
    "            else:\n",
    "                color = colors[n]\n",
    "            draw.line([(10*x, bottom), (10*x, bottom+freq)], width=8, fill=color)\n",
    "            bottom += freq\n",
    "    \n",
    "        if i % 3 == 0:\n",
    "            draw.line([(10*i+5, 0), (10*i+5, 500)], width=2, fill='#AAAAAA')\n",
    "    \n",
    "        if i % 30 == 0:\n",
    "            draw.line([(10*i+5, 0), (10*i+5, 500)], width=2, fill='white')\n",
    "    \n",
    "    image.save(output_image)"
   ]
  },
  {
   "cell_type": "markdown",
   "id": "fa211547-ff94-451c-8e86-a9fb1da9b53f",
   "metadata": {},
   "source": [
    "## 5. Tryouts"
   ]
  },
  {
   "cell_type": "code",
   "execution_count": 5,
   "id": "dc0de03c-3c03-407a-8936-ea38a270d194",
   "metadata": {},
   "outputs": [],
   "source": [
    "df = pd.read_csv(input_path, sep='\\t')"
   ]
  },
  {
   "cell_type": "code",
   "execution_count": 6,
   "id": "97b5d4f1-e283-4db7-abd3-654b0f2513d4",
   "metadata": {},
   "outputs": [],
   "source": [
    "plot(df, 'ins',         'fwd')\n",
    "plot(df, 'ins_aln',     'fwd')\n",
    "plot(df, 'ins_ext',     'fwd')\n",
    "plot(df, 'ins_ext_aln', 'fwd')"
   ]
  },
  {
   "cell_type": "code",
   "execution_count": 7,
   "id": "5f7ad3f9-39de-46f1-a151-3b7f4e9bb733",
   "metadata": {},
   "outputs": [],
   "source": [
    "plot(df, 'ins',         'rev')\n",
    "plot(df, 'ins_aln',     'rev')\n",
    "plot(df, 'ins_ext',     'rev')\n",
    "plot(df, 'ins_ext_aln', 'rev')"
   ]
  }
 ],
 "metadata": {
  "kernelspec": {
   "display_name": "Python 3 (ipykernel)",
   "language": "python",
   "name": "python3"
  },
  "language_info": {
   "codemirror_mode": {
    "name": "ipython",
    "version": 3
   },
   "file_extension": ".py",
   "mimetype": "text/x-python",
   "name": "python",
   "nbconvert_exporter": "python",
   "pygments_lexer": "ipython3",
   "version": "3.8.18"
  }
 },
 "nbformat": 4,
 "nbformat_minor": 5
}
