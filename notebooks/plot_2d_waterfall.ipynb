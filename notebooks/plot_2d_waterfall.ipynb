{
 "cells": [
  {
   "cell_type": "markdown",
   "id": "90c03a2e-5b99-4d90-bd25-887851415f08",
   "metadata": {},
   "source": [
    "# Plot 2D Waterfall"
   ]
  },
  {
   "cell_type": "markdown",
   "id": "df64784f-8a7f-4e95-ab9b-4de83007bc46",
   "metadata": {},
   "source": [
    "## Arguments"
   ]
  },
  {
   "cell_type": "code",
   "execution_count": 1,
   "id": "3acd2b34-c9fe-400d-b9ef-a5bd8d6a28a2",
   "metadata": {},
   "outputs": [],
   "source": [
    "fastqs = '/opt/data/'\n",
    "workdir = '/opt/data_out/L25E5M0_workdir/'\n",
    "outdir = '/opt/data_out/L25E5M0_images_rev/'\n",
    "\n",
    "callers = [\n",
    "    # 'dorado',\n",
    "    'guppy',\n",
    "]\n",
    "\n",
    "datasets = [\n",
    "    'bc3_01',\n",
    "    # 'bc3_02',\n",
    "    # 'bc3_03',\n",
    "    # 'bc6_05',\n",
    "    # 'bc6_06',\n",
    "    # 'bc6_07',\n",
    "    # 'bc6_08',\n",
    "    # 'bc6_09',\n",
    "    # 'bc6_10',\n",
    "    # 'bc7_1_18',\n",
    "    # 'bc7_1_19',\n",
    "    # 'bc7_1_20',\n",
    "    # 'bc7_1_21',\n",
    "    # 'bc7_1_22',\n",
    "    # 'bc7_1_23',\n",
    "    # 'bc7_1_24',\n",
    "    # 'bc7_2_18',\n",
    "    # 'bc7_2_19',\n",
    "    # 'bc7_2_20',\n",
    "    # 'bc7_2_21',\n",
    "    # 'bc7_2_22',\n",
    "    # 'bc7_2_23',\n",
    "    # 'bc7_2_24',\n",
    "    # 'sca8_1_11',\n",
    "    # 'sca8_1_12',\n",
    "    # 'sca8_1_15',\n",
    "    # 'sca8_1_16',\n",
    "    # 'sca8_1_19',\n",
    "    # 'sca8_1_20',\n",
    "    # 'sca8_2_11',\n",
    "    # 'sca8_2_12',\n",
    "    # 'sca8_2_15',\n",
    "    # 'sca8_2_16',\n",
    "    # 'sca8_2_19',\n",
    "    # 'sca8_2_20',\n",
    "]"
   ]
  },
  {
   "cell_type": "markdown",
   "id": "377fb9d1-d74a-4ba4-98b0-fe644bbe8565",
   "metadata": {
    "jp-MarkdownHeadingCollapsed": true
   },
   "source": [
    "## Imports"
   ]
  },
  {
   "cell_type": "code",
   "execution_count": 2,
   "id": "7312bae3-ce76-4f45-8db2-4ce5e53513df",
   "metadata": {},
   "outputs": [],
   "source": [
    "import gzip\n",
    "from os import listdir\n",
    "from os.path import isfile, join\n",
    "\n",
    "import matplotlib.pyplot as plt\n",
    "import matplotlib.ticker as plticker\n",
    "import pandas as pd\n",
    "import seaborn as sns\n",
    "\n",
    "import common"
   ]
  },
  {
   "cell_type": "markdown",
   "id": "a2e9a059-8c13-4c1b-ade5-a847df82bdd2",
   "metadata": {},
   "source": [
    "## Functions"
   ]
  },
  {
   "cell_type": "code",
   "execution_count": 7,
   "id": "80941d72-f7ff-4381-84a9-52e478f8ee3a",
   "metadata": {},
   "outputs": [],
   "source": [
    "def plot_2d_waterfall(df, col_len, col_seq, output_path):\n",
    "    width = df[col_len].max()\n",
    "    \n",
    "    inss = list(df[col_seq])\n",
    "\n",
    "    height = width\n",
    "    image = common.Image.new('RGB', (width, height), '#AAAAAA')\n",
    "    draw = common.ImageDraw.Draw(image)\n",
    "    bottom = 0\n",
    "    for seq in inss:\n",
    "        l = len(seq)\n",
    "        for i, n in enumerate(seq):\n",
    "            x = i\n",
    "            y = l - i\n",
    "            N = 'CAG'[i%3]\n",
    "            if n == N:\n",
    "                color = '#00000011'\n",
    "            else:\n",
    "                color = f'{common.COLORS[n]}01'\n",
    "            draw.point((x, y), fill=color)\n",
    "\n",
    "    # for i in range(width):\n",
    "    #     y = stretch*i+stretch//2\n",
    "    #     if i % 3 == 0:\n",
    "    #         draw.line([(y, 0), (y, height)], width=grid, fill='#AAAAAA')\n",
    "    \n",
    "    #     if i % 30 == 0:\n",
    "    #         draw.line([(y, 0), (y, height)], width=grid, fill='white')\n",
    "\n",
    "    #     if i % 300 == 0:\n",
    "    #         draw.line([(y, 0), (y, height)], width=grid, fill='black')\n",
    "\n",
    "    image.save(output_path)"
   ]
  },
  {
   "cell_type": "markdown",
   "id": "1dfa3439-534e-4c02-9036-c8a3994a0b51",
   "metadata": {},
   "source": [
    "## Main"
   ]
  },
  {
   "cell_type": "code",
   "execution_count": 8,
   "id": "e0695659-1778-476c-8ff9-41b82d762676",
   "metadata": {},
   "outputs": [],
   "source": [
    "for caller in callers:\n",
    "    for dataset in datasets:\n",
    "        input_path = f'{workdir}{dataset}.{caller}.ontarget.tsv'\n",
    "        if not isfile(input_path):\n",
    "            print(f'Skipping: {dataset}.{caller}')\n",
    "            continue\n",
    "\n",
    "        input_path = f'{workdir}{dataset}.{caller}.ontarget.processed.tsv'\n",
    "        df = pd.read_csv(input_path, sep='\\t')\n",
    "\n",
    "        cond = df['direction'] == 'fwd'\n",
    "        output_path = f'{outdir}{dataset}.{caller}.wtrf2d.png'\n",
    "        plot_2d_waterfall(df[cond], 'len_ins_ext_aln', 'ins_ext_aln', output_path)"
   ]
  },
  {
   "cell_type": "code",
   "execution_count": null,
   "id": "cb8d9f1d-2514-4152-bb93-06a6daf57129",
   "metadata": {},
   "outputs": [],
   "source": []
  }
 ],
 "metadata": {
  "kernelspec": {
   "display_name": "Python 3 (ipykernel)",
   "language": "python",
   "name": "python3"
  },
  "language_info": {
   "codemirror_mode": {
    "name": "ipython",
    "version": 3
   },
   "file_extension": ".py",
   "mimetype": "text/x-python",
   "name": "python",
   "nbconvert_exporter": "python",
   "pygments_lexer": "ipython3",
   "version": "3.8.18"
  }
 },
 "nbformat": 4,
 "nbformat_minor": 5
}
