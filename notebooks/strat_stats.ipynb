{
 "cells": [
  {
   "cell_type": "markdown",
   "id": "bdf6e882-a205-4954-9dd5-064b4a35af13",
   "metadata": {},
   "source": [
    "# STRAT - Short Tandem Repeat Analysis Tool"
   ]
  },
  {
   "cell_type": "markdown",
   "id": "7393e4ee-4878-4a92-b13e-5ba191273feb",
   "metadata": {},
   "source": [
    "## 2. Collect statistics on high fidelity reads"
   ]
  },
  {
   "cell_type": "markdown",
   "id": "a2e1db31-2289-4e08-b896-ea7dad0b33cf",
   "metadata": {},
   "source": [
    "### 2.1 Imports"
   ]
  },
  {
   "cell_type": "code",
   "execution_count": 1,
   "id": "982a4874-f217-4ec9-a3bd-a5e97d88905f",
   "metadata": {},
   "outputs": [],
   "source": [
    "import matplotlib.pyplot as plt\n",
    "import pandas as pd\n",
    "import seaborn as sns"
   ]
  },
  {
   "cell_type": "markdown",
   "id": "40b3a678-c12d-4851-8196-92eb930ccce4",
   "metadata": {},
   "source": [
    "### 2.2 Arguments"
   ]
  },
  {
   "cell_type": "code",
   "execution_count": 2,
   "id": "1f7725c8-c776-4c7f-b09b-102b60ad0fd7",
   "metadata": {},
   "outputs": [],
   "source": [
    "\n",
    "# pcr2persons guppy\n",
    "threshold = 100\n",
    "input_path = '../../../projects/ONT/data/pcr2persons/output/guppy/guppy.hifi.tsv'\n",
    "output_path = '../../../projects/ONT/data/pcr2persons/output/guppy/'\n",
    "\n",
    "# pcr2persons dorado\n",
    "# threshold = 100\n",
    "# input_path = '../../../projects/ONT/data/pcr2persons/output/dorado/dorado.hifi.tsv'\n",
    "# output_path = '../../../projects/ONT/data/pcr2persons/output/dorado/'\n",
    "\n",
    "# jovan guppy\n",
    "# threshold = 100\n",
    "# input_path = '../../../projects/ONT/data/jovan/output/guppy/guppy.hifi.tsv'\n",
    "# output_path = '../../../projects/ONT/data/jovan/output/guppy/'\n",
    "\n",
    "# pcr2persons dorado\n",
    "# threshold = 100\n",
    "# input_path = '../../../projects/ONT/data/jovan/output/dorado/dorado.hifi.tsv'\n",
    "# output_path = '../../../projects/ONT/data/jovan/output/dorado/'"
   ]
  },
  {
   "cell_type": "markdown",
   "id": "9e10b4e9-5a27-45c9-be05-09e09fde1486",
   "metadata": {},
   "source": [
    "### 2.3 Constants"
   ]
  },
  {
   "cell_type": "code",
   "execution_count": 3,
   "id": "b3925436-e9fa-4035-baa8-197fa9e7d475",
   "metadata": {},
   "outputs": [],
   "source": [
    "DIRECTIONS = ['fwd', 'rev']\n",
    "\n",
    "COLUMNS = [\n",
    "    'direction',\n",
    "    'id',\n",
    "    'prefix_flank',\n",
    "    'ins',\n",
    "    'suffix_flank',\n",
    "    'prefix_flank_q',\n",
    "    'ins_q',\n",
    "    'suffix_flank_q',\n",
    "]\n",
    "\n",
    "COLUMNS_SEQ = [\n",
    "    'prefix_flank',\n",
    "    'ins',\n",
    "    'suffix_flank',\n",
    "]\n",
    "\n",
    "COLUMNS_LEN = ['len_' + s for s in COLUMNS_SEQ]"
   ]
  },
  {
   "cell_type": "markdown",
   "id": "682ce945-06df-4e4d-bf17-510e6b10f694",
   "metadata": {},
   "source": [
    "### 2.4 Functions"
   ]
  },
  {
   "cell_type": "code",
   "execution_count": 4,
   "id": "d748688e-c85e-4c6e-a32f-1aec429046bb",
   "metadata": {},
   "outputs": [],
   "source": [
    "def lengths(df, columns_seq, columns_len):\n",
    "    for s, l in zip(columns_seq, columns_len):\n",
    "        df[l] = df[s].str.len()\n",
    "\n",
    "    df['len_ins_adj'] = (df['len_ins'] + df['len_ins'] % 3) / 3\n",
    "    return df\n",
    "\n",
    "\n",
    "def load(input_path, columns, columns_seq, columns_len):\n",
    "    df = pd.read_csv(input_path, sep='\\t', header=None)\n",
    "    df.columns = columns\n",
    "    df = lengths(df, columns_seq, columns_len)\n",
    "\n",
    "    return df\n",
    "\n",
    "\n",
    "def get_abundant_lengths(df, column_seq, column_len, threshold):\n",
    "    dfg = df.groupby(column_len)[column_seq].count().reset_index()\n",
    "\n",
    "    cond = dfg[column_seq] > threshold\n",
    "    dfg = dfg[cond]\n",
    "    return dfg\n",
    "\n",
    "\n",
    "def consensus_string(strings):\n",
    "    if not strings or not all(len(strings[0]) == len(s) for s in strings):\n",
    "        raise ValueError(\"Input strings must be non-empty and of equal length\")\n",
    "\n",
    "    consensus = ''\n",
    "    for i in range(len(strings[0])):\n",
    "        # Create a dictionary to count occurrences of each character at the current position\n",
    "        char_count = {}\n",
    "        for s in strings:\n",
    "            char = s[i]\n",
    "            char_count[char] = char_count.get(char, 0) + 1\n",
    "\n",
    "        # Find the most frequent character at the current position\n",
    "        most_frequent_char = max(char_count, key=char_count.get)\n",
    "\n",
    "        # Append the most frequent character to the consensus string\n",
    "        consensus += most_frequent_char\n",
    "\n",
    "    return consensus\n",
    "\n",
    "\n",
    "def get_consensus_strings(df, abundant_lengths, column_len, column_seq, directions):\n",
    "    consensi = []\n",
    "    for l in sorted(abundant_lengths):\n",
    "        for direction in directions:\n",
    "            cond = df[column_len] == l\n",
    "            cond &= df['direction'] == direction\n",
    "            strings = list(df[cond][column_seq])\n",
    "            consensi.append([direction, l, len(strings), consensus_string(strings)])\n",
    "    \n",
    "    df_consensus = pd.DataFrame(consensi, columns=['direction', 'len_ins', 'count', 'seq'])\n",
    "    return df_consensus"
   ]
  },
  {
   "cell_type": "markdown",
   "id": "f27b2af6-ef49-467d-a659-1c4cab9f0f52",
   "metadata": {},
   "source": [
    "### 2.5 Main"
   ]
  },
  {
   "cell_type": "code",
   "execution_count": 5,
   "id": "e548c517-257a-4692-91aa-c1bd30122f1a",
   "metadata": {},
   "outputs": [],
   "source": [
    "df = load(input_path, COLUMNS, COLUMNS_SEQ, COLUMNS_LEN)\n",
    "\n",
    "dfg = get_abundant_lengths(df, 'ins', 'len_ins', threshold)\n",
    "abundant_lengths = set(dfg['len_ins'])\n",
    "\n",
    "cond = df['len_ins'].isin(abundant_lengths)\n",
    "df = df[cond]"
   ]
  },
  {
   "cell_type": "code",
   "execution_count": 6,
   "id": "1058f92d-ad3a-4c0d-a37b-d64ae92df506",
   "metadata": {},
   "outputs": [
    {
     "name": "stdout",
     "output_type": "stream",
     "text": [
      "Index(['direction', 'id', 'prefix_flank', 'ins', 'suffix_flank',\n",
      "       'prefix_flank_q', 'ins_q', 'suffix_flank_q', 'len_prefix_flank',\n",
      "       'len_ins', 'len_suffix_flank', 'len_ins_adj'],\n",
      "      dtype='object')\n"
     ]
    },
    {
     "data": {
      "text/html": [
       "<div>\n",
       "<style scoped>\n",
       "    .dataframe tbody tr th:only-of-type {\n",
       "        vertical-align: middle;\n",
       "    }\n",
       "\n",
       "    .dataframe tbody tr th {\n",
       "        vertical-align: top;\n",
       "    }\n",
       "\n",
       "    .dataframe thead th {\n",
       "        text-align: right;\n",
       "    }\n",
       "</style>\n",
       "<table border=\"1\" class=\"dataframe\">\n",
       "  <thead>\n",
       "    <tr style=\"text-align: right;\">\n",
       "      <th></th>\n",
       "      <th>direction</th>\n",
       "      <th>id</th>\n",
       "      <th>prefix_flank</th>\n",
       "      <th>ins</th>\n",
       "      <th>suffix_flank</th>\n",
       "      <th>prefix_flank_q</th>\n",
       "      <th>ins_q</th>\n",
       "      <th>suffix_flank_q</th>\n",
       "      <th>len_prefix_flank</th>\n",
       "      <th>len_ins</th>\n",
       "      <th>len_suffix_flank</th>\n",
       "      <th>len_ins_adj</th>\n",
       "    </tr>\n",
       "  </thead>\n",
       "  <tbody>\n",
       "    <tr>\n",
       "      <th>0</th>\n",
       "      <td>fwd</td>\n",
       "      <td>@90c36059-b1b8-435f-912d-533eaf89cedd</td>\n",
       "      <td>ACTGCTTGCTGGAACCGTTGGTCTTGCTCGGAGGACGAGGTCGATA...</td>\n",
       "      <td>CAGCAGCAGCAGCAG</td>\n",
       "      <td>CATTCCCGGCTGCGAGGACCCTTCAGCCCGTTCGCCGGCCGCGGAC...</td>\n",
       "      <td>$$$$&amp;,%#$&amp;&amp;)')','+*('('&amp;'&amp;./0676::85''''''&amp;%%(...</td>\n",
       "      <td>??CMDEJLHIBCD88</td>\n",
       "      <td>8&lt;ADBK==F;&gt;.-((()0../84-***,3222+,,-5546&gt;B8544...</td>\n",
       "      <td>340</td>\n",
       "      <td>15</td>\n",
       "      <td>337</td>\n",
       "      <td>5.0</td>\n",
       "    </tr>\n",
       "    <tr>\n",
       "      <th>1</th>\n",
       "      <td>rev</td>\n",
       "      <td>@f0796ffb-8fcb-4db2-af05-f4ba8a0ffd10</td>\n",
       "      <td>ATGTCCTCTGGGTTCAGTTGGTCTTGCTGTTCGCCGTTGTTCTGTC...</td>\n",
       "      <td>CTGCTGCTGCTGCTG</td>\n",
       "      <td>GGGGGATCGCAAGCCATTTCTTCTTTCGGCCAGGCTGAGGCCCTGA...</td>\n",
       "      <td>%%&amp;',,,%&amp;&amp;'&amp;%&amp;%%&amp;'+344366447424331114666731(()...</td>\n",
       "      <td>*?@FGDINJDEBDLA</td>\n",
       "      <td>AAG{?=:7+))%&amp;&amp;')335444011;5667&gt;&gt;?DCE&lt;;;&lt;EGED99...</td>\n",
       "      <td>364</td>\n",
       "      <td>15</td>\n",
       "      <td>354</td>\n",
       "      <td>5.0</td>\n",
       "    </tr>\n",
       "    <tr>\n",
       "      <th>2</th>\n",
       "      <td>rev</td>\n",
       "      <td>@f231029b-9731-4764-8e80-77ab916579da</td>\n",
       "      <td>GTTTTGTCCTCTCTTGGTTCAGTTTGGTCCTGCTGTTCGCCGTCTG...</td>\n",
       "      <td>CTGCTGCTGCTGCTGCTGCTGCTGCTGCTGCTGCTGCTGCTGCTGC...</td>\n",
       "      <td>GGGGGATCACAGACCATTTCTTCTTTCGGCCAGGCTGAGGCCCTCG...</td>\n",
       "      <td>%%(**)'%$%%%&amp;&amp;+''((*&amp;&amp;&amp;&amp;)%*//++*+&gt;;:8-,,,-+))(...</td>\n",
       "      <td>/7..//1448?@BE@ALKKHEG{Q&lt;;;::::::E{D&gt;&lt;&lt;;EHEIKI...</td>\n",
       "      <td>&lt;&lt;E&gt;;;:&gt;=&gt;300133777,,--++129;&lt;?CCEDCB=&lt;=:?43&amp;%...</td>\n",
       "      <td>353</td>\n",
       "      <td>108</td>\n",
       "      <td>334</td>\n",
       "      <td>36.0</td>\n",
       "    </tr>\n",
       "  </tbody>\n",
       "</table>\n",
       "</div>"
      ],
      "text/plain": [
       "  direction                                     id  \\\n",
       "0       fwd  @90c36059-b1b8-435f-912d-533eaf89cedd   \n",
       "1       rev  @f0796ffb-8fcb-4db2-af05-f4ba8a0ffd10   \n",
       "2       rev  @f231029b-9731-4764-8e80-77ab916579da   \n",
       "\n",
       "                                        prefix_flank  \\\n",
       "0  ACTGCTTGCTGGAACCGTTGGTCTTGCTCGGAGGACGAGGTCGATA...   \n",
       "1  ATGTCCTCTGGGTTCAGTTGGTCTTGCTGTTCGCCGTTGTTCTGTC...   \n",
       "2  GTTTTGTCCTCTCTTGGTTCAGTTTGGTCCTGCTGTTCGCCGTCTG...   \n",
       "\n",
       "                                                 ins  \\\n",
       "0                                    CAGCAGCAGCAGCAG   \n",
       "1                                    CTGCTGCTGCTGCTG   \n",
       "2  CTGCTGCTGCTGCTGCTGCTGCTGCTGCTGCTGCTGCTGCTGCTGC...   \n",
       "\n",
       "                                        suffix_flank  \\\n",
       "0  CATTCCCGGCTGCGAGGACCCTTCAGCCCGTTCGCCGGCCGCGGAC...   \n",
       "1  GGGGGATCGCAAGCCATTTCTTCTTTCGGCCAGGCTGAGGCCCTGA...   \n",
       "2  GGGGGATCACAGACCATTTCTTCTTTCGGCCAGGCTGAGGCCCTCG...   \n",
       "\n",
       "                                      prefix_flank_q  \\\n",
       "0  $$$$&,%#$&&)')','+*('('&'&./0676::85''''''&%%(...   \n",
       "1  %%&',,,%&&'&%&%%&'+344366447424331114666731(()...   \n",
       "2  %%(**)'%$%%%&&+''((*&&&&)%*//++*+>;:8-,,,-+))(...   \n",
       "\n",
       "                                               ins_q  \\\n",
       "0                                    ??CMDEJLHIBCD88   \n",
       "1                                    *?@FGDINJDEBDLA   \n",
       "2  /7..//1448?@BE@ALKKHEG{Q<;;::::::E{D><<;EHEIKI...   \n",
       "\n",
       "                                      suffix_flank_q  len_prefix_flank  \\\n",
       "0  8<ADBK==F;>.-((()0../84-***,3222+,,-5546>B8544...               340   \n",
       "1  AAG{?=:7+))%&&')335444011;5667>>?DCE<;;<EGED99...               364   \n",
       "2  <<E>;;:>=>300133777,,--++129;<?CCEDCB=<=:?43&%...               353   \n",
       "\n",
       "   len_ins  len_suffix_flank  len_ins_adj  \n",
       "0       15               337          5.0  \n",
       "1       15               354          5.0  \n",
       "2      108               334         36.0  "
      ]
     },
     "execution_count": 6,
     "metadata": {},
     "output_type": "execute_result"
    }
   ],
   "source": [
    "print(df.columns)\n",
    "df.head(3)"
   ]
  },
  {
   "cell_type": "code",
   "execution_count": 7,
   "id": "a8c9a5cc-4d14-4b1b-b31d-d5e976c673a7",
   "metadata": {},
   "outputs": [
    {
     "data": {
      "text/plain": [
       "direction\n",
       "rev    31003\n",
       "fwd    18045\n",
       "Name: count, dtype: int64"
      ]
     },
     "execution_count": 7,
     "metadata": {},
     "output_type": "execute_result"
    }
   ],
   "source": [
    "df['direction'].value_counts()"
   ]
  },
  {
   "cell_type": "code",
   "execution_count": 8,
   "id": "95a5914e-86eb-4c9b-b4ce-20a1041f3811",
   "metadata": {},
   "outputs": [
    {
     "name": "stdout",
     "output_type": "stream",
     "text": [
      "fwd - len_prefix_flank: 357 (1024)\n",
      "fwd - len_ins: 14 (2779)\n",
      "fwd - len_suffix_flank: 337 (1057)\n",
      "rev - len_prefix_flank: 364 (1912)\n",
      "rev - len_ins: 15 (8128)\n",
      "rev - len_suffix_flank: 346 (1988)\n"
     ]
    }
   ],
   "source": [
    "for direction in DIRECTIONS:\n",
    "    cond = df['direction'] == direction\n",
    "    for c in COLUMNS_LEN:\n",
    "        vc = df[cond][c].value_counts()\n",
    "        print(f\"{direction} - {c}: {vc.index[0]} ({vc.iloc[0]})\")"
   ]
  },
  {
   "cell_type": "code",
   "execution_count": 9,
   "id": "e6f74d2f-adb4-4ba5-9cb7-9781a49b4abc",
   "metadata": {},
   "outputs": [
    {
     "data": {
      "text/html": [
       "<div>\n",
       "<style scoped>\n",
       "    .dataframe tbody tr th:only-of-type {\n",
       "        vertical-align: middle;\n",
       "    }\n",
       "\n",
       "    .dataframe tbody tr th {\n",
       "        vertical-align: top;\n",
       "    }\n",
       "\n",
       "    .dataframe thead th {\n",
       "        text-align: right;\n",
       "    }\n",
       "</style>\n",
       "<table border=\"1\" class=\"dataframe\">\n",
       "  <thead>\n",
       "    <tr style=\"text-align: right;\">\n",
       "      <th></th>\n",
       "      <th>direction</th>\n",
       "      <th>len_ins</th>\n",
       "      <th>count</th>\n",
       "      <th>seq</th>\n",
       "    </tr>\n",
       "  </thead>\n",
       "  <tbody>\n",
       "    <tr>\n",
       "      <th>0</th>\n",
       "      <td>fwd</td>\n",
       "      <td>11</td>\n",
       "      <td>171</td>\n",
       "      <td>AGCAGCAGCCG</td>\n",
       "    </tr>\n",
       "    <tr>\n",
       "      <th>1</th>\n",
       "      <td>rev</td>\n",
       "      <td>11</td>\n",
       "      <td>92</td>\n",
       "      <td>CTGCTGCTGCT</td>\n",
       "    </tr>\n",
       "    <tr>\n",
       "      <th>2</th>\n",
       "      <td>fwd</td>\n",
       "      <td>12</td>\n",
       "      <td>592</td>\n",
       "      <td>GCAGCAGCAGCA</td>\n",
       "    </tr>\n",
       "  </tbody>\n",
       "</table>\n",
       "</div>"
      ],
      "text/plain": [
       "  direction  len_ins  count           seq\n",
       "0       fwd       11    171   AGCAGCAGCCG\n",
       "1       rev       11     92   CTGCTGCTGCT\n",
       "2       fwd       12    592  GCAGCAGCAGCA"
      ]
     },
     "execution_count": 9,
     "metadata": {},
     "output_type": "execute_result"
    }
   ],
   "source": [
    "dfc = get_consensus_strings(df, abundant_lengths, 'len_ins', 'ins', DIRECTIONS)\n",
    "\n",
    "dfc.to_csv(f'{output_path}consensus.tsv', index=False, sep='\\t')\n",
    "\n",
    "dfc.head(3)"
   ]
  },
  {
   "cell_type": "code",
   "execution_count": 10,
   "id": "4a82fc1f-375c-489d-9493-385c7ac39520",
   "metadata": {},
   "outputs": [
    {
     "data": {
      "image/png": "[encoded data removed]",
      "text/plain": [
       "<Figure size 1600x1000 with 1 Axes>"
      ]
     },
     "metadata": {},
     "output_type": "display_data"
    }
   ],
   "source": [
    "fig, ax = plt.subplots(figsize=(16, 10))\n",
    "gfg = sns.histplot(df, x='len_ins_adj', discrete=True, hue='direction')\n",
    "# gfg.set_xlim(0, 1000)\n",
    "gfg.set_yscale(\"log\")"
   ]
  },
  {
   "cell_type": "code",
   "execution_count": 11,
   "id": "1041b9f7-89fa-4d76-899c-61c96a4f3806",
   "metadata": {},
   "outputs": [],
   "source": [
    "# fig, ax = plt.subplots(figsize=(16, 10))\n",
    "# gfg = sns.histplot(df, x='len_prefix_flank', discrete=True, hue='direction')\n",
    "# gfg.set_xlim(0, 500)\n",
    "# gfg.set_yscale(\"log\")"
   ]
  }
 ],
 "metadata": {
  "kernelspec": {
   "display_name": "Python 3 (ipykernel)",
   "language": "python",
   "name": "python3"
  },
  "language_info": {
   "codemirror_mode": {
    "name": "ipython",
    "version": 3
   },
   "file_extension": ".py",
   "mimetype": "text/x-python",
   "name": "python",
   "nbconvert_exporter": "python",
   "pygments_lexer": "ipython3",
   "version": "3.10.1"
  }
 },
 "nbformat": 4,
 "nbformat_minor": 5
}
