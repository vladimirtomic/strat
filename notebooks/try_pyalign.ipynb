{
 "cells": [
  {
   "cell_type": "markdown",
   "id": "4826ef22-506f-402f-ba52-d0573d289422",
   "metadata": {},
   "source": [
    "# Try string2string"
   ]
  },
  {
   "cell_type": "markdown",
   "id": "2d0df575-353a-4a35-a0ff-f29a865d745f",
   "metadata": {},
   "source": [
    "## 1. Imports"
   ]
  },
  {
   "cell_type": "code",
   "execution_count": 1,
   "id": "d7faae44-da0b-49ab-838c-370bc653e2a0",
   "metadata": {},
   "outputs": [],
   "source": [
    "import numpy as np\n",
    "from string2string.alignment import SmithWaterman"
   ]
  },
  {
   "cell_type": "code",
   "execution_count": 2,
   "id": "531fd114-3c4e-490c-acd2-8599aeaea801",
   "metadata": {},
   "outputs": [
    {
     "name": "stdout",
     "output_type": "stream",
     "text": [
      "Here is the local alignment between \"ACGTCAGGGCCTCAGCCTGGCCGAAAGAAAGAAATGGTCTGTGATCCCCCCAGCAGCAGCAGCAGCATTCCCGGCTACAAGGACCCTTCGAGCCCCGTTCGCCGGCCGCGGACCC\" and \"AGAAAGAAATGGTCTGTGATCCCCC\", as computed by the Smith-Waterman algorithm:\n",
      "A | G | A | A | A | G | A | A | A | T | G | G | T | C | T | G | T | G | A | T | C | C | C | C | C\n",
      "A | G | A | A | A | G | A | A | A | T | G | G | T | C | T | G | T | G | A | T | C | C | C | C | C\n"
     ]
    }
   ],
   "source": [
    "# Import the SmithWaterman class from the alignment module\n",
    "from string2string.alignment import SmithWaterman\n",
    "\n",
    "# Create an instance of the SmithWaterman class\n",
    "sw = SmithWaterman(\n",
    "    match_weight=10, # weight for a match\n",
    "    mismatch_weight=-8, # weight for a mismatch\n",
    "    gap_weight=-9, # weight for a gap\n",
    "    gap_char='-' # character to use for a gap\n",
    ")\n",
    "\n",
    "# Define two strings (e.g., DNA sequences)\n",
    "seq1 = 'ACGTCAGGGCCTCAGCCTGGCCGAAAGAAAGAAATGGTCTGTGATCCCCCCAGCAGCAGCAGCAGCATTCCCGGCTACAAGGACCCTTCGAGCCCCGTTCGCCGGCCGCGGACCC'\n",
    "seq2 = 'AGAAAGAAATGGTCTGTGATCCCCC'\n",
    "\n",
    "# Compute the local alignment between them using the Smith-Waterman algorithm\n",
    "aligned_seq1, aligned_seq2, score_matrix = sw.get_alignment(seq1, seq2, return_score_matrix=True)\n",
    "\n",
    "# Print the alignment\n",
    "print(f'Here is the local alignment between \"{seq1}\" and \"{seq2}\", as computed by the Smith-Waterman algorithm:')\n",
    "sw.print_alignment(aligned_seq1, aligned_seq2)"
   ]
  },
  {
   "cell_type": "code",
   "execution_count": 3,
   "id": "14c635be-f261-4778-a3de-f07afe9926e6",
   "metadata": {},
   "outputs": [
    {
     "data": {
      "text/plain": [
       "'AGAAAGAAATGGTCTGTGATCCCCC'"
      ]
     },
     "execution_count": 3,
     "metadata": {},
     "output_type": "execute_result"
    }
   ],
   "source": [
    "aligned_seq1.replace(' | ', '')"
   ]
  },
  {
   "cell_type": "code",
   "execution_count": 4,
   "id": "617aec67-ba45-4913-b87d-61e3c3504e4a",
   "metadata": {},
   "outputs": [
    {
     "data": {
      "text/plain": [
       "(250.0, (array([50]),))"
      ]
     },
     "execution_count": 4,
     "metadata": {},
     "output_type": "execute_result"
    }
   ],
   "source": [
    "scores = np.fromiter((r[-1] for r in score_matrix), float)\n",
    "score_max = scores.max()\n",
    "score_max_indices = np.where(scores == score_max)\n",
    "score_max, score_max_indices"
   ]
  },
  {
   "cell_type": "code",
   "execution_count": 5,
   "id": "24007ddf-df23-40fe-b73c-21a3d9e35d93",
   "metadata": {},
   "outputs": [
    {
     "data": {
      "text/plain": [
       "array([  0.,   0.,  10.,   2.,   0.,  10.,   2.,   0.,   0.,   0.,  10.,\n",
       "        20.,  12.,  29.,  30.,  21.,  30.,  41.,  32.,  23.,  14.,  23.,\n",
       "        32.,  23.,  14.,  11.,   2.,   0.,   0.,   0.,   0.,   0.,   0.,\n",
       "         0.,   0.,   0.,   0.,  15.,  34.,  53.,  60.,  79.,  98., 117.,\n",
       "       136., 155., 174., 193., 212., 231., 250., 241., 232., 223., 214.,\n",
       "       205., 196., 187., 178., 169., 160., 151., 142., 133., 124., 115.,\n",
       "       106.,  97.,  88.,  79.,  70.,  61.,  52.,  43.,  34.,  35.,  26.,\n",
       "        17.,  26.,  17.,   8.,   4.,   0.,   0.,  10.,  20.,  30.,  31.,\n",
       "        32.,  41.,  32.,  23.,  14.,  23.,  25.,  42.,  61.,  62.,  53.,\n",
       "        44.,  53.,  44.,  35.,  27.,  28.,  19.,  28.,  37.,  28.,  23.,\n",
       "        14.,   5.,   0.,  10.,  20.,  30.])"
      ]
     },
     "execution_count": 5,
     "metadata": {},
     "output_type": "execute_result"
    }
   ],
   "source": [
    "scores"
   ]
  }
 ],
 "metadata": {
  "kernelspec": {
   "display_name": "Python 3 (ipykernel)",
   "language": "python",
   "name": "python3"
  },
  "language_info": {
   "codemirror_mode": {
    "name": "ipython",
    "version": 3
   },
   "file_extension": ".py",
   "mimetype": "text/x-python",
   "name": "python",
   "nbconvert_exporter": "python",
   "pygments_lexer": "ipython3",
   "version": "3.8.18"
  }
 },
 "nbformat": 4,
 "nbformat_minor": 5
}
