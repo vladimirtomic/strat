{
 "cells": [
  {
   "cell_type": "markdown",
   "id": "485fa301-cf65-4f43-941d-db274d59647e",
   "metadata": {},
   "source": [
    "# STRAT - Short Tandem Repeat Analysis Tool"
   ]
  },
  {
   "cell_type": "markdown",
   "id": "0ed2c6e2-0448-4013-bef0-7625ab3e3d88",
   "metadata": {},
   "source": [
    "## 1. Plot various graphs on processed reads"
   ]
  },
  {
   "cell_type": "code",
   "execution_count": 1,
   "id": "036dca77-1002-4657-bcdf-6243c7d7a1f7",
   "metadata": {},
   "outputs": [],
   "source": [
    "from csv import QUOTE_NONE\n",
    "import numpy as np\n",
    "import pandas as pd\n",
    "from PIL import Image, ImageDraw\n",
    "import seaborn as sns"
   ]
  },
  {
   "cell_type": "markdown",
   "id": "f07d055e-d7a6-47f9-8f96-6e48c4d6938e",
   "metadata": {},
   "source": [
    "## 2. Arguments"
   ]
  },
  {
   "cell_type": "code",
   "execution_count": 2,
   "id": "4893741c-d241-46f9-b5b3-87c8101265c1",
   "metadata": {},
   "outputs": [],
   "source": [
    "motif = 'CAG'\n",
    "\n",
    "# pcr2persons guppy\n",
    "# input_path = '/opt/data/workdir/pcr2persons.guppy.ontarget.processed.tsv'\n",
    "# output_path = '/opt/data/workdir/images/pcr2persons.guppy.ontarget.processed.'\n",
    "\n",
    "# pcr2persons dorado\n",
    "# input_path = '/opt/data/workdir/pcr2persons.dorado.ontarget.processed.tsv'\n",
    "# output_path = '/opt/data/workdir/images/pcr2persons.dorado.ontarget.processed.'\n",
    "\n",
    "# jovan guppy\n",
    "# input_path = '/opt/data/workdir/jovan.guppy.ontarget.processed.tsv'\n",
    "# output_path = '/opt/data/workdir/images/jovan.guppy.ontarget.processed.'\n",
    "\n",
    "# jovan dorado\n",
    "# input_path = '/opt/data/workdir/jovan.dorado.ontarget.processed.tsv'\n",
    "# output_path = '/opt/data/workdir/images/jovan.dorado.ontarget.processed.'\n",
    "\n",
    "# dm108 guppy\n",
    "# input_path = '/opt/data/workdir/dm108.guppy.ontarget.processed.tsv'\n",
    "# output_path = '/opt/data/workdir/images/dm108.guppy.ontarget.processed.'\n",
    "\n",
    "# bc3_1 guppy\n",
    "# input_path = '/opt/data/workdir/bc3_1.guppy.ontarget.processed.tsv'\n",
    "# output_path = '/opt/data/workdir/images/bc3_1.guppy.ontarget.processed.'\n",
    "\n",
    "# bc3_1 dorado\n",
    "# input_path = '/opt/data/workdir/bc3_1.dorado.ontarget.processed.tsv'\n",
    "# output_path = '/opt/data/workdir/images/bc3_1.dorado.ontarget.processed.'\n",
    "\n",
    "# bc3_2 guppy\n",
    "# input_path = '/opt/data/workdir/bc3_2.guppy.ontarget.processed.tsv'\n",
    "# output_path = '/opt/data/workdir/images/bc3_2.guppy.ontarget.processed.'\n",
    "\n",
    "# bc3_2 dorado\n",
    "# input_path = '/opt/data/workdir/bc3_2.dorado.ontarget.processed.tsv'\n",
    "# output_path = '/opt/data/workdir/images/bc3_2.dorado.ontarget.processed.'\n",
    "\n",
    "# bc3_3 guppy\n",
    "# input_path = '/opt/data/workdir/bc3_3.guppy.ontarget.processed.tsv'\n",
    "# output_path = '/opt/data/workdir/images/bc3_3.guppy.ontarget.processed.'\n",
    "\n",
    "# bc3_3 dorado\n",
    "# input_path = '/opt/data/workdir/bc3_3.dorado.ontarget.processed.tsv'\n",
    "# output_path = '/opt/data/workdir/images/bc3_3.dorado.ontarget.processed.'\n",
    "\n",
    "# bc6_1 guppy\n",
    "# input_path = '/opt/data/workdir/bc6_1.guppy.ontarget.processed.tsv'\n",
    "# output_path = '/opt/data/workdir/images/bc6_1.guppy.ontarget.processed.'\n",
    "\n",
    "# bc6_2 guppy\n",
    "# input_path = '/opt/data/workdir/bc6_2.guppy.ontarget.processed.tsv'\n",
    "# output_path = '/opt/data/workdir/images/bc6_2.guppy.ontarget.processed.'\n",
    "\n",
    "# bc6_3 guppy\n",
    "# input_path = '/opt/data/workdir/bc6_3.guppy.ontarget.processed.tsv'\n",
    "# output_path = '/opt/data/workdir/images/bc6_3.guppy.ontarget.processed.'\n",
    "\n",
    "# bc6_4 guppy\n",
    "# input_path = '/opt/data/workdir/bc6_4.guppy.ontarget.processed.tsv'\n",
    "# output_path = '/opt/data/workdir/images/bc6_4.guppy.ontarget.processed.'\n",
    "\n",
    "# bc6_5 guppy\n",
    "# input_path = '/opt/data/workdir/bc6_5.guppy.ontarget.processed.tsv'\n",
    "# output_path = '/opt/data/workdir/images/bc6_5.guppy.ontarget.processed.'\n",
    "\n",
    "# bc6_6 guppy\n",
    "# input_path = '/opt/data/workdir/bc6_6.guppy.ontarget.processed.tsv'\n",
    "# output_path = '/opt/data/workdir/images/bc6_6.guppy.ontarget.processed.'\n",
    "\n",
    "# bc6_7 guppy\n",
    "# input_path = '/opt/data/workdir/bc6_7.guppy.ontarget.processed.tsv'\n",
    "# output_path = '/opt/data/workdir/images/bc6_7.guppy.ontarget.processed.'\n",
    "\n",
    "# bc6_7 dorado\n",
    "# input_path = '/opt/data/workdir/bc6_7.dorado.ontarget.processed.tsv'\n",
    "# output_path = '/opt/data/workdir/images/bc6_7.dorado.ontarget.processed.'\n",
    "\n",
    "# bc6_8 guppy\n",
    "# input_path = '/opt/data/workdir/bc6_8.guppy.ontarget.processed.tsv'\n",
    "# output_path = '/opt/data/workdir/images/bc6_8.guppy.ontarget.processed.'\n",
    "\n",
    "# bc6_8 dorado\n",
    "# input_path = '/opt/data/workdir/bc6_8.dorado.ontarget.processed.tsv'\n",
    "# output_path = '/opt/data/workdir/images/bc6_8.dorado.ontarget.processed.'\n",
    "\n",
    "# bc6_9 guppy\n",
    "# input_path = '/opt/data/workdir/bc6_9.guppy.ontarget.processed.tsv'\n",
    "# output_path = '/opt/data/workdir/images/bc6_9.guppy.ontarget.processed.'\n",
    "\n",
    "# bc6_9 dorado\n",
    "# input_path = '/opt/data/workdir/bc6_9.dorado.ontarget.processed.tsv'\n",
    "# output_path = '/opt/data/workdir/images/bc6_9.dorado.ontarget.processed.'\n",
    "\n",
    "# bc6_10 guppy\n",
    "# input_path = '/opt/data/workdir/bc6_10.guppy.ontarget.processed.tsv'\n",
    "# output_path = '/opt/data/workdir/images/bc6_10.guppy.ontarget.processed.'\n",
    "\n",
    "# bc6_10 dorado\n",
    "# input_path = '/opt/data/workdir/bc6_10.dorado.ontarget.processed.tsv'\n",
    "# output_path = '/opt/data/workdir/images/bc6_10.dorado.ontarget.processed.'\n",
    "\n",
    "# bc6_11 guppy\n",
    "# input_path = '/opt/data/workdir/bc6_11.guppy.ontarget.processed.tsv'\n",
    "# output_path = '/opt/data/workdir/images/bc6_11.guppy.ontarget.processed.'\n",
    "\n",
    "# bc6_11 dorado\n",
    "# input_path = '/opt/data/workdir/bc6_11.dorado.ontarget.processed.tsv'\n",
    "# output_path = '/opt/data/workdir/images/bc6_11.dorado.ontarget.processed.'\n",
    "\n",
    "# bc6_12 guppy\n",
    "# input_path = '/opt/data/workdir/bc6_12.guppy.ontarget.processed.tsv'\n",
    "# output_path = '/opt/data/workdir/images/bc6_12.guppy.ontarget.processed.'\n",
    "\n",
    "# bc6_12 dorado\n",
    "input_path = '/opt/data/workdir/bc6_12.dorado.ontarget.processed.tsv'\n",
    "output_path = '/opt/data/workdir/images/bc6_12.dorado.ontarget.processed.'"
   ]
  },
  {
   "cell_type": "markdown",
   "id": "3a9fab11-2a53-42dd-847b-27ced80fa5e6",
   "metadata": {},
   "source": [
    "## 3. Constants"
   ]
  },
  {
   "cell_type": "code",
   "execution_count": 3,
   "id": "875adcf9-673e-469c-9f0d-56d87ae8036c",
   "metadata": {},
   "outputs": [],
   "source": [
    "COLORS = {\n",
    "    'A': '#3DA853',  # green\n",
    "    'C': '#4285F4',  # blue\n",
    "    'G': '#F8BC07',  # yellow\n",
    "    'T': '#EA4334',  # red\n",
    "    ' ': 'white'\n",
    "}"
   ]
  },
  {
   "cell_type": "markdown",
   "id": "6ecc5005-aba3-4a33-8c9e-54dbdeeee766",
   "metadata": {},
   "source": [
    "## 4. Functions"
   ]
  },
  {
   "cell_type": "code",
   "execution_count": 4,
   "id": "ff9cef0b-5da4-461c-af49-c95a5da01aac",
   "metadata": {},
   "outputs": [],
   "source": [
    "def prepare_for_plotting(df, col_seq, col_len, col_cnt, col_cov):\n",
    "    results = []\n",
    "    for i in range(df[col_len].max()):\n",
    "        cond = df[col_len] >= i + 1\n",
    "        row = dict(df[cond][col_seq].str[i].value_counts())\n",
    "        \n",
    "        cond = df[col_len] == i + 1\n",
    "        row[col_cnt] = sum(cond)\n",
    "        \n",
    "        cond = df[col_len] >= i + 1\n",
    "        row[col_cov] = sum(cond)\n",
    "        \n",
    "        results.append(row)\n",
    "    \n",
    "    result_df = pd.DataFrame(results).fillna(0).astype(int)\n",
    "    return result_df\n",
    "\n",
    "\n",
    "def plot(df, col_seq):\n",
    "    output_image = f'{output_path}{col_seq}.png'\n",
    "    col_len = 'len_' + col_seq\n",
    "    col_cnt = 'cnt_' + col_seq\n",
    "    col_cov = 'cov_' + col_seq\n",
    "    \n",
    "    cond = df['direction'] == 'fwd'\n",
    "    cond &= df[col_len] <= 2400\n",
    "    df_prep_fwd = prepare_for_plotting(df[cond][[col_seq, col_len]], col_seq, col_len, col_cnt, col_cov)\n",
    "\n",
    "    cond = df['direction'] == 'rev'\n",
    "    cond &= df[col_len] <= 2400\n",
    "    df_prep_rev = prepare_for_plotting(df[cond][[col_seq, col_len]], col_seq, col_len, col_cnt, col_cov)\n",
    "\n",
    "    colors = COLORS\n",
    "    color_set = colors.keys()\n",
    "    width = 24012\n",
    "    height = 1002\n",
    "    half = 500\n",
    "    image = Image.new('RGB', (width, height), 'grey')\n",
    "    draw = ImageDraw.Draw(image)\n",
    "    reach_max = max(\n",
    "        df_prep_fwd[col_cov].max(),\n",
    "        df_prep_rev[col_cov].max()\n",
    "    )\n",
    "    for i in range(2400):\n",
    "        x = i + 1\n",
    "        N = 'CAG'[i%3]\n",
    "        colors_ordered = sorted(color_set - set(N)) + [N]\n",
    "\n",
    "        if i in df_prep_fwd.index:\n",
    "            row = df_prep_fwd.iloc[i]\n",
    "            # cnt = row[col_cnt]\n",
    "            cov = row[col_cov]\n",
    "            reach = half * cov / reach_max\n",
    "            bottom = 500\n",
    "            for j, n in enumerate(colors_ordered):\n",
    "                if not n in row:\n",
    "                    continue\n",
    "                cnt = row[n]\n",
    "                freq = int((reach * row[n] / cov).round())\n",
    "                if j == len(colors_ordered) - 1:\n",
    "                    color = 'black'\n",
    "                else:\n",
    "                    color = colors[n]\n",
    "                draw.line([(10*x, bottom-freq), (10*x, bottom)], width=8, fill=color)\n",
    "                bottom -= freq\n",
    "    \n",
    "        if i in df_prep_rev.index:\n",
    "            row = df_prep_rev.iloc[i]\n",
    "            # cnt = row[col_cnt]\n",
    "            cov = row[col_cov]\n",
    "            reach = half * cov / reach_max\n",
    "            bottom = 502\n",
    "            for j, n in enumerate(colors_ordered):\n",
    "                if not n in row:\n",
    "                    continue\n",
    "                cnt = row[n]\n",
    "                freq = int((reach * row[n] / cov).round())\n",
    "                if j == len(colors_ordered) - 1:\n",
    "                    color = 'black'\n",
    "                else:\n",
    "                    color = colors[n]\n",
    "                draw.line([(10*x, bottom), (10*x, bottom+freq)], width=8, fill=color)\n",
    "                bottom += freq\n",
    "    \n",
    "        if i % 3 == 0:\n",
    "            draw.line([(10*i+5, 0), (10*i+5, height)], width=2, fill='#AAAAAA')\n",
    "    \n",
    "        if i % 30 == 0:\n",
    "            draw.line([(10*i+5, 0), (10*i+5, height)], width=2, fill='white')\n",
    "\n",
    "        if i % 300 == 0:\n",
    "            draw.line([(10*i+5, 0), (10*i+5, height)], width=2, fill='black')\n",
    "\n",
    "    image.save(output_image)"
   ]
  },
  {
   "cell_type": "markdown",
   "id": "fa211547-ff94-451c-8e86-a9fb1da9b53f",
   "metadata": {},
   "source": [
    "## 5. Tryouts"
   ]
  },
  {
   "cell_type": "code",
   "execution_count": 5,
   "id": "dc0de03c-3c03-407a-8936-ea38a270d194",
   "metadata": {},
   "outputs": [],
   "source": [
    "df = pd.read_csv(input_path, sep='\\t')"
   ]
  },
  {
   "cell_type": "code",
   "execution_count": 6,
   "id": "6687e7d7-d9fc-4591-8370-7f66e52471da",
   "metadata": {},
   "outputs": [],
   "source": [
    "cond = df['len_ins_ext_aln'] > 300\n",
    "df = df[cond]"
   ]
  },
  {
   "cell_type": "code",
   "execution_count": 7,
   "id": "0986a203-b9c9-45b0-bac7-63c1da646ba8",
   "metadata": {},
   "outputs": [
    {
     "data": {
      "text/plain": [
       "2039"
      ]
     },
     "execution_count": 7,
     "metadata": {},
     "output_type": "execute_result"
    }
   ],
   "source": [
    "df['len_ins'].max()"
   ]
  },
  {
   "cell_type": "code",
   "execution_count": 8,
   "id": "97b5d4f1-e283-4db7-abd3-654b0f2513d4",
   "metadata": {},
   "outputs": [],
   "source": [
    "plot(df, 'ins')\n",
    "plot(df, 'ins_aln')\n",
    "plot(df, 'ins_ext')\n",
    "plot(df, 'ins_ext_aln')"
   ]
  },
  {
   "cell_type": "code",
   "execution_count": 9,
   "id": "6dbd5d50-8d30-4307-a631-832fb454b130",
   "metadata": {},
   "outputs": [
    {
     "data": {
      "text/plain": [
       "<Axes: xlabel='len_ins_ext_aln', ylabel='Count'>"
      ]
     },
     "execution_count": 9,
     "metadata": {},
     "output_type": "execute_result"
    },
    {
     "data": {
      "image/png": "[encoded data removed]",
      "text/plain": [
       "<Figure size 640x480 with 1 Axes>"
      ]
     },
     "metadata": {},
     "output_type": "display_data"
    }
   ],
   "source": [
    "sns.histplot(data=df, x='len_ins_ext_aln', hue='direction', element=\"step\", stat=\"count\", common_norm=False, bins=20)"
   ]
  },
  {
   "cell_type": "code",
   "execution_count": 10,
   "id": "548a0c6c-8d74-452b-9f6c-e4cef2f45d02",
   "metadata": {},
   "outputs": [
    {
     "data": {
      "text/plain": [
       "2291"
      ]
     },
     "execution_count": 10,
     "metadata": {},
     "output_type": "execute_result"
    }
   ],
   "source": [
    "len(df)"
   ]
  },
  {
   "cell_type": "code",
   "execution_count": 11,
   "id": "a7010bc3-3066-4f01-92ea-6c35fc124523",
   "metadata": {},
   "outputs": [],
   "source": [
    "# df['ins_ext_aln'] = df['ins_ext_aln'].str.replace('CAG', '___')"
   ]
  },
  {
   "cell_type": "code",
   "execution_count": 12,
   "id": "7a10fa03-d761-4208-a927-088afb5c4540",
   "metadata": {},
   "outputs": [],
   "source": [
    "# df.sort_values(['len_ins_ext_aln', 'ins_ext_aln'])[['ins_ext_aln', 'direction', 'id']].to_csv('bc6_12.ins_ext_aln.txt', index=False)"
   ]
  },
  {
   "cell_type": "code",
   "execution_count": null,
   "id": "0483ab05-aa73-49d1-bedd-166de57ffa88",
   "metadata": {},
   "outputs": [],
   "source": []
  }
 ],
 "metadata": {
  "kernelspec": {
   "display_name": "Python 3 (ipykernel)",
   "language": "python",
   "name": "python3"
  },
  "language_info": {
   "codemirror_mode": {
    "name": "ipython",
    "version": 3
   },
   "file_extension": ".py",
   "mimetype": "text/x-python",
   "name": "python",
   "nbconvert_exporter": "python",
   "pygments_lexer": "ipython3",
   "version": "3.8.18"
  }
 },
 "nbformat": 4,
 "nbformat_minor": 5
}
