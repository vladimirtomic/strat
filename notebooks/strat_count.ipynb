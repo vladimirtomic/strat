{
 "cells": [
  {
   "cell_type": "markdown",
   "id": "42861d41-a59e-4aa7-8c95-8ec5f058d605",
   "metadata": {},
   "source": [
    "# STRAT - Short Tandem Repeat Analysis tool"
   ]
  },
  {
   "cell_type": "markdown",
   "id": "820018bd-f333-44c8-87ea-45d3c15225dc",
   "metadata": {},
   "source": [
    "## 1. Count input reads"
   ]
  },
  {
   "cell_type": "markdown",
   "id": "e0e4bbdf-5ffc-4c4e-8215-01b444b7b71e",
   "metadata": {},
   "source": [
    "### 1.1 Imports"
   ]
  },
  {
   "cell_type": "code",
   "execution_count": 1,
   "id": "66f244c0-8dbd-4100-9242-4a26eefb0578",
   "metadata": {},
   "outputs": [],
   "source": [
    "from datetime import datetime\n",
    "import gzip\n",
    "from os import listdir\n",
    "from os.path import isfile, join"
   ]
  },
  {
   "cell_type": "markdown",
   "id": "035ef85a-f2ba-4a0f-a853-74d6b71a7df1",
   "metadata": {},
   "source": [
    "### 1.2 Arguments"
   ]
  },
  {
   "cell_type": "code",
   "execution_count": 17,
   "id": "6dfc47ba-04b3-4e88-b902-f9ee059bd99d",
   "metadata": {},
   "outputs": [
    {
     "data": {
      "text/plain": [
       "[35,\n",
       " '/opt/data/bc6_6/fastq/guppy/ASS850_pass_barcode10_5000f2d4_695084d9_0.fastq.gz',\n",
       " '/opt/data/bc6_6/fastq/guppy/ASS850_pass_barcode10_5000f2d4_695084d9_9.fastq.gz']"
      ]
     },
     "execution_count": 17,
     "metadata": {},
     "output_type": "execute_result"
    }
   ],
   "source": [
    "# pcr2persons guppy\n",
    "# input_path = '/opt/data/pcr2persons/fastq/guppy/'\n",
    "\n",
    "# pcr2persons dorado\n",
    "# input_path = '/opt/data/pcr2persons/fastq/dorado/'\n",
    "\n",
    "# jovan guppy\n",
    "# input_path = '/opt/data/jovan/fastq/guppy/'\n",
    "\n",
    "# jovan dorado\n",
    "# input_path = '/opt/data/jovan/fastq/dorado/'\n",
    "\n",
    "# dm108 guppy\n",
    "# input_path = '/opt/data/dm108/fastq/guppy/'\n",
    "\n",
    "# bc3_1\n",
    "# input_path = '/opt/data/bc3_1/fastq/guppy/'\n",
    "\n",
    "# bc3_1\n",
    "# input_path = '/opt/data/bc3_1/fastq/dorado/'\n",
    "\n",
    "# bc3_2\n",
    "# input_path = '/opt/data/bc3_2/fastq/guppy/'\n",
    "\n",
    "# bc3_2\n",
    "# input_path = '/opt/data/bc3_2/fastq/dorado/'\n",
    "\n",
    "# bc3_3\n",
    "# input_path = '/opt/data/bc3_3/fastq/guppy/'\n",
    "\n",
    "# bc3_3\n",
    "# input_path = '/opt/data/bc3_3/fastq/dorado/'\n",
    "\n",
    "# bc6_1\n",
    "# input_path = '/opt/data/bc6_1/fastq/guppy/'\n",
    "\n",
    "# bc6_2\n",
    "# input_path = '/opt/data/bc6_2/fastq/guppy/'\n",
    "\n",
    "# bc6_3\n",
    "# input_path = '/opt/data/bc6_3/fastq/guppy/'\n",
    "\n",
    "# bc6_4\n",
    "# input_path = '/opt/data/bc6_4/fastq/guppy/'\n",
    "\n",
    "# bc6_5\n",
    "# input_path = '/opt/data/bc6_5/fastq/guppy/'\n",
    "\n",
    "# bc6_6\n",
    "input_path = '/opt/data/bc6_6/fastq/guppy/'\n",
    "\n",
    "fastq_paths = sorted(join(input_path, f) for f in listdir(input_path) if 'fastq' in f and isfile(join(input_path, f)))\n",
    "[len(fastq_paths), fastq_paths[0], fastq_paths[-1]]"
   ]
  },
  {
   "cell_type": "markdown",
   "id": "8e3a1c8e-5bda-4f71-b5cb-412bf443af14",
   "metadata": {},
   "source": [
    "### 1.3 Functions"
   ]
  },
  {
   "cell_type": "code",
   "execution_count": 18,
   "id": "65aa7543-e54e-48be-a616-3d6b5c2ac514",
   "metadata": {},
   "outputs": [],
   "source": [
    "def process_fastq(fastq_path):\n",
    "    print(f'{datetime.now()} - {fastq_path}')\n",
    "    fastq_name = fastq_path.split('/')[-1]\n",
    "    gzipped = fastq_name.endswith('.gz')\n",
    "    openner = gzip.open if gzipped else open\n",
    "\n",
    "    res = 0\n",
    "    with openner(fastq_path, 'rt') as f:\n",
    "        for i, line in enumerate(f):\n",
    "            line = line.strip()\n",
    "            if i%4 == 0:\n",
    "                if line.startswith('@'):\n",
    "                    id = line.split(' ')[0]\n",
    "                else:\n",
    "                    print(f'Error in {fastq_path} line {i} - not an ID line')\n",
    "                    raise\n",
    "            elif i%4 == 1:\n",
    "                seq = line\n",
    "            elif i%4 == 2:\n",
    "                if line.startswith('+'):\n",
    "                    opt = line\n",
    "                else:\n",
    "                    print(f'Error in {fastq_path} line {i} - not a + line')\n",
    "                    raise\n",
    "            elif i%4 == 3:\n",
    "                qual = line\n",
    "                res += 1\n",
    "    return res"
   ]
  },
  {
   "cell_type": "markdown",
   "id": "b01caf10-f0a9-41a3-939e-bdfc784c2a3f",
   "metadata": {},
   "source": [
    "### 1.4 Main"
   ]
  },
  {
   "cell_type": "code",
   "execution_count": 19,
   "id": "fdebbd29-1170-4063-b7a9-d81f4075826e",
   "metadata": {},
   "outputs": [
    {
     "name": "stdout",
     "output_type": "stream",
     "text": [
      "2024-03-18 21:43:04.124035 - Strat start\n",
      "2024-03-18 21:43:04.124275 - /opt/data/bc6_6/fastq/guppy/ASS850_pass_barcode10_5000f2d4_695084d9_0.fastq.gz\n",
      "2024-03-18 21:43:04.260156 - /opt/data/bc6_6/fastq/guppy/ASS850_pass_barcode10_5000f2d4_695084d9_1.fastq.gz\n",
      "2024-03-18 21:43:04.386113 - /opt/data/bc6_6/fastq/guppy/ASS850_pass_barcode10_5000f2d4_695084d9_10.fastq.gz\n",
      "2024-03-18 21:43:04.495829 - /opt/data/bc6_6/fastq/guppy/ASS850_pass_barcode10_5000f2d4_695084d9_11.fastq.gz\n",
      "2024-03-18 21:43:04.613297 - /opt/data/bc6_6/fastq/guppy/ASS850_pass_barcode10_5000f2d4_695084d9_12.fastq.gz\n",
      "2024-03-18 21:43:04.719067 - /opt/data/bc6_6/fastq/guppy/ASS850_pass_barcode10_5000f2d4_695084d9_13.fastq.gz\n",
      "2024-03-18 21:43:04.827661 - /opt/data/bc6_6/fastq/guppy/ASS850_pass_barcode10_5000f2d4_695084d9_14.fastq.gz\n",
      "2024-03-18 21:43:04.944397 - /opt/data/bc6_6/fastq/guppy/ASS850_pass_barcode10_5000f2d4_695084d9_15.fastq.gz\n",
      "2024-03-18 21:43:05.067825 - /opt/data/bc6_6/fastq/guppy/ASS850_pass_barcode10_5000f2d4_695084d9_16.fastq.gz\n",
      "2024-03-18 21:43:05.185445 - /opt/data/bc6_6/fastq/guppy/ASS850_pass_barcode10_5000f2d4_695084d9_17.fastq.gz\n",
      "2024-03-18 21:43:05.309752 - /opt/data/bc6_6/fastq/guppy/ASS850_pass_barcode10_5000f2d4_695084d9_18.fastq.gz\n",
      "2024-03-18 21:43:05.458465 - /opt/data/bc6_6/fastq/guppy/ASS850_pass_barcode10_5000f2d4_695084d9_19.fastq.gz\n",
      "2024-03-18 21:43:05.606294 - /opt/data/bc6_6/fastq/guppy/ASS850_pass_barcode10_5000f2d4_695084d9_2.fastq.gz\n",
      "2024-03-18 21:43:05.709898 - /opt/data/bc6_6/fastq/guppy/ASS850_pass_barcode10_5000f2d4_695084d9_20.fastq.gz\n",
      "2024-03-18 21:43:05.834815 - /opt/data/bc6_6/fastq/guppy/ASS850_pass_barcode10_5000f2d4_695084d9_21.fastq.gz\n",
      "2024-03-18 21:43:05.956710 - /opt/data/bc6_6/fastq/guppy/ASS850_pass_barcode10_5000f2d4_695084d9_22.fastq.gz\n",
      "2024-03-18 21:43:06.160034 - /opt/data/bc6_6/fastq/guppy/ASS850_pass_barcode10_5000f2d4_695084d9_23.fastq.gz\n",
      "2024-03-18 21:43:06.297097 - /opt/data/bc6_6/fastq/guppy/ASS850_pass_barcode10_5000f2d4_695084d9_24.fastq.gz\n",
      "2024-03-18 21:43:06.430262 - /opt/data/bc6_6/fastq/guppy/ASS850_pass_barcode10_5000f2d4_695084d9_25.fastq.gz\n",
      "2024-03-18 21:43:06.546034 - /opt/data/bc6_6/fastq/guppy/ASS850_pass_barcode10_5000f2d4_695084d9_26.fastq.gz\n",
      "2024-03-18 21:43:06.665770 - /opt/data/bc6_6/fastq/guppy/ASS850_pass_barcode10_5000f2d4_695084d9_27.fastq.gz\n",
      "2024-03-18 21:43:06.792357 - /opt/data/bc6_6/fastq/guppy/ASS850_pass_barcode10_5000f2d4_695084d9_28.fastq.gz\n",
      "2024-03-18 21:43:06.928278 - /opt/data/bc6_6/fastq/guppy/ASS850_pass_barcode10_5000f2d4_695084d9_29.fastq.gz\n",
      "2024-03-18 21:43:07.051600 - /opt/data/bc6_6/fastq/guppy/ASS850_pass_barcode10_5000f2d4_695084d9_3.fastq.gz\n",
      "2024-03-18 21:43:07.188177 - /opt/data/bc6_6/fastq/guppy/ASS850_pass_barcode10_5000f2d4_695084d9_30.fastq.gz\n",
      "2024-03-18 21:43:07.312866 - /opt/data/bc6_6/fastq/guppy/ASS850_pass_barcode10_5000f2d4_695084d9_31.fastq.gz\n",
      "2024-03-18 21:43:07.444686 - /opt/data/bc6_6/fastq/guppy/ASS850_pass_barcode10_5000f2d4_695084d9_32.fastq.gz\n",
      "2024-03-18 21:43:07.586933 - /opt/data/bc6_6/fastq/guppy/ASS850_pass_barcode10_5000f2d4_695084d9_33.fastq.gz\n",
      "2024-03-18 21:43:07.724509 - /opt/data/bc6_6/fastq/guppy/ASS850_pass_barcode10_5000f2d4_695084d9_34.fastq.gz\n",
      "2024-03-18 21:43:07.751147 - /opt/data/bc6_6/fastq/guppy/ASS850_pass_barcode10_5000f2d4_695084d9_4.fastq.gz\n",
      "2024-03-18 21:43:07.879301 - /opt/data/bc6_6/fastq/guppy/ASS850_pass_barcode10_5000f2d4_695084d9_5.fastq.gz\n",
      "2024-03-18 21:43:08.031820 - /opt/data/bc6_6/fastq/guppy/ASS850_pass_barcode10_5000f2d4_695084d9_6.fastq.gz\n",
      "2024-03-18 21:43:08.155191 - /opt/data/bc6_6/fastq/guppy/ASS850_pass_barcode10_5000f2d4_695084d9_7.fastq.gz\n",
      "2024-03-18 21:43:08.275310 - /opt/data/bc6_6/fastq/guppy/ASS850_pass_barcode10_5000f2d4_695084d9_8.fastq.gz\n",
      "2024-03-18 21:43:08.418921 - /opt/data/bc6_6/fastq/guppy/ASS850_pass_barcode10_5000f2d4_695084d9_9.fastq.gz\n",
      "2024-03-18 21:43:08.539087 - Strat total: 34161\n",
      "2024-03-18 21:43:08.539687 - Strat end\n"
     ]
    }
   ],
   "source": [
    "print(f'{datetime.now()} - Strat start')\n",
    "\n",
    "total = 0\n",
    "\n",
    "for fastq_path in fastq_paths:\n",
    "    count = process_fastq(fastq_path)\n",
    "    total += count\n",
    "\n",
    "print(f'{datetime.now()} - Strat total: {total}')\n",
    "print(f'{datetime.now()} - Strat end')"
   ]
  }
 ],
 "metadata": {
  "kernelspec": {
   "display_name": "Python 3 (ipykernel)",
   "language": "python",
   "name": "python3"
  },
  "language_info": {
   "codemirror_mode": {
    "name": "ipython",
    "version": 3
   },
   "file_extension": ".py",
   "mimetype": "text/x-python",
   "name": "python",
   "nbconvert_exporter": "python",
   "pygments_lexer": "ipython3",
   "version": "3.8.18"
  }
 },
 "nbformat": 4,
 "nbformat_minor": 5
}
