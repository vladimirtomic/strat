{
 "cells": [
  {
   "cell_type": "markdown",
   "id": "42861d41-a59e-4aa7-8c95-8ec5f058d605",
   "metadata": {},
   "source": [
    "# STRAT - Short Tandem Repeat Analysis tool"
   ]
  },
  {
   "cell_type": "markdown",
   "id": "820018bd-f333-44c8-87ea-45d3c15225dc",
   "metadata": {},
   "source": [
    "## 1. Count input reads"
   ]
  },
  {
   "cell_type": "markdown",
   "id": "e0e4bbdf-5ffc-4c4e-8215-01b444b7b71e",
   "metadata": {},
   "source": [
    "### 1.1 Imports"
   ]
  },
  {
   "cell_type": "code",
   "execution_count": 1,
   "id": "66f244c0-8dbd-4100-9242-4a26eefb0578",
   "metadata": {},
   "outputs": [],
   "source": [
    "from datetime import datetime\n",
    "import gzip\n",
    "from os import listdir\n",
    "from os.path import isfile, join"
   ]
  },
  {
   "cell_type": "markdown",
   "id": "035ef85a-f2ba-4a0f-a853-74d6b71a7df1",
   "metadata": {},
   "source": [
    "### 1.2 Arguments"
   ]
  },
  {
   "cell_type": "code",
   "execution_count": 2,
   "id": "6dfc47ba-04b3-4e88-b902-f9ee059bd99d",
   "metadata": {},
   "outputs": [
    {
     "data": {
      "text/plain": [
       "[1,\n",
       " '/opt/data/bc3_3/fastq/dorado/barkod3.clean.fastq',\n",
       " '/opt/data/bc3_3/fastq/dorado/barkod3.clean.fastq']"
      ]
     },
     "execution_count": 2,
     "metadata": {},
     "output_type": "execute_result"
    }
   ],
   "source": [
    "# pcr2persons guppy\n",
    "# input_path = '/opt/data/pcr2persons/fastq/guppy/'\n",
    "\n",
    "# pcr2persons dorado\n",
    "# input_path = '/opt/data/pcr2persons/fastq/dorado/'\n",
    "\n",
    "# jovan guppy\n",
    "# input_path = '/opt/data/jovan/fastq/guppy/'\n",
    "\n",
    "# jovan dorado\n",
    "# input_path = '/opt/data/jovan/fastq/dorado/'\n",
    "\n",
    "# dm108 guppy\n",
    "# input_path = '/opt/data/dm108/fastq/guppy/'\n",
    "\n",
    "# bc3_1\n",
    "# input_path = '/opt/data/bc3_1/fastq/guppy/'\n",
    "\n",
    "# bc3_1\n",
    "# input_path = '/opt/data/bc3_1/fastq/dorado/'\n",
    "\n",
    "# bc3_2\n",
    "# input_path = '/opt/data/bc3_2/fastq/guppy/'\n",
    "\n",
    "# bc3_2\n",
    "# input_path = '/opt/data/bc3_2/fastq/dorado/'\n",
    "\n",
    "# bc3_3\n",
    "# input_path = '/opt/data/bc3_3/fastq/guppy/'\n",
    "\n",
    "# bc3_3\n",
    "input_path = '/opt/data/bc3_3/fastq/dorado/'\n",
    "\n",
    "fastq_paths = sorted(join(input_path, f) for f in listdir(input_path) if 'fastq' in f and isfile(join(input_path, f)))\n",
    "[len(fastq_paths), fastq_paths[0], fastq_paths[-1]]"
   ]
  },
  {
   "cell_type": "markdown",
   "id": "8e3a1c8e-5bda-4f71-b5cb-412bf443af14",
   "metadata": {},
   "source": [
    "### 1.3 Functions"
   ]
  },
  {
   "cell_type": "code",
   "execution_count": 3,
   "id": "65aa7543-e54e-48be-a616-3d6b5c2ac514",
   "metadata": {},
   "outputs": [],
   "source": [
    "def process_fastq(fastq_path):\n",
    "    print(f'{datetime.now()} - {fastq_path}')\n",
    "    fastq_name = fastq_path.split('/')[-1]\n",
    "    gzipped = fastq_name.endswith('.gz')\n",
    "    openner = gzip.open if gzipped else open\n",
    "\n",
    "    res = 0\n",
    "    with openner(fastq_path, 'rt') as f:\n",
    "        for i, line in enumerate(f):\n",
    "            line = line.strip()\n",
    "            if i%4 == 0:\n",
    "                if line.startswith('@'):\n",
    "                    id = line.split(' ')[0]\n",
    "                else:\n",
    "                    print(f'Error in {fastq_path} line {i} - not an ID line')\n",
    "                    raise\n",
    "            elif i%4 == 1:\n",
    "                seq = line\n",
    "            elif i%4 == 2:\n",
    "                if line.startswith('+'):\n",
    "                    opt = line\n",
    "                else:\n",
    "                    print(f'Error in {fastq_path} line {i} - not a + line')\n",
    "                    raise\n",
    "            elif i%4 == 3:\n",
    "                qual = line\n",
    "                res += 1\n",
    "    return res"
   ]
  },
  {
   "cell_type": "markdown",
   "id": "b01caf10-f0a9-41a3-939e-bdfc784c2a3f",
   "metadata": {},
   "source": [
    "### 1.4 Main"
   ]
  },
  {
   "cell_type": "code",
   "execution_count": 4,
   "id": "fdebbd29-1170-4063-b7a9-d81f4075826e",
   "metadata": {},
   "outputs": [
    {
     "name": "stdout",
     "output_type": "stream",
     "text": [
      "2024-02-25 11:01:54.817099 - Strat start\n",
      "2024-02-25 11:01:54.817381 - /opt/data/bc3_3/fastq/dorado/barkod3.clean.fastq\n",
      "2024-02-25 11:01:54.975672 - Strat total: 15049\n",
      "2024-02-25 11:01:54.975773 - Strat end\n"
     ]
    }
   ],
   "source": [
    "print(f'{datetime.now()} - Strat start')\n",
    "\n",
    "total = 0\n",
    "\n",
    "for fastq_path in fastq_paths:\n",
    "    count = process_fastq(fastq_path)\n",
    "    total += count\n",
    "\n",
    "print(f'{datetime.now()} - Strat total: {total}')\n",
    "print(f'{datetime.now()} - Strat end')"
   ]
  }
 ],
 "metadata": {
  "kernelspec": {
   "display_name": "Python 3 (ipykernel)",
   "language": "python",
   "name": "python3"
  },
  "language_info": {
   "codemirror_mode": {
    "name": "ipython",
    "version": 3
   },
   "file_extension": ".py",
   "mimetype": "text/x-python",
   "name": "python",
   "nbconvert_exporter": "python",
   "pygments_lexer": "ipython3",
   "version": "3.8.18"
  }
 },
 "nbformat": 4,
 "nbformat_minor": 5
}
