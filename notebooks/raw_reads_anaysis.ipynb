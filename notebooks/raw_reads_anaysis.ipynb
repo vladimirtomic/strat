{
 "cells": [
  {
   "cell_type": "markdown",
   "id": "ef601a0e-3cd5-4691-9fe8-a42282f3b319",
   "metadata": {},
   "source": [
    "# Raw reads analysis"
   ]
  },
  {
   "cell_type": "markdown",
   "id": "f534170c-44be-4fca-bdcd-50abbb85d290",
   "metadata": {},
   "source": [
    "## Imports"
   ]
  },
  {
   "cell_type": "code",
   "execution_count": 1,
   "id": "124ad477-a4f6-4c43-bd95-b5d5d17f3ef1",
   "metadata": {},
   "outputs": [],
   "source": [
    "import common\n",
    "import pandas as pd\n",
    "import seaborn as sns"
   ]
  },
  {
   "cell_type": "markdown",
   "id": "48e93c5a-d16c-4f02-b4a0-da90644fac36",
   "metadata": {},
   "source": [
    "## Constants"
   ]
  },
  {
   "cell_type": "code",
   "execution_count": 2,
   "id": "984eee50-2af5-4300-8e1e-cf0f04ffa16a",
   "metadata": {},
   "outputs": [],
   "source": [
    "COLORS = {\n",
    "    '6': '#7777FF',  # light blue\n",
    "    '5': '#5555FF',  # blue\n",
    "    '4': '#FF5555',  # red\n",
    "    '3': '#FF7777',  # light red\n",
    "    '0': '#FFFFFF',  # white\n",
    "    '_': '#333333',  # dark grey\n",
    "}"
   ]
  },
  {
   "cell_type": "markdown",
   "id": "bad22b07-6bf2-4f52-8ddb-987571a4b544",
   "metadata": {},
   "source": [
    "## Arguments"
   ]
  },
  {
   "cell_type": "code",
   "execution_count": 3,
   "id": "0135b070-2554-4d81-affb-69cc35bda431",
   "metadata": {},
   "outputs": [],
   "source": [
    "folder = '/opt/data_out/fastq_tsv/'\n",
    "callers = [\n",
    "    # 'dorado_hac',\n",
    "    # 'dorado_sup',\n",
    "    'guppy',\n",
    "]\n",
    "\n",
    "datasets = [\n",
    "    # 'bc3_01',\n",
    "    # 'bc3_02',\n",
    "    # 'bc3_03',\n",
    "    'bc6_05',\n",
    "    'bc6_06',\n",
    "    'bc6_07',\n",
    "    'bc6_08',\n",
    "    'bc6_09',\n",
    "    'bc6_10',\n",
    "    'bc6_2_05',\n",
    "    'bc6_2_06',\n",
    "    'bc6_2_07',\n",
    "    'bc6_2_08',\n",
    "    'bc6_2_09',\n",
    "    'bc6_2_10',\n",
    "    # 'bc7_1_18',\n",
    "    # 'bc7_1_19',\n",
    "    # 'bc7_1_20',\n",
    "    # 'bc7_1_21',\n",
    "    # 'bc7_1_22',\n",
    "    # 'bc7_1_23',\n",
    "    # 'bc7_1_24',\n",
    "    # 'bc7_2_18',\n",
    "    # 'bc7_2_19',\n",
    "    # 'bc7_2_20',\n",
    "    # 'bc7_2_21',\n",
    "    # 'bc7_2_22',\n",
    "    # 'bc7_2_23',\n",
    "    # 'bc7_2_24',\n",
    "    # 'sca8_1_11',\n",
    "    # 'sca8_1_12',\n",
    "    # 'sca8_1_15',\n",
    "    # 'sca8_1_16',\n",
    "    # 'sca8_1_19',\n",
    "    # 'sca8_1_20',\n",
    "    # 'sca8_2_11',\n",
    "    # 'sca8_2_12',\n",
    "    # 'sca8_2_15',\n",
    "    # 'sca8_2_16',\n",
    "    # 'sca8_2_19',\n",
    "    # 'sca8_2_20',\n",
    "]"
   ]
  },
  {
   "cell_type": "markdown",
   "id": "c2e6ad93-e04b-465e-9861-6f125b216d98",
   "metadata": {},
   "source": [
    "## Functions"
   ]
  },
  {
   "cell_type": "code",
   "execution_count": 4,
   "id": "e5b4be00-6727-464e-96f3-8048c63fda8f",
   "metadata": {},
   "outputs": [],
   "source": [
    "def plot_waterfall(df, col_len, col_seq, output_path):\n",
    "    width = df[col_len].max()\n",
    "    height = len(df)\n",
    "\n",
    "    inss = list(df[col_seq])\n",
    "\n",
    "    image = common.Image.new('RGB', (width, height), 'grey')\n",
    "    draw = common.ImageDraw.Draw(image)\n",
    "    bottom = 0\n",
    "    for i, seq in enumerate(inss):\n",
    "        y = i\n",
    "        half = len(seq) / 2\n",
    "        # left = 0\n",
    "        left = (width - len(seq)) // 2\n",
    "        # right = width - len(seq)\n",
    "        for j, n in enumerate(seq):\n",
    "            color = COLORS[n]\n",
    "            draw.point([left+j, i], fill=color)\n",
    "            # if j < half:\n",
    "            #     draw.point([left+j, i], fill=color)\n",
    "            # else:\n",
    "            #     draw.point([right+j, i], fill=color)\n",
    "\n",
    "    image.save(output_path)"
   ]
  },
  {
   "cell_type": "code",
   "execution_count": 5,
   "id": "9abf8be9-55bb-48bc-89d2-dea1da5cc7af",
   "metadata": {},
   "outputs": [],
   "source": [
    "def process_fastq_tsv(dataset, caller, folder, sample_size=4000):\n",
    "    path = f'{folder}{dataset}_{caller}.fastq.tsv'\n",
    "    out_path = f'{folder}{dataset}_{caller}.png'\n",
    "    try:\n",
    "        df = pd.read_csv(path, sep='\\t', header=None)\n",
    "    except Exception as e:\n",
    "        print(f'{dataset} - {caller}: {e}')\n",
    "        return\n",
    "\n",
    "    df.columns = ['seq', 'id']\n",
    "    df['len_seq'] = df['seq'].str.len()\n",
    "\n",
    "    cond = df['len_seq'] < 1500\n",
    "    df = df[cond]\n",
    "\n",
    "    df['plt_seq'] = df['seq'].copy()\n",
    "    df['plt_seq'] = df['plt_seq'].str.replace('CAGCAG', '666666')\n",
    "    df['plt_seq'] = df['plt_seq'].str.replace('CTGCTG', '333333')\n",
    "    df['plt_seq'] = df['plt_seq'].str.replace('CAG', '555')\n",
    "    df['plt_seq'] = df['plt_seq'].str.replace('CTG', '444')\n",
    "\n",
    "    # df['plt_seq'] = df['plt_seq'].str.replace('CCCCC', '00000')\n",
    "    # df['plt_seq'] = df['plt_seq'].str.replace('GGGGG', '00000')\n",
    "\n",
    "    df['plt_seq'] = df['plt_seq'].str.replace('A', '_')\n",
    "    df['plt_seq'] = df['plt_seq'].str.replace('T', '_')\n",
    "    df['plt_seq'] = df['plt_seq'].str.replace('C', '_')\n",
    "    df['plt_seq'] = df['plt_seq'].str.replace('G', '_')\n",
    "\n",
    "    df['fwd'] = df['plt_seq'].str.count('6')\n",
    "    df['rev'] = df['plt_seq'].str.count('3')\n",
    "    df['dir'] = df['fwd'] - df['rev']\n",
    "\n",
    "    cond = df['fwd'] > 3\n",
    "    cond |= df['rev'] > 3\n",
    "    df = df[cond]\n",
    "\n",
    "    plt_df = df.sample(sample_size, replace=True)\n",
    "\n",
    "    mean = 0\n",
    "    # mean = plt_df['dir'].mean()\n",
    "    cond = plt_df['dir'] > mean\n",
    "    plt_df_fwd = plt_df[cond].sort_values(['len_seq', 'fwd', 'seq'])\n",
    "\n",
    "    cond = plt_df['dir'] <= -1*mean\n",
    "    plt_df_rev = plt_df[cond].sort_values(['len_seq', 'rev', 'seq'], ascending=[False, False, False])\n",
    "\n",
    "    plt_df = pd.concat([plt_df_fwd, plt_df_rev])\n",
    "\n",
    "    plot_waterfall(plt_df, 'len_seq', 'plt_seq', out_path)"
   ]
  },
  {
   "cell_type": "code",
   "execution_count": 6,
   "id": "f1e92fca-9ae0-479f-8391-0a35748c8707",
   "metadata": {},
   "outputs": [],
   "source": [
    "for dataset in datasets:\n",
    "    for caller in callers:\n",
    "        process_fastq_tsv(dataset, caller, folder, sample_size=4000)"
   ]
  },
  {
   "cell_type": "markdown",
   "id": "4829179f-0c0f-4999-a2c7-eea7f8d9e008",
   "metadata": {},
   "source": [
    "## Try stuff out"
   ]
  },
  {
   "cell_type": "code",
   "execution_count": 7,
   "id": "18b65971-4628-4d16-872c-1d0b34644db3",
   "metadata": {},
   "outputs": [
    {
     "ename": "NameError",
     "evalue": "name 'stop' is not defined",
     "output_type": "error",
     "traceback": [
      "\u001b[0;31m---------------------------------------------------------------------------\u001b[0m",
      "\u001b[0;31mNameError\u001b[0m                                 Traceback (most recent call last)",
      "Cell \u001b[0;32mIn[7], line 1\u001b[0m\n\u001b[0;32m----> 1\u001b[0m \u001b[43mstop\u001b[49m\n",
      "\u001b[0;31mNameError\u001b[0m: name 'stop' is not defined"
     ]
    }
   ],
   "source": [
    "stop"
   ]
  },
  {
   "cell_type": "code",
   "execution_count": null,
   "id": "a6da6d0f-7fd6-4e2e-8ddc-ca7cad56614d",
   "metadata": {},
   "outputs": [],
   "source": [
    "s = 'ABCABCABC'\n",
    "import regex\n",
    "\n",
    "regex.findall('AB', s)"
   ]
  },
  {
   "cell_type": "code",
   "execution_count": null,
   "id": "2c1ea569-1705-4f9d-a4d0-5ded112b93b3",
   "metadata": {},
   "outputs": [],
   "source": [
    "def find_indices(haystack, needle):\n",
    "    indices = []\n",
    "    \n",
    "    if not haystack or not needle or len(needle) > len(haystack):\n",
    "        return indices\n",
    "    \n",
    "    idx = -1\n",
    "    while True:\n",
    "        idx = haystack.find(needle, idx+1)\n",
    "        print(idx)\n",
    "        if idx == -1:\n",
    "            break\n",
    "        else:\n",
    "            indices.append(idx)\n",
    "\n",
    "    return indices"
   ]
  },
  {
   "cell_type": "code",
   "execution_count": null,
   "id": "7944d65e-8c8a-4591-a107-13567b4cd9ce",
   "metadata": {},
   "outputs": [],
   "source": [
    "s.find('G', 2)"
   ]
  },
  {
   "cell_type": "code",
   "execution_count": null,
   "id": "130978c9-7e2b-4972-bb2e-0ae0e6e7a625",
   "metadata": {},
   "outputs": [],
   "source": [
    "find_indices(s, 'AB')"
   ]
  },
  {
   "cell_type": "markdown",
   "id": "234833af-e03d-4926-ab82-233ffdce7245",
   "metadata": {},
   "source": [
    "## Most common read"
   ]
  },
  {
   "cell_type": "code",
   "execution_count": null,
   "id": "0b00dfc2-2c79-4b8d-9321-5567e5c037d9",
   "metadata": {},
   "outputs": [],
   "source": [
    "path = f'{folder}bc3_01_guppy.fastq.tsv'\n",
    "datasets = [\n",
    "    'bc6_2_05_guppy.fastq.tsv',\n",
    "    # 'bc3_02_guppy.fastq.tsv',\n",
    "    # 'bc3_03_guppy.fastq.tsv',\n",
    "]\n",
    "\n",
    "dfs = []\n",
    "\n",
    "for dataset in datasets:\n",
    "    path = f'{folder}{dataset}'\n",
    "    df = pd.read_csv(path, sep='\\t', header=None)\n",
    "    df.columns = ['seq', 'id']\n",
    "    df['len_seq'] = df['seq'].str.len()\n",
    "    \n",
    "    df['plt_seq'] = df['seq']\n",
    "    \n",
    "    df['plt_seq'] = df['plt_seq'].str.replace('CAG', '555')\n",
    "    df['plt_seq'] = df['plt_seq'].str.replace('CTG', '444')\n",
    "    \n",
    "    df['plt_seq'] = df['plt_seq'].str.replace('A', '_')\n",
    "    df['plt_seq'] = df['plt_seq'].str.replace('T', '_')\n",
    "    df['plt_seq'] = df['plt_seq'].str.replace('C', '_')\n",
    "    df['plt_seq'] = df['plt_seq'].str.replace('G', '_')\n",
    "    \n",
    "    df['fwd'] = df['plt_seq'].str.count('555')\n",
    "    df['rev'] = df['plt_seq'].str.count('444')\n",
    "    df['dir'] = df['fwd'] - df['rev']\n",
    "\n",
    "    dfs.append(df)\n",
    "\n",
    "dfs = pd.concat(dfs)"
   ]
  },
  {
   "cell_type": "code",
   "execution_count": null,
   "id": "2017f1b4-cb5c-4cb2-b306-ec7172926046",
   "metadata": {},
   "outputs": [],
   "source": [
    "sns.scatterplot(dfs, x='fwd', y='rev')"
   ]
  },
  {
   "cell_type": "code",
   "execution_count": null,
   "id": "c8c26b76-07e9-45a0-936f-3116dae1f40c",
   "metadata": {},
   "outputs": [],
   "source": [
    "df['dir'].hist(bins=100)"
   ]
  },
  {
   "cell_type": "code",
   "execution_count": null,
   "id": "39c52790-c439-47da-851d-248eca3243cd",
   "metadata": {},
   "outputs": [],
   "source": [
    "dfc = df.groupby('seq').count().reset_index()"
   ]
  },
  {
   "cell_type": "code",
   "execution_count": null,
   "id": "1e80b1b5-aaae-46af-929d-16d35b225568",
   "metadata": {},
   "outputs": [],
   "source": [
    "dfc.sort_values('len_seq', ascending=False)"
   ]
  },
  {
   "cell_type": "code",
   "execution_count": null,
   "id": "20f65e69-9528-4bce-be1e-9a7ff28c5b86",
   "metadata": {},
   "outputs": [],
   "source": [
    "dfs"
   ]
  },
  {
   "cell_type": "code",
   "execution_count": null,
   "id": "79d3a5b4-7374-4087-a1bf-014d67ffe62a",
   "metadata": {},
   "outputs": [],
   "source": [
    "def count_kmers(seq):\n",
    "    len_kmer = 9\n",
    "    kmers = {}\n",
    "    \n",
    "    for i in range(len(seq) - len_kmer - 100 + 1):\n",
    "        kmer = seq[i+100:i+100+len_kmer]\n",
    "        if kmer in kmers:\n",
    "            kmers[kmer] += 1\n",
    "        else:\n",
    "            kmers[kmer] = 1\n",
    "\n",
    "    return {k: kmers[k] for k in kmers if kmers[k] == 1}"
   ]
  },
  {
   "cell_type": "code",
   "execution_count": null,
   "id": "ddf53bf4-fded-4413-928f-a2bebb39b611",
   "metadata": {},
   "outputs": [],
   "source": [
    "seq = 'ABCABCABCABCABCABC'\n",
    "count_kmers(seq)"
   ]
  },
  {
   "cell_type": "code",
   "execution_count": null,
   "id": "690f6c5d-a8d6-449f-ae2b-ecef16a9a6f0",
   "metadata": {},
   "outputs": [],
   "source": [
    "kmers = dfs.apply(lambda x: count_kmers(x['seq']), axis=1)"
   ]
  },
  {
   "cell_type": "code",
   "execution_count": null,
   "id": "c9afc953-9dcd-448f-a3f0-6062316bde8d",
   "metadata": {},
   "outputs": [],
   "source": [
    "len(kmers[0])"
   ]
  },
  {
   "cell_type": "code",
   "execution_count": null,
   "id": "aa4c132c-afbf-43b5-b443-f8eac9ff2e79",
   "metadata": {},
   "outputs": [],
   "source": [
    "from collections import Counter\n",
    "\n",
    "merged_dict = Counter()\n",
    "\n",
    "for k in kmers:\n",
    "    merged_dict.update(k)"
   ]
  },
  {
   "cell_type": "code",
   "execution_count": null,
   "id": "7cb83f12-cf66-4ccc-9fa0-d5f525c85419",
   "metadata": {},
   "outputs": [],
   "source": [
    "len(merged_dict)"
   ]
  },
  {
   "cell_type": "code",
   "execution_count": null,
   "id": "962bf423-eef5-4068-bdd1-a8cacc04686e",
   "metadata": {},
   "outputs": [],
   "source": [
    "top_5 = sorted(merged_dict.items(), key=lambda x: x[1], reverse=True)[:5]"
   ]
  },
  {
   "cell_type": "code",
   "execution_count": null,
   "id": "5ad4c61b-9e9c-4d0d-866b-37da1c9d04f7",
   "metadata": {},
   "outputs": [],
   "source": [
    "top_5"
   ]
  },
  {
   "cell_type": "code",
   "execution_count": null,
   "id": "2dc5caf8-4796-467f-9b19-3ce156cadb9f",
   "metadata": {},
   "outputs": [],
   "source": []
  }
 ],
 "metadata": {
  "kernelspec": {
   "display_name": "Python 3 (ipykernel)",
   "language": "python",
   "name": "python3"
  },
  "language_info": {
   "codemirror_mode": {
    "name": "ipython",
    "version": 3
   },
   "file_extension": ".py",
   "mimetype": "text/x-python",
   "name": "python",
   "nbconvert_exporter": "python",
   "pygments_lexer": "ipython3",
   "version": "3.8.18"
  }
 },
 "nbformat": 4,
 "nbformat_minor": 5
}
