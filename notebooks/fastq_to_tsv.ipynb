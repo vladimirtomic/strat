{
 "cells": [
  {
   "cell_type": "markdown",
   "id": "90c03a2e-5b99-4d90-bd25-887851415f08",
   "metadata": {},
   "source": [
    "# FASTQ to TSV"
   ]
  },
  {
   "cell_type": "markdown",
   "id": "df64784f-8a7f-4e95-ab9b-4de83007bc46",
   "metadata": {},
   "source": [
    "## Arguments"
   ]
  },
  {
   "cell_type": "code",
   "execution_count": 1,
   "id": "3acd2b34-c9fe-400d-b9ef-a5bd8d6a28a2",
   "metadata": {},
   "outputs": [],
   "source": [
    "fastqs = '/opt/data/'\n",
    "outdir = '/opt/data_out/fastq_tsv/'\n",
    "\n",
    "callers = [\n",
    "    # 'dorado',\n",
    "    # 'dorado_hac',\n",
    "    # 'dorado_sup',\n",
    "    'guppy',\n",
    "]\n",
    "\n",
    "datasets = [\n",
    "    # 'bc3_01',\n",
    "    # 'bc3_02',\n",
    "    # 'bc3_03',\n",
    "    # 'bc6_05',\n",
    "    # 'bc6_06',\n",
    "    # 'bc6_07',\n",
    "    # 'bc6_08',\n",
    "    # 'bc6_09',\n",
    "    # 'bc6_10',\n",
    "    # 'bc6_2_05',\n",
    "    # 'bc6_2_06',\n",
    "    # 'bc6_2_07',\n",
    "    # 'bc6_2_08',\n",
    "    # 'bc6_2_09',\n",
    "    # 'bc6_2_10',\n",
    "    # 'bc6_3_05',\n",
    "    # 'bc6_3_06',\n",
    "    # 'bc6_3_07',\n",
    "    # 'bc6_3_08',\n",
    "    # 'bc6_3_09',\n",
    "    # 'bc6_3_10',\n",
    "    'bc6_4_05',\n",
    "    'bc6_4_06',\n",
    "    'bc6_4_07',\n",
    "    'bc6_4_08',\n",
    "    'bc6_4_09',\n",
    "    'bc6_4_10',\n",
    "    # 'bc7_1_18',\n",
    "    # 'bc7_1_19',\n",
    "    # 'bc7_1_20',\n",
    "    # 'bc7_1_21',\n",
    "    # 'bc7_1_22',\n",
    "    # 'bc7_1_23',\n",
    "    # 'bc7_1_24',\n",
    "    # 'bc7_2_18',\n",
    "    # 'bc7_2_19',\n",
    "    # 'bc7_2_20',\n",
    "    # 'bc7_2_21',\n",
    "    # 'bc7_2_22',\n",
    "    # 'bc7_2_23',\n",
    "    # 'bc7_2_24',\n",
    "    # 'sca8_1_11',\n",
    "    # 'sca8_1_12',\n",
    "    # 'sca8_1_15',\n",
    "    # 'sca8_1_16',\n",
    "    # 'sca8_1_19',\n",
    "    # 'sca8_1_20',\n",
    "    # 'sca8_2_11',\n",
    "    # 'sca8_2_12',\n",
    "    # 'sca8_2_15',\n",
    "    # 'sca8_2_16',\n",
    "    # 'sca8_2_19',\n",
    "    # 'sca8_2_20',\n",
    "]"
   ]
  },
  {
   "cell_type": "markdown",
   "id": "377fb9d1-d74a-4ba4-98b0-fe644bbe8565",
   "metadata": {},
   "source": [
    "## Imports"
   ]
  },
  {
   "cell_type": "code",
   "execution_count": 2,
   "id": "7312bae3-ce76-4f45-8db2-4ce5e53513df",
   "metadata": {},
   "outputs": [],
   "source": [
    "import gzip\n",
    "from os import listdir\n",
    "from os.path import isfile, join"
   ]
  },
  {
   "cell_type": "markdown",
   "id": "a2e9a059-8c13-4c1b-ade5-a847df82bdd2",
   "metadata": {},
   "source": [
    "## Functions"
   ]
  },
  {
   "cell_type": "code",
   "execution_count": 3,
   "id": "80941d72-f7ff-4381-84a9-52e478f8ee3a",
   "metadata": {},
   "outputs": [],
   "source": [
    "def read_fastq(fastq_path):\n",
    "    fastq_name = fastq_path.split('/')[-1]\n",
    "    gzipped = fastq_name.endswith('.gz')\n",
    "    openner = gzip.open if gzipped else open\n",
    "\n",
    "    reads = []\n",
    "\n",
    "    if not isfile(fastq_path):\n",
    "        return reads\n",
    "\n",
    "    with openner(fastq_path, 'rt') as f:\n",
    "        for i, line in enumerate(f):\n",
    "            line = line.strip()\n",
    "            if i%4 == 0:\n",
    "                if line.startswith('@'):\n",
    "                    id = line.split(' ')[0]\n",
    "                else:\n",
    "                    print(f'Error in {fastq_path} line {i} - not an ID line')\n",
    "                    raise\n",
    "            elif i%4 == 1:\n",
    "                seq = line\n",
    "            elif i%4 == 2:\n",
    "                if line.startswith('+'):\n",
    "                    opt = line\n",
    "                else:\n",
    "                    print(f'Error in {fastq_path} line {i} - not a + line')\n",
    "                    raise\n",
    "            elif i%4 == 3:\n",
    "                qual = line\n",
    "                reads.append({\n",
    "                    'id': id,\n",
    "                    'seq': seq,\n",
    "                    'qual': qual,\n",
    "                })\n",
    "\n",
    "    return reads\n",
    "\n",
    "\n",
    "def write_reads(input_path, output_path):\n",
    "    try:\n",
    "        fastq_paths = sorted(join(input_path, f) for f in listdir(input_path) if 'fastq' in f and isfile(join(input_path, f)))\n",
    "    except FileNotFoundError:\n",
    "        return {\n",
    "            'fastqs': -1,\n",
    "            'reads': -1,\n",
    "        }\n",
    "\n",
    "    with open(output_path, 'wt') as o:\n",
    "    \n",
    "        for fastq_path in fastq_paths:\n",
    "            reads = read_fastq(fastq_path)\n",
    "            for read in reads:\n",
    "                row = f\"{read['seq']}\\t{read['id']}\\n\"\n",
    "                o.write(row)"
   ]
  },
  {
   "cell_type": "markdown",
   "id": "1dfa3439-534e-4c02-9036-c8a3994a0b51",
   "metadata": {},
   "source": [
    "## Main"
   ]
  },
  {
   "cell_type": "code",
   "execution_count": 4,
   "id": "e0695659-1778-476c-8ff9-41b82d762676",
   "metadata": {},
   "outputs": [
    {
     "name": "stdout",
     "output_type": "stream",
     "text": [
      "bc6_4_05 - guppy\n",
      "None\n",
      "bc6_4_06 - guppy\n",
      "None\n",
      "bc6_4_07 - guppy\n",
      "None\n",
      "bc6_4_08 - guppy\n",
      "None\n",
      "bc6_4_09 - guppy\n",
      "None\n",
      "bc6_4_10 - guppy\n",
      "None\n"
     ]
    }
   ],
   "source": [
    "for caller in callers:\n",
    "    for dataset in datasets:\n",
    "        input_path = f'{fastqs}{dataset}/fastq/{caller}/'\n",
    "        output_path = f'{outdir}{dataset}_{caller}.fastq.tsv'\n",
    "        print(f'{dataset} - {caller}')\n",
    "        print(write_reads(input_path, output_path))"
   ]
  },
  {
   "cell_type": "code",
   "execution_count": null,
   "id": "880ad422-30ad-4ad9-b975-1f99dacd43bb",
   "metadata": {},
   "outputs": [],
   "source": []
  }
 ],
 "metadata": {
  "kernelspec": {
   "display_name": "Python 3 (ipykernel)",
   "language": "python",
   "name": "python3"
  },
  "language_info": {
   "codemirror_mode": {
    "name": "ipython",
    "version": 3
   },
   "file_extension": ".py",
   "mimetype": "text/x-python",
   "name": "python",
   "nbconvert_exporter": "python",
   "pygments_lexer": "ipython3",
   "version": "3.8.18"
  }
 },
 "nbformat": 4,
 "nbformat_minor": 5
}
