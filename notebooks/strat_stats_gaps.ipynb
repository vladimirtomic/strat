{
 "cells": [
  {
   "cell_type": "markdown",
   "id": "cfd3b29e-b5b7-4ffe-9ae0-402d0a17f63c",
   "metadata": {},
   "source": [
    "# STRAT - Short Tandem Repeat Analysis Tool"
   ]
  },
  {
   "cell_type": "markdown",
   "id": "ef9e002a-252b-45a7-9255-4bd6e9fb6349",
   "metadata": {},
   "source": [
    "## 3. Collect statistics on on-target reads - gaps"
   ]
  },
  {
   "cell_type": "markdown",
   "id": "e1998c81-87ee-4010-9650-a56bcc5f94e8",
   "metadata": {
    "jp-MarkdownHeadingCollapsed": true
   },
   "source": [
    "### 3.1 Imports"
   ]
  },
  {
   "cell_type": "code",
   "execution_count": 1,
   "id": "ca5fc1eb-b484-4142-87cb-1bb452806933",
   "metadata": {},
   "outputs": [],
   "source": [
    "from csv import QUOTE_NONE\n",
    "import numpy as np\n",
    "import pandas as pd\n",
    "from PIL import Image, ImageDraw\n",
    "from string2string.alignment import NeedlemanWunsch"
   ]
  },
  {
   "cell_type": "markdown",
   "id": "639a4862-b34a-4ddc-9918-7915845e294e",
   "metadata": {},
   "source": [
    "### 3.2 Arguments"
   ]
  },
  {
   "cell_type": "code",
   "execution_count": 2,
   "id": "83742641-0565-4500-91f0-b824fbdcbee8",
   "metadata": {},
   "outputs": [],
   "source": [
    "motif = 'CAG'\n",
    "\n",
    "# pcr2persons guppy\n",
    "# input_path = '/opt/data/pcr2persons/output/guppy/guppy.ontarget.tsv'\n",
    "# output_path = '/opt/data/pcr2persons/output/guppy/'\n",
    "\n",
    "# pcr2persons dorado\n",
    "# input_path = '/opt/data/pcr2persons/output/dorado/dorado.ontarget.tsv'\n",
    "# output_path = '/opt/data/pcr2persons/output/dorado/'\n",
    "\n",
    "# jovan guppy\n",
    "# input_path = '/opt/data/jovan/output/guppy/guppy.ontarget.tsv'\n",
    "# output_path = '/opt/data/jovan/output/guppy/'\n",
    "\n",
    "# jovan dorado\n",
    "# input_path = '/opt/data/jovan/output/dorado/dorado.ontarget.tsv'\n",
    "# output_path = '/opt/data/jovan/output/dorado/'\n",
    "\n",
    "# dm108 guppy\n",
    "# input_path = '/opt/data/dm108/output/guppy/guppy.ontarget.tsv'\n",
    "# output_path = '/opt/data/dm108/output/guppy/'\n",
    "\n",
    "# bc3_1 guppy\n",
    "input_path = '/opt/data/bc3_1/output/guppy/guppy.ontarget.tsv'\n",
    "output_path = '/opt/data/bc3_1/output/guppy/'\n",
    "\n",
    "# bc3_1 dorado\n",
    "# input_path = '/opt/data/bc3_1/output/dorado/dorado.ontarget.tsv'\n",
    "# output_path = '/opt/data/bc3_1/output/dorado/'\n",
    "\n",
    "# bc3_2 guppy\n",
    "# input_path = '/opt/data/bc3_2/output/guppy/guppy.ontarget.tsv'\n",
    "# output_path = '/opt/data/bc3_2/output/guppy/'\n",
    "\n",
    "# bc3_2 dorado\n",
    "# input_path = '/opt/data/bc3_2/output/dorado/dorado.ontarget.tsv'\n",
    "# output_path = '/opt/data/bc3_2/output/dorado/'\n",
    "\n",
    "# bc3_3 guppy\n",
    "# input_path = '/opt/data/bc3_3/output/guppy/guppy.ontarget.tsv'\n",
    "# output_path = '/opt/data/bc3_3/output/guppy/'\n",
    "\n",
    "# bc3_3 dorado\n",
    "# input_path = '/opt/data/bc3_3/output/dorado/dorado.ontarget.tsv'\n",
    "# output_path = '/opt/data/bc3_3/output/dorado/'"
   ]
  },
  {
   "cell_type": "markdown",
   "id": "848764c4-1ffd-494b-aa51-8cc83617d431",
   "metadata": {},
   "source": [
    "### 3.3 Constants"
   ]
  },
  {
   "cell_type": "code",
   "execution_count": 3,
   "id": "5cb855af-e49a-4943-82f5-c65df2cc0fd7",
   "metadata": {},
   "outputs": [],
   "source": [
    "def rev_comp(seq, comps):\n",
    "    return ''.join(comps.get(n, n) for n in reversed(seq))\n",
    "\n",
    "\n",
    "DIRECTIONS = ['fwd', 'rev']\n",
    "\n",
    "COMPLEMENT = {\n",
    "    'A': 'T',\n",
    "    'C': 'G',\n",
    "    'G': 'C',\n",
    "    'T': 'A'\n",
    "}\n",
    "\n",
    "MOTIFS = {\n",
    "    'fwd': motif,\n",
    "    'rev': rev_comp(motif, COMPLEMENT)\n",
    "}\n",
    "\n",
    "COLUMNS = [\n",
    "    'direction',\n",
    "    'id',\n",
    "    'prefix_flank',\n",
    "    'ins',\n",
    "    'suffix_flank',\n",
    "    'prefix_flank_q',\n",
    "    'ins_q',\n",
    "    'suffix_flank_q',\n",
    "]\n",
    "\n",
    "COLUMNS_SEQ_EXT = ['ins_ext']\n",
    "COLUMNS_LEN_EXT = ['len_ins_ext']\n",
    "\n",
    "MATCH_WEIGHT = 10  # weight for a match\n",
    "MISMATCH_WEIGHT = -8  # weight for a mismatch\n",
    "GAP_WEIGHT = -9  # weight for a gap\n",
    "NW = NeedlemanWunsch(\n",
    "    match_weight=MATCH_WEIGHT,  # weight for a match\n",
    "    mismatch_weight=MISMATCH_WEIGHT,  # weight for a mismatch\n",
    "    gap_weight=GAP_WEIGHT,  # weight for a gap\n",
    "    gap_char=''  # character to use for a gap\n",
    ")\n",
    "\n",
    "COLORS = {\n",
    "    'A': '#3DA853',  # green\n",
    "    'C': '#4285F4',  # blue\n",
    "    'G': '#F8BC07',  # yellow\n",
    "    'T': '#EA4334',  # red\n",
    "    ' ': 'white'\n",
    "}"
   ]
  },
  {
   "cell_type": "markdown",
   "id": "7689f257-c350-45f8-9fc0-2282c6ce6796",
   "metadata": {},
   "source": [
    "### 3.4 Functions"
   ]
  },
  {
   "cell_type": "code",
   "execution_count": 4,
   "id": "e149652d-8e8d-42ea-ab3e-07b6260e624f",
   "metadata": {},
   "outputs": [],
   "source": [
    "def load(input_path, columns):\n",
    "    df = pd.read_csv(input_path, sep='\\t', header=None, dtype=str, quoting=QUOTE_NONE)\n",
    "    df.columns = columns\n",
    "\n",
    "    return df\n",
    "\n",
    "\n",
    "def extend_ins(row):\n",
    "    prefix = row['prefix_flank']\n",
    "    ins = row['ins']\n",
    "    suffix = row['suffix_flank']\n",
    "    motif = MOTIFS[row['direction']]\n",
    "    target = 2 * motif\n",
    "    window = len(target)\n",
    "    for s in range(window - 1):\n",
    "        # i in (window-1)..1\n",
    "        i = window - 1 - s\n",
    "        if prefix[-i:] + ins[:window - i] == target:\n",
    "            ins = prefix[-i:] + ins\n",
    "            break\n",
    "    \n",
    "    for s in range(window - 1):\n",
    "        # i in 1..(window-1)\n",
    "        i = s + 1\n",
    "        if ins[-i:] + suffix[:window - i] == target:\n",
    "            ins = ins + suffix[:window - i]\n",
    "            break\n",
    "\n",
    "    return ins\n",
    "\n",
    "\n",
    "def lengths(df, columns_seq, columns_len):\n",
    "    for s, l in zip(columns_seq, columns_len):\n",
    "        df[l] = df[s].str.len()\n",
    "    return df\n",
    "\n",
    "\n",
    "def orient_inserts(row):\n",
    "    seq = row['ins_ext']\n",
    "    seq = rev_comp(seq, COMPLEMENT) if row['direction'] == 'rev' else seq\n",
    "    return seq\n",
    "\n",
    "\n",
    "def subsample(df, sample_size=10, threshold=1):\n",
    "    countss = set(df['len_ins_ext'])\n",
    "\n",
    "    df_subs = []\n",
    "    for c in countss:\n",
    "        cond = df['len_ins_ext'] == c\n",
    "        if len(df[cond]) >= threshold:\n",
    "            df_subs.append(df[cond].sample(n=min(len(df[cond]), sample_size)))\n",
    "\n",
    "    return pd.concat(df_subs)\n",
    "\n",
    "\n",
    "def group(df, cutoff=300):\n",
    "    dfg = df.groupby(['ins_oriented', 'len_ins_ext'])['id'].count().reset_index()\n",
    "    dfg.columns = ['ins_oriented', 'len_ins_ext', 'count']\n",
    "    cond = dfg['len_ins_ext'] <= cutoff\n",
    "    dfg = dfg[cond]\n",
    "    dfg = dfg.sort_values(['len_ins_ext', 'ins_oriented'])\n",
    "    return dfg\n",
    "\n",
    "\n",
    "def align(row, nw=NW):\n",
    "    source = int(np.ceil((row['len_ins_ext'] / 3))) * motif\n",
    "    target = row['ins_oriented']\n",
    "    aligned_source, aligned_target = nw.get_alignment(source, target, return_score_matrix=False)\n",
    "    aligned_source = aligned_source.split(' | ')\n",
    "    aligned_target = aligned_target.split(' | ')\n",
    "    res = ''.join(t for s, t in zip(aligned_source, aligned_target) if s != ' ')\n",
    "    return res\n",
    "\n",
    "\n",
    "def fit_target(t, nw=NW):\n",
    "    if t is not None and len(t) > 0:\n",
    "        source = int(np.round((len(t) / 3))) * motif\n",
    "        aligned_source, aligned_target = nw.get_alignment(source, t, return_score_matrix=False)\n",
    "        aligned_source = aligned_source.split(' | ')\n",
    "        aligned_target = aligned_target.split(' | ')\n",
    "        return ''.join(t for s, t in zip(aligned_source, aligned_target) if s != ' ')\n",
    "\n",
    "    return t\n",
    "\n",
    "\n",
    "def fit(row):\n",
    "    target = row['ins_oriented']\n",
    "    targets = target.split(motif)\n",
    "    if targets:\n",
    "        return motif.join(fit_target(t) for t in targets)\n",
    "    else:\n",
    "        return target\n",
    "\n",
    "\n",
    "def ungroup(df):\n",
    "    results = []\n",
    "    for i in df.index:\n",
    "        row = df.loc[i]\n",
    "        for j in range(row['count']):\n",
    "            results.append({'ins_aligned': row['ins_aligned'], 'len_ins_aligned': row['len_ins_aligned']})\n",
    "    dfa = pd.DataFrame(results)\n",
    "    return dfa\n",
    "\n",
    "\n",
    "def prepare_for_plotting(df):\n",
    "    results = []\n",
    "    for i in range(df['ins_aligned'].str.len().max()):\n",
    "        cond = df['len_ins_aligned'] >= i + 1\n",
    "        row = dict(df[cond]['ins_aligned'].str[i].value_counts())\n",
    "        cond = df['len_ins_aligned'] == i + 1\n",
    "        row['insert_count'] = sum(cond)\n",
    "        cond = df['len_ins_aligned'] >= i + 1\n",
    "        row['coverage_count'] = sum(cond)\n",
    "        results.append(row)\n",
    "    \n",
    "    result_df = pd.DataFrame(results).fillna(0).astype(int)\n",
    "    return result_df\n",
    "\n",
    "\n",
    "def draw(df, colors, output_image):\n",
    "    width = 6 * len(df)\n",
    "    height = 1000\n",
    "    # height = 100 + int((np.log2(df['insert_count'].max()) * 100).round())\n",
    "    maxx = np.log(df['insert_count'].max())\n",
    "    # print(maxx)\n",
    "    print(height, width)\n",
    "    image = Image.new('RGB', (width, height), 'white')\n",
    "    draw = ImageDraw.Draw(image)\n",
    "    for i in sorted(df.index):\n",
    "        row = df.iloc[i]\n",
    "        bottom = int(height / 2 + 1)\n",
    "        insert_count = 0 if row['insert_count'] == 0 else np.log(row['insert_count'])\n",
    "        # print(insert_count, maxx)\n",
    "        size = (insert_count / maxx) if (insert_count / maxx > 0.5) else 0.0\n",
    "        top = int(np.round(500 * size)) + bottom\n",
    "        # print(bottom, top)\n",
    "        for m in range(bottom, top):\n",
    "            draw.point((6*i, m), fill='black')\n",
    "            draw.point((6*i+1, m), fill='black')\n",
    "            draw.point((6*i+2, m), fill='black')\n",
    "        bottom = 0\n",
    "        for n in ['A', 'C', 'G', 'T', ' ']:\n",
    "            cnt = row[n]\n",
    "            freq = int((500 * cnt / row['coverage_count']).round())\n",
    "            if n == 'CAG'[i%3]:\n",
    "                color = 'black'\n",
    "            else:\n",
    "                color = colors[n]\n",
    "            for y in range(freq):\n",
    "                draw.point((6*i,   bottom + y), fill=color)\n",
    "                draw.point((6*i+1, bottom + y), fill=color)\n",
    "                draw.point((6*i+2, bottom + y), fill=color)\n",
    "                draw.point((6*i+3, bottom + y), fill=color)\n",
    "                draw.point((6*i+4, bottom + y), fill=color)\n",
    "                draw.point((6*i+5, bottom + y), fill=color)\n",
    "            bottom += freq\n",
    "        if i % 3 == 0:\n",
    "            draw.line([(6*i, 0), (6*i, 500)], fill='grey')\n",
    "    image.save(output_image)"
   ]
  },
  {
   "cell_type": "markdown",
   "id": "2b6c6f6e-b917-42ee-90b1-6c63a877b0fb",
   "metadata": {},
   "source": [
    "### 3.5 Main"
   ]
  },
  {
   "cell_type": "code",
   "execution_count": 5,
   "id": "11af7eb7-2713-4aff-8a29-a6c430748a8e",
   "metadata": {},
   "outputs": [
    {
     "name": "stdout",
     "output_type": "stream",
     "text": [
      "Loaded: 69287\n",
      "Extended: 63618\n",
      "Subsampled to: 69287\n",
      "Grouped: 12068\n"
     ]
    }
   ],
   "source": [
    "# Load\n",
    "df = load(input_path, COLUMNS)\n",
    "print(f'Loaded: {len(df)}')\n",
    "\n",
    "# Extend\n",
    "df['ins_ext'] = df.apply(extend_ins, axis=1)\n",
    "print(f\"Extended: {sum(df['ins'] != df['ins_ext'])}\")\n",
    "\n",
    "# Add length columns\n",
    "df = lengths(df, COLUMNS_SEQ_EXT, COLUMNS_LEN_EXT)\n",
    "\n",
    "# Orient inserts\n",
    "df['ins_oriented'] = df.apply(orient_inserts, axis=1)\n",
    "\n",
    "# Subsample the dataframe, keep only lengths with 10 or more inserts, sample 10 inserts\n",
    "df_sub = subsample(df, 1000000)\n",
    "print(f'Subsampled to: {len(df_sub)}')\n",
    "\n",
    "# Group by insert extended; size and sequence\n",
    "dfg = group(df_sub, 600)\n",
    "print(f'Grouped: {len(dfg)}')"
   ]
  },
  {
   "cell_type": "code",
   "execution_count": 6,
   "id": "5c4c500d-834f-4545-a31d-96886b6137b3",
   "metadata": {},
   "outputs": [
    {
     "name": "stdout",
     "output_type": "stream",
     "text": [
      "CPU times: user 20.8 s, sys: 0 ns, total: 20.8 s\n",
      "Wall time: 20.8 s\n"
     ]
    }
   ],
   "source": [
    "%%time\n",
    "# Align\n",
    "dfg['ins_aligned'] = dfg.apply(fit, axis=1)"
   ]
  },
  {
   "cell_type": "code",
   "execution_count": 7,
   "id": "1b342bbb-0a7c-4a5f-8221-0b94db40cf31",
   "metadata": {},
   "outputs": [
    {
     "name": "stdout",
     "output_type": "stream",
     "text": [
      "Ungrouped: 69249\n",
      "Plot: 597\n"
     ]
    }
   ],
   "source": [
    "# Add lengths for aligned inserts\n",
    "dfg['len_ins_aligned'] = dfg['ins_aligned'].str.len()\n",
    "\n",
    "# Sort grouped inserts by size and sequence\n",
    "dfg = dfg.sort_values(['len_ins_aligned', 'ins_aligned'])\n",
    "\n",
    "# Ungroup\n",
    "dfa = ungroup(dfg)\n",
    "print(f'Ungrouped: {len(dfa)}')\n",
    "\n",
    "# Prepare for plotting\n",
    "dfp = prepare_for_plotting(dfa)\n",
    "print(f'Plot: {len(dfp)}')"
   ]
  },
  {
   "cell_type": "code",
   "execution_count": 8,
   "id": "021e4a96-4e22-4d4d-87f5-de4ca1c8854f",
   "metadata": {},
   "outputs": [],
   "source": [
    "# MATCH_WEIGHT = 10  # weight for a match\n",
    "# MISMATCH_WEIGHT = -8  # weight for a mismatch\n",
    "# GAP_WEIGHT = -9  # weight for a gap\n",
    "# NW = NeedlemanWunsch(\n",
    "#     match_weight=MATCH_WEIGHT,  # weight for a match\n",
    "#     mismatch_weight=MISMATCH_WEIGHT,  # weight for a mismatch\n",
    "#     gap_weight=GAP_WEIGHT,  # weight for a gap\n",
    "#     gap_char=''  # character to use for a gap\n",
    "# )\n",
    "# row = {\n",
    "#     'len_ins_ext': 8,\n",
    "#     'ins_oriented': 'CAGTTTC'\n",
    "# }\n",
    "# align(row, NW)"
   ]
  },
  {
   "cell_type": "code",
   "execution_count": 9,
   "id": "a36dfa9a-10c4-4136-ba17-e30bbe29a1d7",
   "metadata": {},
   "outputs": [
    {
     "name": "stdout",
     "output_type": "stream",
     "text": [
      "1000 3582\n"
     ]
    }
   ],
   "source": [
    "draw(dfp, COLORS, f'{output_path}test1.png')"
   ]
  }
 ],
 "metadata": {
  "kernelspec": {
   "display_name": "Python 3 (ipykernel)",
   "language": "python",
   "name": "python3"
  },
  "language_info": {
   "codemirror_mode": {
    "name": "ipython",
    "version": 3
   },
   "file_extension": ".py",
   "mimetype": "text/x-python",
   "name": "python",
   "nbconvert_exporter": "python",
   "pygments_lexer": "ipython3",
   "version": "3.8.18"
  }
 },
 "nbformat": 4,
 "nbformat_minor": 5
}
