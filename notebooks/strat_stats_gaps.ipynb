{
 "cells": [
  {
   "cell_type": "markdown",
   "id": "cfd3b29e-b5b7-4ffe-9ae0-402d0a17f63c",
   "metadata": {},
   "source": [
    "# STRAT - Short Tandem Repeat Analysis Tool"
   ]
  },
  {
   "cell_type": "markdown",
   "id": "ef9e002a-252b-45a7-9255-4bd6e9fb6349",
   "metadata": {},
   "source": [
    "## 3. Collect statistics on on-target reads - gaps"
   ]
  },
  {
   "cell_type": "markdown",
   "id": "e1998c81-87ee-4010-9650-a56bcc5f94e8",
   "metadata": {},
   "source": [
    "### 3.1 Imports"
   ]
  },
  {
   "cell_type": "code",
   "execution_count": 1,
   "id": "ca5fc1eb-b484-4142-87cb-1bb452806933",
   "metadata": {},
   "outputs": [],
   "source": [
    "from csv import QUOTE_NONE\n",
    "import numpy as np\n",
    "import pandas as pd\n",
    "from string2string.alignment import NeedlemanWunsch"
   ]
  },
  {
   "cell_type": "markdown",
   "id": "639a4862-b34a-4ddc-9918-7915845e294e",
   "metadata": {},
   "source": [
    "### 3.2 Arguments"
   ]
  },
  {
   "cell_type": "code",
   "execution_count": 2,
   "id": "83742641-0565-4500-91f0-b824fbdcbee8",
   "metadata": {},
   "outputs": [],
   "source": [
    "motif = 'CAG'\n",
    "\n",
    "# pcr2persons guppy\n",
    "input_path = '/opt/data/pcr2persons/output/guppy/guppy.ontarget.tsv'\n",
    "output_path = '/opt/data/pcr2persons/output/guppy/'\n",
    "\n",
    "# jovan guppy\n",
    "# input_path = '/opt/data/jovan/output/guppy/guppy.ontarget.tsv'\n",
    "# output_path = '/opt/data/jovan/output/guppy/'\n",
    "\n",
    "# dm108 guppy\n",
    "# input_path = '/opt/data/dm108/output/guppy/guppy.ontarget.tsv'\n",
    "# output_path = '/opt/data/dm108/output/guppy/'\n",
    "\n",
    "# bc3_1 guppy\n",
    "# input_path = '/opt/data/bc3_1/output/guppy/guppy.ontarget.tsv'\n",
    "# output_path = '/opt/data/bc3_1/output/guppy/'\n",
    "\n",
    "# bc3_2 guppy\n",
    "# input_path = '/opt/data/bc3_2/output/guppy/guppy.ontarget.tsv'\n",
    "# output_path = '/opt/data/bc3_2/output/guppy/'\n",
    "\n",
    "# bc3_3 guppy\n",
    "# input_path = '/opt/data/bc3_3/output/guppy/guppy.ontarget.tsv'\n",
    "# output_path = '/opt/data/bc3_3/output/guppy/'"
   ]
  },
  {
   "cell_type": "markdown",
   "id": "848764c4-1ffd-494b-aa51-8cc83617d431",
   "metadata": {},
   "source": [
    "### 3.3 Constants"
   ]
  },
  {
   "cell_type": "code",
   "execution_count": 3,
   "id": "5cb855af-e49a-4943-82f5-c65df2cc0fd7",
   "metadata": {},
   "outputs": [],
   "source": [
    "def rev_comp(seq, comps):\n",
    "    return ''.join(comps.get(n, n) for n in reversed(seq))\n",
    "\n",
    "\n",
    "DIRECTIONS = ['fwd', 'rev']\n",
    "\n",
    "COMPLEMENT = {\n",
    "    'A': 'T',\n",
    "    'C': 'G',\n",
    "    'G': 'C',\n",
    "    'T': 'A'\n",
    "}\n",
    "\n",
    "MOTIFS = {\n",
    "    'fwd': motif,\n",
    "    'rev': rev_comp(motif, COMPLEMENT)\n",
    "}\n",
    "\n",
    "COLUMNS = [\n",
    "    'direction',\n",
    "    'id',\n",
    "    'prefix_flank',\n",
    "    'ins',\n",
    "    'suffix_flank',\n",
    "    'prefix_flank_q',\n",
    "    'ins_q',\n",
    "    'suffix_flank_q',\n",
    "]\n",
    "\n",
    "COLUMNS_SEQ_EXT = ['ins_ext']\n",
    "COLUMNS_LEN_EXT = ['len_ins_ext']"
   ]
  },
  {
   "cell_type": "markdown",
   "id": "7689f257-c350-45f8-9fc0-2282c6ce6796",
   "metadata": {},
   "source": [
    "### 3.4 Functions"
   ]
  },
  {
   "cell_type": "code",
   "execution_count": 4,
   "id": "e149652d-8e8d-42ea-ab3e-07b6260e624f",
   "metadata": {},
   "outputs": [],
   "source": [
    "def load(input_path, columns):\n",
    "    df = pd.read_csv(input_path, sep='\\t', header=None, dtype=str, quoting=QUOTE_NONE)\n",
    "    df.columns = columns\n",
    "\n",
    "    return df\n",
    "\n",
    "\n",
    "def extend_ins(row):\n",
    "    prefix = row['prefix_flank']\n",
    "    ins = row['ins']\n",
    "    suffix = row['suffix_flank']\n",
    "    motif = MOTIFS[row['direction']]\n",
    "    target = 2 * motif\n",
    "    window = len(target)\n",
    "    for s in range(window - 1):\n",
    "        # i in (window-1)..1\n",
    "        i = window - 1 - s\n",
    "        if prefix[-i:] + ins[:window - i] == target:\n",
    "            ins = prefix[-i:] + ins\n",
    "            break\n",
    "    \n",
    "    for s in range(window - 1):\n",
    "        # i in 1..(window-1)\n",
    "        i = s + 1\n",
    "        if ins[-i:] + suffix[:window - i] == target:\n",
    "            ins = ins + suffix[:window - i]\n",
    "            break\n",
    "\n",
    "    return ins\n",
    "\n",
    "\n",
    "def lengths(df, columns_seq, columns_len):\n",
    "    for s, l in zip(columns_seq, columns_len):\n",
    "        df[l] = df[s].str.len()\n",
    "        df[l + '_adj'] = (df[l] / 3).round().astype(int)\n",
    "    return df\n",
    "\n",
    "\n",
    "def orient_inserts(row):\n",
    "    seq = row['ins_ext']\n",
    "    seq = rev_comp(seq, COMPLEMENT) if row['direction'] == 'rev' else seq\n",
    "    # seq = seq.replace('CAG', '>>>')\n",
    "    return seq"
   ]
  },
  {
   "cell_type": "markdown",
   "id": "2b6c6f6e-b917-42ee-90b1-6c63a877b0fb",
   "metadata": {},
   "source": [
    "### 3.5 Main"
   ]
  },
  {
   "cell_type": "code",
   "execution_count": 5,
   "id": "11af7eb7-2713-4aff-8a29-a6c430748a8e",
   "metadata": {},
   "outputs": [],
   "source": [
    "df = load(input_path, COLUMNS)"
   ]
  },
  {
   "cell_type": "code",
   "execution_count": 6,
   "id": "5c78a5a6-6a09-487b-b45a-077163ccef5e",
   "metadata": {},
   "outputs": [
    {
     "data": {
      "text/html": [
       "<div>\n",
       "<style scoped>\n",
       "    .dataframe tbody tr th:only-of-type {\n",
       "        vertical-align: middle;\n",
       "    }\n",
       "\n",
       "    .dataframe tbody tr th {\n",
       "        vertical-align: top;\n",
       "    }\n",
       "\n",
       "    .dataframe thead th {\n",
       "        text-align: right;\n",
       "    }\n",
       "</style>\n",
       "<table border=\"1\" class=\"dataframe\">\n",
       "  <thead>\n",
       "    <tr style=\"text-align: right;\">\n",
       "      <th></th>\n",
       "      <th>direction</th>\n",
       "      <th>id</th>\n",
       "      <th>prefix_flank</th>\n",
       "      <th>ins</th>\n",
       "      <th>suffix_flank</th>\n",
       "      <th>prefix_flank_q</th>\n",
       "      <th>ins_q</th>\n",
       "      <th>suffix_flank_q</th>\n",
       "    </tr>\n",
       "  </thead>\n",
       "  <tbody>\n",
       "    <tr>\n",
       "      <th>0</th>\n",
       "      <td>fwd</td>\n",
       "      <td>@8b642f7f-33ad-40c1-bd3b-423605bad973</td>\n",
       "      <td>TCGATCCCCC</td>\n",
       "      <td>CAGCAGCAGCA</td>\n",
       "      <td>GCAGCATTCC</td>\n",
       "      <td>'&amp;%'(0245&gt;</td>\n",
       "      <td>CBDECDD&gt;&gt;&gt;7</td>\n",
       "      <td>663222334=</td>\n",
       "    </tr>\n",
       "    <tr>\n",
       "      <th>1</th>\n",
       "      <td>fwd</td>\n",
       "      <td>@662dfedb-470f-4c26-88a4-fe361f20af49</td>\n",
       "      <td>TGAATCCCCC</td>\n",
       "      <td>AGCAGCAGCAGCAGCAGCAGCAGCAGCAGCAGCAGCAGCAGCA</td>\n",
       "      <td>GCATTCCGGC</td>\n",
       "      <td>2//,),47;A</td>\n",
       "      <td>AECBDDFGIGDFBBB-+,9:EDJPI{{FGIGG{F{D3331110</td>\n",
       "      <td>00'&amp;&amp;&amp;,-1)</td>\n",
       "    </tr>\n",
       "    <tr>\n",
       "      <th>2</th>\n",
       "      <td>fwd</td>\n",
       "      <td>@90c36059-b1b8-435f-912d-533eaf89cedd</td>\n",
       "      <td>GTGATCCCCC</td>\n",
       "      <td>CAGCAGCAGCAGC</td>\n",
       "      <td>AGCATTCCCG</td>\n",
       "      <td>3366&lt;666&lt;?</td>\n",
       "      <td>??CMDEJLHIBCD</td>\n",
       "      <td>888&lt;ADBK==</td>\n",
       "    </tr>\n",
       "    <tr>\n",
       "      <th>3</th>\n",
       "      <td>rev</td>\n",
       "      <td>@f0796ffb-8fcb-4db2-af05-f4ba8a0ffd10</td>\n",
       "      <td>GCCGGGAATG</td>\n",
       "      <td>CTGCTGCTGCTGCT</td>\n",
       "      <td>GGGGGGATCG</td>\n",
       "      <td>&amp;&amp;&amp;*3144))</td>\n",
       "      <td>*?@FGDINJDEBDL</td>\n",
       "      <td>AAAG{?=:7+</td>\n",
       "    </tr>\n",
       "    <tr>\n",
       "      <th>4</th>\n",
       "      <td>rev</td>\n",
       "      <td>@1ec715ce-7ef9-4e82-9bd5-40fd574178b0</td>\n",
       "      <td>GCCGGGAATG</td>\n",
       "      <td>CTGCTGCTGCTGCTGCTGCTGCTGCTGCTGCTGCTGCTGCTGCTGC...</td>\n",
       "      <td>GCTGGGGGGA</td>\n",
       "      <td>,../755&lt;67</td>\n",
       "      <td>889:HG&gt;&gt;&gt;&gt;G{HHLJEGDDEF{G{GC9999JKFHGKPJIGLFLLJ...</td>\n",
       "      <td>*+++/0==64</td>\n",
       "    </tr>\n",
       "  </tbody>\n",
       "</table>\n",
       "</div>"
      ],
      "text/plain": [
       "  direction                                     id prefix_flank  \\\n",
       "0       fwd  @8b642f7f-33ad-40c1-bd3b-423605bad973   TCGATCCCCC   \n",
       "1       fwd  @662dfedb-470f-4c26-88a4-fe361f20af49   TGAATCCCCC   \n",
       "2       fwd  @90c36059-b1b8-435f-912d-533eaf89cedd   GTGATCCCCC   \n",
       "3       rev  @f0796ffb-8fcb-4db2-af05-f4ba8a0ffd10   GCCGGGAATG   \n",
       "4       rev  @1ec715ce-7ef9-4e82-9bd5-40fd574178b0   GCCGGGAATG   \n",
       "\n",
       "                                                 ins suffix_flank  \\\n",
       "0                                        CAGCAGCAGCA   GCAGCATTCC   \n",
       "1        AGCAGCAGCAGCAGCAGCAGCAGCAGCAGCAGCAGCAGCAGCA   GCATTCCGGC   \n",
       "2                                      CAGCAGCAGCAGC   AGCATTCCCG   \n",
       "3                                     CTGCTGCTGCTGCT   GGGGGGATCG   \n",
       "4  CTGCTGCTGCTGCTGCTGCTGCTGCTGCTGCTGCTGCTGCTGCTGC...   GCTGGGGGGA   \n",
       "\n",
       "  prefix_flank_q                                              ins_q  \\\n",
       "0     '&%'(0245>                                        CBDECDD>>>7   \n",
       "1     2//,),47;A        AECBDDFGIGDFBBB-+,9:EDJPI{{FGIGG{F{D3331110   \n",
       "2     3366<666<?                                      ??CMDEJLHIBCD   \n",
       "3     &&&*3144))                                     *?@FGDINJDEBDL   \n",
       "4     ,../755<67  889:HG>>>>G{HHLJEGDDEF{G{GC9999JKFHGKPJIGLFLLJ...   \n",
       "\n",
       "  suffix_flank_q  \n",
       "0     663222334=  \n",
       "1     00'&&&,-1)  \n",
       "2     888<ADBK==  \n",
       "3     AAAG{?=:7+  \n",
       "4     *+++/0==64  "
      ]
     },
     "execution_count": 6,
     "metadata": {},
     "output_type": "execute_result"
    }
   ],
   "source": [
    "df.head()"
   ]
  },
  {
   "cell_type": "code",
   "execution_count": 7,
   "id": "b77128c9-b8b4-44f4-ab6d-55919916a134",
   "metadata": {},
   "outputs": [
    {
     "data": {
      "text/plain": [
       "125781"
      ]
     },
     "execution_count": 7,
     "metadata": {},
     "output_type": "execute_result"
    }
   ],
   "source": [
    "df['ins_ext'] = df.apply(extend_ins, axis=1)\n",
    "sum(df['ins'] != df['ins_ext'])"
   ]
  },
  {
   "cell_type": "code",
   "execution_count": 8,
   "id": "f70d3737-b188-48b1-83da-20b9eae71a50",
   "metadata": {},
   "outputs": [],
   "source": [
    "df = lengths(df, COLUMNS_SEQ_EXT, COLUMNS_LEN_EXT)"
   ]
  },
  {
   "cell_type": "code",
   "execution_count": 9,
   "id": "53a36b40-f2ac-424d-85e2-a80653f0a12c",
   "metadata": {},
   "outputs": [],
   "source": [
    "df['ins_oriented'] = df.apply(orient_inserts, axis=1)"
   ]
  },
  {
   "cell_type": "code",
   "execution_count": 10,
   "id": "af00ace7-faf2-4f18-9026-6ad9cb54b49d",
   "metadata": {},
   "outputs": [
    {
     "data": {
      "text/html": [
       "<div>\n",
       "<style scoped>\n",
       "    .dataframe tbody tr th:only-of-type {\n",
       "        vertical-align: middle;\n",
       "    }\n",
       "\n",
       "    .dataframe tbody tr th {\n",
       "        vertical-align: top;\n",
       "    }\n",
       "\n",
       "    .dataframe thead th {\n",
       "        text-align: right;\n",
       "    }\n",
       "</style>\n",
       "<table border=\"1\" class=\"dataframe\">\n",
       "  <thead>\n",
       "    <tr style=\"text-align: right;\">\n",
       "      <th></th>\n",
       "      <th>ins_oriented</th>\n",
       "      <th>len_ins_ext</th>\n",
       "    </tr>\n",
       "  </thead>\n",
       "  <tbody>\n",
       "    <tr>\n",
       "      <th>0</th>\n",
       "      <td>CAGCAGCAGCAGCAG</td>\n",
       "      <td>15</td>\n",
       "    </tr>\n",
       "    <tr>\n",
       "      <th>1</th>\n",
       "      <td>CAGCAGCAGCAGCAGCAGCAGCAGCAGCAGCAGCAGCAGCAGCAG</td>\n",
       "      <td>45</td>\n",
       "    </tr>\n",
       "    <tr>\n",
       "      <th>2</th>\n",
       "      <td>CAGCAGCAGCAGCAG</td>\n",
       "      <td>15</td>\n",
       "    </tr>\n",
       "    <tr>\n",
       "      <th>3</th>\n",
       "      <td>CAGCAGCAGCAGCAG</td>\n",
       "      <td>15</td>\n",
       "    </tr>\n",
       "    <tr>\n",
       "      <th>4</th>\n",
       "      <td>CAGCAGCAGCAGCAGCAGCAGCAGCAGCAGCAGCAGCAGCAGCAGC...</td>\n",
       "      <td>105</td>\n",
       "    </tr>\n",
       "    <tr>\n",
       "      <th>...</th>\n",
       "      <td>...</td>\n",
       "      <td>...</td>\n",
       "    </tr>\n",
       "    <tr>\n",
       "      <th>147786</th>\n",
       "      <td>CAGCAGCAGCAGCAGCAGCAGCAGCAGCAGCAGCGGCAGCAGCGGCG</td>\n",
       "      <td>47</td>\n",
       "    </tr>\n",
       "    <tr>\n",
       "      <th>147787</th>\n",
       "      <td>CAGCAGCAGCAGCAGCAGCAGCAGCAGCAGCAGCAGCAGCAGCAGC...</td>\n",
       "      <td>105</td>\n",
       "    </tr>\n",
       "    <tr>\n",
       "      <th>147788</th>\n",
       "      <td>CAGCAGTAGTAGCAG</td>\n",
       "      <td>15</td>\n",
       "    </tr>\n",
       "    <tr>\n",
       "      <th>147789</th>\n",
       "      <td>CAGCAGCAGCAGCAGCAGCAGCAGCAGCAGCAGCGGCAGCAGCAGCAG</td>\n",
       "      <td>48</td>\n",
       "    </tr>\n",
       "    <tr>\n",
       "      <th>147790</th>\n",
       "      <td>CAGCAGCAGCAGCAGCAGCAGCAGCAGCAGCAGCAGCAGCAGCAGC...</td>\n",
       "      <td>211</td>\n",
       "    </tr>\n",
       "  </tbody>\n",
       "</table>\n",
       "<p>147791 rows × 2 columns</p>\n",
       "</div>"
      ],
      "text/plain": [
       "                                             ins_oriented  len_ins_ext\n",
       "0                                         CAGCAGCAGCAGCAG           15\n",
       "1           CAGCAGCAGCAGCAGCAGCAGCAGCAGCAGCAGCAGCAGCAGCAG           45\n",
       "2                                         CAGCAGCAGCAGCAG           15\n",
       "3                                         CAGCAGCAGCAGCAG           15\n",
       "4       CAGCAGCAGCAGCAGCAGCAGCAGCAGCAGCAGCAGCAGCAGCAGC...          105\n",
       "...                                                   ...          ...\n",
       "147786    CAGCAGCAGCAGCAGCAGCAGCAGCAGCAGCAGCGGCAGCAGCGGCG           47\n",
       "147787  CAGCAGCAGCAGCAGCAGCAGCAGCAGCAGCAGCAGCAGCAGCAGC...          105\n",
       "147788                                    CAGCAGTAGTAGCAG           15\n",
       "147789   CAGCAGCAGCAGCAGCAGCAGCAGCAGCAGCAGCGGCAGCAGCAGCAG           48\n",
       "147790  CAGCAGCAGCAGCAGCAGCAGCAGCAGCAGCAGCAGCAGCAGCAGC...          211\n",
       "\n",
       "[147791 rows x 2 columns]"
      ]
     },
     "execution_count": 10,
     "metadata": {},
     "output_type": "execute_result"
    }
   ],
   "source": [
    "df[['ins_oriented', 'len_ins_ext']]"
   ]
  },
  {
   "cell_type": "code",
   "execution_count": 11,
   "id": "b2b9706a-4c07-4e8b-bbcb-306d51d7269f",
   "metadata": {},
   "outputs": [
    {
     "data": {
      "text/html": [
       "<div>\n",
       "<style scoped>\n",
       "    .dataframe tbody tr th:only-of-type {\n",
       "        vertical-align: middle;\n",
       "    }\n",
       "\n",
       "    .dataframe tbody tr th {\n",
       "        vertical-align: top;\n",
       "    }\n",
       "\n",
       "    .dataframe thead th {\n",
       "        text-align: right;\n",
       "    }\n",
       "</style>\n",
       "<table border=\"1\" class=\"dataframe\">\n",
       "  <thead>\n",
       "    <tr style=\"text-align: right;\">\n",
       "      <th></th>\n",
       "      <th>ins_oriented</th>\n",
       "      <th>len_ins_ext</th>\n",
       "      <th>count</th>\n",
       "    </tr>\n",
       "  </thead>\n",
       "  <tbody>\n",
       "    <tr>\n",
       "      <th>2532</th>\n",
       "      <td>C</td>\n",
       "      <td>1</td>\n",
       "      <td>1</td>\n",
       "    </tr>\n",
       "    <tr>\n",
       "      <th>1251</th>\n",
       "      <td>AG</td>\n",
       "      <td>2</td>\n",
       "      <td>2</td>\n",
       "    </tr>\n",
       "    <tr>\n",
       "      <th>32217</th>\n",
       "      <td>CGG</td>\n",
       "      <td>3</td>\n",
       "      <td>1</td>\n",
       "    </tr>\n",
       "    <tr>\n",
       "      <th>33144</th>\n",
       "      <td>GCA</td>\n",
       "      <td>3</td>\n",
       "      <td>1</td>\n",
       "    </tr>\n",
       "    <tr>\n",
       "      <th>436</th>\n",
       "      <td>ACAG</td>\n",
       "      <td>4</td>\n",
       "      <td>1</td>\n",
       "    </tr>\n",
       "    <tr>\n",
       "      <th>...</th>\n",
       "      <td>...</td>\n",
       "      <td>...</td>\n",
       "      <td>...</td>\n",
       "    </tr>\n",
       "    <tr>\n",
       "      <th>20310</th>\n",
       "      <td>CAGCAGCAGCAGCAGCAGCAGCAGCAGCAGCAGCAGCAGCAGCAGC...</td>\n",
       "      <td>300</td>\n",
       "      <td>1</td>\n",
       "    </tr>\n",
       "    <tr>\n",
       "      <th>22059</th>\n",
       "      <td>CAGCAGCAGCAGCAGCAGCAGCAGCAGCAGCAGCAGCAGCAGCAGC...</td>\n",
       "      <td>300</td>\n",
       "      <td>1</td>\n",
       "    </tr>\n",
       "    <tr>\n",
       "      <th>24329</th>\n",
       "      <td>CAGCAGCAGCAGCAGCAGCAGCAGCAGCAGCAGCAGCAGCAGCAGC...</td>\n",
       "      <td>300</td>\n",
       "      <td>1</td>\n",
       "    </tr>\n",
       "    <tr>\n",
       "      <th>25657</th>\n",
       "      <td>CAGCAGCAGCAGCAGCAGCAGCAGCAGCAGCAGCAGCAGCAGCAGC...</td>\n",
       "      <td>300</td>\n",
       "      <td>1</td>\n",
       "    </tr>\n",
       "    <tr>\n",
       "      <th>28419</th>\n",
       "      <td>CAGCAGCAGCAGCAGCAGCAGCAGCGAGAGCAGCAGCAGCAGCAGC...</td>\n",
       "      <td>300</td>\n",
       "      <td>1</td>\n",
       "    </tr>\n",
       "  </tbody>\n",
       "</table>\n",
       "<p>34063 rows × 3 columns</p>\n",
       "</div>"
      ],
      "text/plain": [
       "                                            ins_oriented  len_ins_ext  count\n",
       "2532                                                   C            1      1\n",
       "1251                                                  AG            2      2\n",
       "32217                                                CGG            3      1\n",
       "33144                                                GCA            3      1\n",
       "436                                                 ACAG            4      1\n",
       "...                                                  ...          ...    ...\n",
       "20310  CAGCAGCAGCAGCAGCAGCAGCAGCAGCAGCAGCAGCAGCAGCAGC...          300      1\n",
       "22059  CAGCAGCAGCAGCAGCAGCAGCAGCAGCAGCAGCAGCAGCAGCAGC...          300      1\n",
       "24329  CAGCAGCAGCAGCAGCAGCAGCAGCAGCAGCAGCAGCAGCAGCAGC...          300      1\n",
       "25657  CAGCAGCAGCAGCAGCAGCAGCAGCAGCAGCAGCAGCAGCAGCAGC...          300      1\n",
       "28419  CAGCAGCAGCAGCAGCAGCAGCAGCGAGAGCAGCAGCAGCAGCAGC...          300      1\n",
       "\n",
       "[34063 rows x 3 columns]"
      ]
     },
     "execution_count": 11,
     "metadata": {},
     "output_type": "execute_result"
    }
   ],
   "source": [
    "dfg = df.groupby(['ins_oriented', 'len_ins_ext'])['id'].count().reset_index()\n",
    "dfg.columns = ['ins_oriented', 'len_ins_ext', 'count']\n",
    "cond = dfg['len_ins_ext'] <= 300\n",
    "dfg = dfg[cond]\n",
    "dfg = dfg.sort_values(['len_ins_ext', 'ins_oriented'])\n",
    "dfg"
   ]
  },
  {
   "cell_type": "code",
   "execution_count": 12,
   "id": "841646fa-41f4-414d-84a4-b18f7d9eb12c",
   "metadata": {},
   "outputs": [],
   "source": [
    "match_weight = 10  # weight for a match\n",
    "mismatch_weight = -8  # weight for a mismatch\n",
    "gap_weight = -9  # weight for a gap\n",
    "NW = NeedlemanWunsch(\n",
    "    match_weight=match_weight,  # weight for a match\n",
    "    mismatch_weight=mismatch_weight,  # weight for a mismatch\n",
    "    gap_weight=gap_weight,  # weight for a gap\n",
    "    gap_char=''  # character to use for a gap\n",
    ")"
   ]
  },
  {
   "cell_type": "code",
   "execution_count": 13,
   "id": "eadb9f42-c034-41ae-8568-a2636ef1a882",
   "metadata": {},
   "outputs": [],
   "source": [
    "def align(row):\n",
    "    source = int(np.ceil((row['len_ins_ext'] / 3))) * motif\n",
    "    target = row['ins_oriented']\n",
    "    aligned_source, aligned_target = NW.get_alignment(source, target, return_score_matrix=False)\n",
    "    aligned_source = aligned_source.split(' | ')\n",
    "    aligned_target = aligned_target.split(' | ')\n",
    "    res = ''.join(t for s, t in zip(aligned_source, aligned_target) if s != ' ')\n",
    "    return res"
   ]
  },
  {
   "cell_type": "code",
   "execution_count": 14,
   "id": "5c4c500d-834f-4545-a31d-96886b6137b3",
   "metadata": {},
   "outputs": [
    {
     "ename": "KeyboardInterrupt",
     "evalue": "",
     "output_type": "error",
     "traceback": [
      "\u001b[0;31m---------------------------------------------------------------------------\u001b[0m",
      "\u001b[0;31mKeyboardInterrupt\u001b[0m                         Traceback (most recent call last)",
      "File \u001b[0;32m<timed exec>:1\u001b[0m\n",
      "File \u001b[0;32m/usr/local/lib/python3.8/site-packages/pandas/core/frame.py:9423\u001b[0m, in \u001b[0;36mDataFrame.apply\u001b[0;34m(self, func, axis, raw, result_type, args, **kwargs)\u001b[0m\n\u001b[1;32m   9412\u001b[0m \u001b[38;5;28;01mfrom\u001b[39;00m \u001b[38;5;21;01mpandas\u001b[39;00m\u001b[38;5;21;01m.\u001b[39;00m\u001b[38;5;21;01mcore\u001b[39;00m\u001b[38;5;21;01m.\u001b[39;00m\u001b[38;5;21;01mapply\u001b[39;00m \u001b[38;5;28;01mimport\u001b[39;00m frame_apply\n\u001b[1;32m   9414\u001b[0m op \u001b[38;5;241m=\u001b[39m frame_apply(\n\u001b[1;32m   9415\u001b[0m     \u001b[38;5;28mself\u001b[39m,\n\u001b[1;32m   9416\u001b[0m     func\u001b[38;5;241m=\u001b[39mfunc,\n\u001b[0;32m   (...)\u001b[0m\n\u001b[1;32m   9421\u001b[0m     kwargs\u001b[38;5;241m=\u001b[39mkwargs,\n\u001b[1;32m   9422\u001b[0m )\n\u001b[0;32m-> 9423\u001b[0m \u001b[38;5;28;01mreturn\u001b[39;00m \u001b[43mop\u001b[49m\u001b[38;5;241;43m.\u001b[39;49m\u001b[43mapply\u001b[49m\u001b[43m(\u001b[49m\u001b[43m)\u001b[49m\u001b[38;5;241m.\u001b[39m__finalize__(\u001b[38;5;28mself\u001b[39m, method\u001b[38;5;241m=\u001b[39m\u001b[38;5;124m\"\u001b[39m\u001b[38;5;124mapply\u001b[39m\u001b[38;5;124m\"\u001b[39m)\n",
      "File \u001b[0;32m/usr/local/lib/python3.8/site-packages/pandas/core/apply.py:678\u001b[0m, in \u001b[0;36mFrameApply.apply\u001b[0;34m(self)\u001b[0m\n\u001b[1;32m    675\u001b[0m \u001b[38;5;28;01melif\u001b[39;00m \u001b[38;5;28mself\u001b[39m\u001b[38;5;241m.\u001b[39mraw:\n\u001b[1;32m    676\u001b[0m     \u001b[38;5;28;01mreturn\u001b[39;00m \u001b[38;5;28mself\u001b[39m\u001b[38;5;241m.\u001b[39mapply_raw()\n\u001b[0;32m--> 678\u001b[0m \u001b[38;5;28;01mreturn\u001b[39;00m \u001b[38;5;28;43mself\u001b[39;49m\u001b[38;5;241;43m.\u001b[39;49m\u001b[43mapply_standard\u001b[49m\u001b[43m(\u001b[49m\u001b[43m)\u001b[49m\n",
      "File \u001b[0;32m/usr/local/lib/python3.8/site-packages/pandas/core/apply.py:798\u001b[0m, in \u001b[0;36mFrameApply.apply_standard\u001b[0;34m(self)\u001b[0m\n\u001b[1;32m    797\u001b[0m \u001b[38;5;28;01mdef\u001b[39;00m \u001b[38;5;21mapply_standard\u001b[39m(\u001b[38;5;28mself\u001b[39m):\n\u001b[0;32m--> 798\u001b[0m     results, res_index \u001b[38;5;241m=\u001b[39m \u001b[38;5;28;43mself\u001b[39;49m\u001b[38;5;241;43m.\u001b[39;49m\u001b[43mapply_series_generator\u001b[49m\u001b[43m(\u001b[49m\u001b[43m)\u001b[49m\n\u001b[1;32m    800\u001b[0m     \u001b[38;5;66;03m# wrap results\u001b[39;00m\n\u001b[1;32m    801\u001b[0m     \u001b[38;5;28;01mreturn\u001b[39;00m \u001b[38;5;28mself\u001b[39m\u001b[38;5;241m.\u001b[39mwrap_results(results, res_index)\n",
      "File \u001b[0;32m/usr/local/lib/python3.8/site-packages/pandas/core/apply.py:814\u001b[0m, in \u001b[0;36mFrameApply.apply_series_generator\u001b[0;34m(self)\u001b[0m\n\u001b[1;32m    811\u001b[0m \u001b[38;5;28;01mwith\u001b[39;00m option_context(\u001b[38;5;124m\"\u001b[39m\u001b[38;5;124mmode.chained_assignment\u001b[39m\u001b[38;5;124m\"\u001b[39m, \u001b[38;5;28;01mNone\u001b[39;00m):\n\u001b[1;32m    812\u001b[0m     \u001b[38;5;28;01mfor\u001b[39;00m i, v \u001b[38;5;129;01min\u001b[39;00m \u001b[38;5;28menumerate\u001b[39m(series_gen):\n\u001b[1;32m    813\u001b[0m         \u001b[38;5;66;03m# ignore SettingWithCopy here in case the user mutates\u001b[39;00m\n\u001b[0;32m--> 814\u001b[0m         results[i] \u001b[38;5;241m=\u001b[39m \u001b[38;5;28;43mself\u001b[39;49m\u001b[38;5;241;43m.\u001b[39;49m\u001b[43mf\u001b[49m\u001b[43m(\u001b[49m\u001b[43mv\u001b[49m\u001b[43m)\u001b[49m\n\u001b[1;32m    815\u001b[0m         \u001b[38;5;28;01mif\u001b[39;00m \u001b[38;5;28misinstance\u001b[39m(results[i], ABCSeries):\n\u001b[1;32m    816\u001b[0m             \u001b[38;5;66;03m# If we have a view on v, we need to make a copy because\u001b[39;00m\n\u001b[1;32m    817\u001b[0m             \u001b[38;5;66;03m#  series_generator will swap out the underlying data\u001b[39;00m\n\u001b[1;32m    818\u001b[0m             results[i] \u001b[38;5;241m=\u001b[39m results[i]\u001b[38;5;241m.\u001b[39mcopy(deep\u001b[38;5;241m=\u001b[39m\u001b[38;5;28;01mFalse\u001b[39;00m)\n",
      "Cell \u001b[0;32mIn[13], line 4\u001b[0m, in \u001b[0;36malign\u001b[0;34m(row)\u001b[0m\n\u001b[1;32m      2\u001b[0m source \u001b[38;5;241m=\u001b[39m \u001b[38;5;28mint\u001b[39m(np\u001b[38;5;241m.\u001b[39mceil((row[\u001b[38;5;124m'\u001b[39m\u001b[38;5;124mlen_ins_ext\u001b[39m\u001b[38;5;124m'\u001b[39m] \u001b[38;5;241m/\u001b[39m \u001b[38;5;241m3\u001b[39m))) \u001b[38;5;241m*\u001b[39m motif\n\u001b[1;32m      3\u001b[0m target \u001b[38;5;241m=\u001b[39m row[\u001b[38;5;124m'\u001b[39m\u001b[38;5;124mins_oriented\u001b[39m\u001b[38;5;124m'\u001b[39m]\n\u001b[0;32m----> 4\u001b[0m aligned_source, aligned_target \u001b[38;5;241m=\u001b[39m \u001b[43mNW\u001b[49m\u001b[38;5;241;43m.\u001b[39;49m\u001b[43mget_alignment\u001b[49m\u001b[43m(\u001b[49m\u001b[43msource\u001b[49m\u001b[43m,\u001b[49m\u001b[43m \u001b[49m\u001b[43mtarget\u001b[49m\u001b[43m,\u001b[49m\u001b[43m \u001b[49m\u001b[43mreturn_score_matrix\u001b[49m\u001b[38;5;241;43m=\u001b[39;49m\u001b[38;5;28;43;01mFalse\u001b[39;49;00m\u001b[43m)\u001b[49m\n\u001b[1;32m      5\u001b[0m aligned_source \u001b[38;5;241m=\u001b[39m aligned_source\u001b[38;5;241m.\u001b[39msplit(\u001b[38;5;124m'\u001b[39m\u001b[38;5;124m | \u001b[39m\u001b[38;5;124m'\u001b[39m)\n\u001b[1;32m      6\u001b[0m aligned_target \u001b[38;5;241m=\u001b[39m aligned_target\u001b[38;5;241m.\u001b[39msplit(\u001b[38;5;124m'\u001b[39m\u001b[38;5;124m | \u001b[39m\u001b[38;5;124m'\u001b[39m)\n",
      "File \u001b[0;32m/usr/local/lib/python3.8/site-packages/string2string/alignment/classical.py:457\u001b[0m, in \u001b[0;36mNeedlemanWunsch.get_alignment\u001b[0;34m(self, str1, str2, return_score_matrix)\u001b[0m\n\u001b[1;32m    454\u001b[0m \u001b[38;5;28;01mfor\u001b[39;00m i \u001b[38;5;129;01min\u001b[39;00m \u001b[38;5;28mrange\u001b[39m(\u001b[38;5;241m1\u001b[39m, len1 \u001b[38;5;241m+\u001b[39m \u001b[38;5;241m1\u001b[39m):\n\u001b[1;32m    455\u001b[0m     \u001b[38;5;28;01mfor\u001b[39;00m j \u001b[38;5;129;01min\u001b[39;00m \u001b[38;5;28mrange\u001b[39m(\u001b[38;5;241m1\u001b[39m, len2 \u001b[38;5;241m+\u001b[39m \u001b[38;5;241m1\u001b[39m):\n\u001b[1;32m    456\u001b[0m         \u001b[38;5;66;03m# Get the scores of the three possible paths.\u001b[39;00m\n\u001b[0;32m--> 457\u001b[0m         match_score \u001b[38;5;241m=\u001b[39m score_matrix[i \u001b[38;5;241m-\u001b[39m \u001b[38;5;241m1\u001b[39m, j \u001b[38;5;241m-\u001b[39m \u001b[38;5;241m1\u001b[39m] \u001b[38;5;241m+\u001b[39m \u001b[38;5;28;43mself\u001b[39;49m\u001b[38;5;241;43m.\u001b[39;49m\u001b[43mget_match_weight\u001b[49m\u001b[43m(\u001b[49m\u001b[43mstr1\u001b[49m\u001b[43m[\u001b[49m\u001b[43mi\u001b[49m\u001b[43m \u001b[49m\u001b[38;5;241;43m-\u001b[39;49m\u001b[43m \u001b[49m\u001b[38;5;241;43m1\u001b[39;49m\u001b[43m]\u001b[49m\u001b[43m,\u001b[49m\u001b[43m \u001b[49m\u001b[43mstr2\u001b[49m\u001b[43m[\u001b[49m\u001b[43mj\u001b[49m\u001b[43m \u001b[49m\u001b[38;5;241;43m-\u001b[39;49m\u001b[43m \u001b[49m\u001b[38;5;241;43m1\u001b[39;49m\u001b[43m]\u001b[49m\u001b[43m)\u001b[49m\n\u001b[1;32m    458\u001b[0m         delete_score \u001b[38;5;241m=\u001b[39m score_matrix[i \u001b[38;5;241m-\u001b[39m \u001b[38;5;241m1\u001b[39m, j] \u001b[38;5;241m+\u001b[39m \u001b[38;5;28mself\u001b[39m\u001b[38;5;241m.\u001b[39mget_gap_weight(str1[i \u001b[38;5;241m-\u001b[39m \u001b[38;5;241m1\u001b[39m])\n\u001b[1;32m    459\u001b[0m         insert_score \u001b[38;5;241m=\u001b[39m score_matrix[i, j \u001b[38;5;241m-\u001b[39m \u001b[38;5;241m1\u001b[39m] \u001b[38;5;241m+\u001b[39m \u001b[38;5;28mself\u001b[39m\u001b[38;5;241m.\u001b[39mget_gap_weight(str2[j \u001b[38;5;241m-\u001b[39m \u001b[38;5;241m1\u001b[39m])\n",
      "File \u001b[0;32m/usr/local/lib/python3.8/site-packages/string2string/alignment/classical.py:101\u001b[0m, in \u001b[0;36mStringAlignment.get_match_weight\u001b[0;34m(self, c1, c2)\u001b[0m\n\u001b[1;32m     99\u001b[0m \u001b[38;5;66;03m# If there is no match dictionary, return the match weight if the characters are the same, and the mismatch weight otherwise.\u001b[39;00m\n\u001b[1;32m    100\u001b[0m \u001b[38;5;28;01mif\u001b[39;00m \u001b[38;5;28mself\u001b[39m\u001b[38;5;241m.\u001b[39mmatch_dict \u001b[38;5;129;01mis\u001b[39;00m \u001b[38;5;28;01mNone\u001b[39;00m:\n\u001b[0;32m--> 101\u001b[0m     \u001b[38;5;28;01mif\u001b[39;00m \u001b[43mc1\u001b[49m\u001b[43m \u001b[49m\u001b[38;5;241;43m==\u001b[39;49m\u001b[43m \u001b[49m\u001b[43mc2\u001b[49m:\n\u001b[1;32m    102\u001b[0m         \u001b[38;5;28;01mreturn\u001b[39;00m \u001b[38;5;28mself\u001b[39m\u001b[38;5;241m.\u001b[39mmatch_weight\n\u001b[1;32m    103\u001b[0m     \u001b[38;5;28;01mreturn\u001b[39;00m \u001b[38;5;28mself\u001b[39m\u001b[38;5;241m.\u001b[39mmismatch_weight\n",
      "\u001b[0;31mKeyboardInterrupt\u001b[0m: "
     ]
    }
   ],
   "source": [
    "%%time\n",
    "dfg['ins_aligned'] = dfg.apply(align, axis=1)"
   ]
  },
  {
   "cell_type": "code",
   "execution_count": 15,
   "id": "1b342bbb-0a7c-4a5f-8221-0b94db40cf31",
   "metadata": {},
   "outputs": [
    {
     "ename": "KeyError",
     "evalue": "'ins_aligned'",
     "output_type": "error",
     "traceback": [
      "\u001b[0;31m---------------------------------------------------------------------------\u001b[0m",
      "\u001b[0;31mKeyError\u001b[0m                                  Traceback (most recent call last)",
      "File \u001b[0;32m/usr/local/lib/python3.8/site-packages/pandas/core/indexes/base.py:3653\u001b[0m, in \u001b[0;36mIndex.get_loc\u001b[0;34m(self, key)\u001b[0m\n\u001b[1;32m   3652\u001b[0m \u001b[38;5;28;01mtry\u001b[39;00m:\n\u001b[0;32m-> 3653\u001b[0m     \u001b[38;5;28;01mreturn\u001b[39;00m \u001b[38;5;28;43mself\u001b[39;49m\u001b[38;5;241;43m.\u001b[39;49m\u001b[43m_engine\u001b[49m\u001b[38;5;241;43m.\u001b[39;49m\u001b[43mget_loc\u001b[49m\u001b[43m(\u001b[49m\u001b[43mcasted_key\u001b[49m\u001b[43m)\u001b[49m\n\u001b[1;32m   3654\u001b[0m \u001b[38;5;28;01mexcept\u001b[39;00m \u001b[38;5;167;01mKeyError\u001b[39;00m \u001b[38;5;28;01mas\u001b[39;00m err:\n",
      "File \u001b[0;32m/usr/local/lib/python3.8/site-packages/pandas/_libs/index.pyx:147\u001b[0m, in \u001b[0;36mpandas._libs.index.IndexEngine.get_loc\u001b[0;34m()\u001b[0m\n",
      "File \u001b[0;32m/usr/local/lib/python3.8/site-packages/pandas/_libs/index.pyx:176\u001b[0m, in \u001b[0;36mpandas._libs.index.IndexEngine.get_loc\u001b[0;34m()\u001b[0m\n",
      "File \u001b[0;32mpandas/_libs/hashtable_class_helper.pxi:7080\u001b[0m, in \u001b[0;36mpandas._libs.hashtable.PyObjectHashTable.get_item\u001b[0;34m()\u001b[0m\n",
      "File \u001b[0;32mpandas/_libs/hashtable_class_helper.pxi:7088\u001b[0m, in \u001b[0;36mpandas._libs.hashtable.PyObjectHashTable.get_item\u001b[0;34m()\u001b[0m\n",
      "\u001b[0;31mKeyError\u001b[0m: 'ins_aligned'",
      "\nThe above exception was the direct cause of the following exception:\n",
      "\u001b[0;31mKeyError\u001b[0m                                  Traceback (most recent call last)",
      "Cell \u001b[0;32mIn[15], line 1\u001b[0m\n\u001b[0;32m----> 1\u001b[0m dfg[\u001b[38;5;124m'\u001b[39m\u001b[38;5;124mlen_ins_aligned\u001b[39m\u001b[38;5;124m'\u001b[39m] \u001b[38;5;241m=\u001b[39m \u001b[43mdfg\u001b[49m\u001b[43m[\u001b[49m\u001b[38;5;124;43m'\u001b[39;49m\u001b[38;5;124;43mins_aligned\u001b[39;49m\u001b[38;5;124;43m'\u001b[39;49m\u001b[43m]\u001b[49m\u001b[38;5;241m.\u001b[39mstr\u001b[38;5;241m.\u001b[39mlen()\n",
      "File \u001b[0;32m/usr/local/lib/python3.8/site-packages/pandas/core/frame.py:3761\u001b[0m, in \u001b[0;36mDataFrame.__getitem__\u001b[0;34m(self, key)\u001b[0m\n\u001b[1;32m   3759\u001b[0m \u001b[38;5;28;01mif\u001b[39;00m \u001b[38;5;28mself\u001b[39m\u001b[38;5;241m.\u001b[39mcolumns\u001b[38;5;241m.\u001b[39mnlevels \u001b[38;5;241m>\u001b[39m \u001b[38;5;241m1\u001b[39m:\n\u001b[1;32m   3760\u001b[0m     \u001b[38;5;28;01mreturn\u001b[39;00m \u001b[38;5;28mself\u001b[39m\u001b[38;5;241m.\u001b[39m_getitem_multilevel(key)\n\u001b[0;32m-> 3761\u001b[0m indexer \u001b[38;5;241m=\u001b[39m \u001b[38;5;28;43mself\u001b[39;49m\u001b[38;5;241;43m.\u001b[39;49m\u001b[43mcolumns\u001b[49m\u001b[38;5;241;43m.\u001b[39;49m\u001b[43mget_loc\u001b[49m\u001b[43m(\u001b[49m\u001b[43mkey\u001b[49m\u001b[43m)\u001b[49m\n\u001b[1;32m   3762\u001b[0m \u001b[38;5;28;01mif\u001b[39;00m is_integer(indexer):\n\u001b[1;32m   3763\u001b[0m     indexer \u001b[38;5;241m=\u001b[39m [indexer]\n",
      "File \u001b[0;32m/usr/local/lib/python3.8/site-packages/pandas/core/indexes/base.py:3655\u001b[0m, in \u001b[0;36mIndex.get_loc\u001b[0;34m(self, key)\u001b[0m\n\u001b[1;32m   3653\u001b[0m     \u001b[38;5;28;01mreturn\u001b[39;00m \u001b[38;5;28mself\u001b[39m\u001b[38;5;241m.\u001b[39m_engine\u001b[38;5;241m.\u001b[39mget_loc(casted_key)\n\u001b[1;32m   3654\u001b[0m \u001b[38;5;28;01mexcept\u001b[39;00m \u001b[38;5;167;01mKeyError\u001b[39;00m \u001b[38;5;28;01mas\u001b[39;00m err:\n\u001b[0;32m-> 3655\u001b[0m     \u001b[38;5;28;01mraise\u001b[39;00m \u001b[38;5;167;01mKeyError\u001b[39;00m(key) \u001b[38;5;28;01mfrom\u001b[39;00m \u001b[38;5;21;01merr\u001b[39;00m\n\u001b[1;32m   3656\u001b[0m \u001b[38;5;28;01mexcept\u001b[39;00m \u001b[38;5;167;01mTypeError\u001b[39;00m:\n\u001b[1;32m   3657\u001b[0m     \u001b[38;5;66;03m# If we have a listlike key, _check_indexing_error will raise\u001b[39;00m\n\u001b[1;32m   3658\u001b[0m     \u001b[38;5;66;03m#  InvalidIndexError. Otherwise we fall through and re-raise\u001b[39;00m\n\u001b[1;32m   3659\u001b[0m     \u001b[38;5;66;03m#  the TypeError.\u001b[39;00m\n\u001b[1;32m   3660\u001b[0m     \u001b[38;5;28mself\u001b[39m\u001b[38;5;241m.\u001b[39m_check_indexing_error(key)\n",
      "\u001b[0;31mKeyError\u001b[0m: 'ins_aligned'"
     ]
    }
   ],
   "source": [
    "dfg['len_ins_aligned'] = dfg['ins_aligned'].str.len()"
   ]
  },
  {
   "cell_type": "code",
   "execution_count": null,
   "id": "e7536b38-0eff-4fcf-af70-28d08992301c",
   "metadata": {},
   "outputs": [],
   "source": [
    "cond = dfg['ins_aligned'] == dfg['ins_oriented']\n",
    "dfg[cond]"
   ]
  },
  {
   "cell_type": "code",
   "execution_count": null,
   "id": "6d93596d-113f-456a-8e40-bb0798aab6eb",
   "metadata": {},
   "outputs": [],
   "source": [
    "dfg = dfg.sort_values(['len_ins_aligned', 'ins_aligned'])\n",
    "dfg"
   ]
  },
  {
   "cell_type": "code",
   "execution_count": null,
   "id": "6748b08a-6835-40ca-866d-12c53bc929c5",
   "metadata": {},
   "outputs": [],
   "source": [
    "results = []\n",
    "for i in dfg.index:\n",
    "    row = dfg.loc[i]\n",
    "    for j in range(row['count']):\n",
    "        results.append({'ins_aligned': row['ins_aligned'], 'len_ins_aligned': row['len_ins_aligned']})\n",
    "len(results)"
   ]
  },
  {
   "cell_type": "code",
   "execution_count": null,
   "id": "8bd86e90-9794-4d84-8012-c2a4fd6ac011",
   "metadata": {},
   "outputs": [],
   "source": [
    "dfa = pd.DataFrame(results)\n",
    "dfa"
   ]
  },
  {
   "cell_type": "code",
   "execution_count": null,
   "id": "5163edd2-8a63-42c4-9ab2-d46fddd7fecf",
   "metadata": {},
   "outputs": [],
   "source": [
    "# stop"
   ]
  },
  {
   "cell_type": "code",
   "execution_count": null,
   "id": "50c59cdb-f1c0-4990-ac6d-0ab488f94ccc",
   "metadata": {},
   "outputs": [],
   "source": [
    "results = []\n",
    "for i in range(dfa['ins_aligned'].str.len().max()):\n",
    "    cond = dfa['len_ins_aligned'] >= i + 1\n",
    "    row = dict(dfa[cond]['ins_aligned'].str[i].value_counts())\n",
    "    cond = dfa['len_ins_aligned'] == i + 1\n",
    "    row['insert_count'] = sum(cond)\n",
    "    cond = dfa['len_ins_aligned'] >= i + 1\n",
    "    row['coverage_count'] = sum(cond)\n",
    "    results.append(row)"
   ]
  },
  {
   "cell_type": "code",
   "execution_count": null,
   "id": "e5c44331-5a66-4817-8d56-37cf8768afbc",
   "metadata": {},
   "outputs": [],
   "source": [
    "result_df = pd.DataFrame(results).fillna(0).astype(int)"
   ]
  },
  {
   "cell_type": "code",
   "execution_count": null,
   "id": "a6aed7e0-5dca-4024-a918-ecc1b7e3f9d3",
   "metadata": {},
   "outputs": [],
   "source": [
    "result_df"
   ]
  },
  {
   "cell_type": "code",
   "execution_count": null,
   "id": "32ad28d9-4cef-48f5-88dd-b2b3b90b05bc",
   "metadata": {},
   "outputs": [],
   "source": [
    "cond = result_df['coverage_count'] > 10\n",
    "result_df[cond]"
   ]
  },
  {
   "cell_type": "code",
   "execution_count": null,
   "id": "e9bbf645-f4f1-40ea-9ff8-6c308adcbd4a",
   "metadata": {},
   "outputs": [],
   "source": [
    "from PIL import Image, ImageDraw"
   ]
  },
  {
   "cell_type": "code",
   "execution_count": null,
   "id": "cfc2c61d-df13-4bbc-a909-f0d400749cfc",
   "metadata": {},
   "outputs": [],
   "source": [
    "colors = {\n",
    "    'A': 'green',\n",
    "    'C': 'red',\n",
    "    'G': 'blue',\n",
    "    'T': 'yellow',\n",
    "    ' ': 'orange'\n",
    "}\n",
    "\n",
    "def draw(df, colors, output_image):\n",
    "    width = len(df)\n",
    "    height = 100\n",
    "    # height = 100 + int((np.log2(df['insert_count'].max()) * 100).round())\n",
    "    print(height, width)\n",
    "    image = Image.new('RGB', (width, height), 'white')\n",
    "    draw = ImageDraw.Draw(image)\n",
    "    for i in sorted(df.index):\n",
    "        row = df.iloc[i]\n",
    "        maxx = 0\n",
    "        bottom = 0\n",
    "        for n in ['A', 'C', 'G', 'T', ' ']:\n",
    "            cnt = row[n]\n",
    "            freq = int((100 * cnt / row['coverage_count']).round())\n",
    "            if n == 'CAG'[i%3]:\n",
    "                color = 'black'\n",
    "            else:\n",
    "                color = colors[n]\n",
    "            for y in range(freq):\n",
    "                draw.point((i, bottom + y), fill=color)\n",
    "            bottom += freq\n",
    "    image.save(output_image)"
   ]
  },
  {
   "cell_type": "code",
   "execution_count": null,
   "id": "a36dfa9a-10c4-4136-ba17-e30bbe29a1d7",
   "metadata": {},
   "outputs": [],
   "source": [
    "draw(result_df, colors, f'{output_path}test.png')"
   ]
  },
  {
   "cell_type": "code",
   "execution_count": null,
   "id": "22652289-da3a-42a4-9710-4c63c25bb08b",
   "metadata": {},
   "outputs": [],
   "source": [
    "df.sort_values(['len_ins_ext', 'ins_oriented'])['ins_oriented']"
   ]
  }
 ],
 "metadata": {
  "kernelspec": {
   "display_name": "Python 3 (ipykernel)",
   "language": "python",
   "name": "python3"
  },
  "language_info": {
   "codemirror_mode": {
    "name": "ipython",
    "version": 3
   },
   "file_extension": ".py",
   "mimetype": "text/x-python",
   "name": "python",
   "nbconvert_exporter": "python",
   "pygments_lexer": "ipython3",
   "version": "3.8.18"
  }
 },
 "nbformat": 4,
 "nbformat_minor": 5
}
