{
 "cells": [
  {
   "cell_type": "markdown",
   "id": "541d2444-5cdc-4037-ad6c-cf9bfcbebf69",
   "metadata": {},
   "source": [
    "# STRAT read analysis"
   ]
  },
  {
   "cell_type": "code",
   "execution_count": 1,
   "id": "642755ca-9130-4bf3-bb77-3dcd586bb59e",
   "metadata": {},
   "outputs": [],
   "source": [
    "path = '/opt/data/workdir/bc6_7.guppy.ontarget.tsv'"
   ]
  },
  {
   "cell_type": "code",
   "execution_count": 2,
   "id": "7cd2fe3a-1318-40e8-9267-a0fff06f0e8c",
   "metadata": {},
   "outputs": [],
   "source": [
    "import common as c"
   ]
  },
  {
   "cell_type": "code",
   "execution_count": 3,
   "id": "c754cc89-0e28-48d0-ada9-ac8771aac47b",
   "metadata": {},
   "outputs": [],
   "source": [
    "df = c.load(path, c.COLUMNS)"
   ]
  },
  {
   "cell_type": "code",
   "execution_count": 4,
   "id": "c09152c0-8f0c-40e9-9a33-2109d423b0c3",
   "metadata": {},
   "outputs": [
    {
     "data": {
      "text/html": [
       "<div>\n",
       "<style scoped>\n",
       "    .dataframe tbody tr th:only-of-type {\n",
       "        vertical-align: middle;\n",
       "    }\n",
       "\n",
       "    .dataframe tbody tr th {\n",
       "        vertical-align: top;\n",
       "    }\n",
       "\n",
       "    .dataframe thead th {\n",
       "        text-align: right;\n",
       "    }\n",
       "</style>\n",
       "<table border=\"1\" class=\"dataframe\">\n",
       "  <thead>\n",
       "    <tr style=\"text-align: right;\">\n",
       "      <th></th>\n",
       "      <th>direction</th>\n",
       "      <th>id</th>\n",
       "      <th>prefix_flank</th>\n",
       "      <th>ins</th>\n",
       "      <th>suffix_flank</th>\n",
       "      <th>prefix_flank_q</th>\n",
       "      <th>ins_q</th>\n",
       "      <th>suffix_flank_q</th>\n",
       "    </tr>\n",
       "  </thead>\n",
       "  <tbody>\n",
       "    <tr>\n",
       "      <th>0</th>\n",
       "      <td>fwd</td>\n",
       "      <td>@85ef1b02-6b0d-4f9e-996a-cdf0b0cdebb7</td>\n",
       "      <td>GTGATCCCCC</td>\n",
       "      <td>CAGCAGCAGCAGCA</td>\n",
       "      <td>GCATTCCCGC</td>\n",
       "      <td>99&lt;882017A</td>\n",
       "      <td>CBCFEHEFIH??&gt;&lt;</td>\n",
       "      <td>&lt;&lt;&lt;=6000+(</td>\n",
       "    </tr>\n",
       "    <tr>\n",
       "      <th>1</th>\n",
       "      <td>fwd</td>\n",
       "      <td>@7a4594f2-aa00-4115-9f0a-1eec8a3548b4</td>\n",
       "      <td>GTGATCCCCC</td>\n",
       "      <td>CAGCAGCAGCA</td>\n",
       "      <td>GCAGCATTCC</td>\n",
       "      <td>FB888+**-7</td>\n",
       "      <td>CACE=&lt;&lt;&lt;@@@</td>\n",
       "      <td>BCAFBAB@@B</td>\n",
       "    </tr>\n",
       "  </tbody>\n",
       "</table>\n",
       "</div>"
      ],
      "text/plain": [
       "  direction                                     id prefix_flank  \\\n",
       "0       fwd  @85ef1b02-6b0d-4f9e-996a-cdf0b0cdebb7   GTGATCCCCC   \n",
       "1       fwd  @7a4594f2-aa00-4115-9f0a-1eec8a3548b4   GTGATCCCCC   \n",
       "\n",
       "              ins suffix_flank prefix_flank_q           ins_q suffix_flank_q  \n",
       "0  CAGCAGCAGCAGCA   GCATTCCCGC     99<882017A  CBCFEHEFIH??><     <<<=6000+(  \n",
       "1     CAGCAGCAGCA   GCAGCATTCC     FB888+**-7     CACE=<<<@@@     BCAFBAB@@B  "
      ]
     },
     "execution_count": 4,
     "metadata": {},
     "output_type": "execute_result"
    }
   ],
   "source": [
    "df.head(2)"
   ]
  },
  {
   "cell_type": "code",
   "execution_count": 5,
   "id": "f8ee085d-545f-4713-914e-10c3bbf0822a",
   "metadata": {},
   "outputs": [],
   "source": [
    "df = c.lengths(df, ['ins'], ['len_ins'])"
   ]
  },
  {
   "cell_type": "code",
   "execution_count": 6,
   "id": "c2ec3b5c-5fdc-49df-9e03-5f30c11c1446",
   "metadata": {},
   "outputs": [],
   "source": [
    "cond = df['len_ins'] > 300\n",
    "df = df[cond]"
   ]
  },
  {
   "cell_type": "code",
   "execution_count": 7,
   "id": "a2fa0d18-a531-426f-bb1a-581623e45477",
   "metadata": {},
   "outputs": [
    {
     "data": {
      "text/plain": [
       "<Axes: xlabel='len_ins', ylabel='Count'>"
      ]
     },
     "execution_count": 7,
     "metadata": {},
     "output_type": "execute_result"
    },
    {
     "data": {
      "image/png": "[encoded data removed]",
      "text/plain": [
       "<Figure size 640x480 with 1 Axes>"
      ]
     },
     "metadata": {},
     "output_type": "display_data"
    }
   ],
   "source": [
    "c.sns.histplot(data=df, x='len_ins', hue='direction', element=\"step\", stat=\"count\", common_norm=False, bins=20)"
   ]
  },
  {
   "cell_type": "code",
   "execution_count": 8,
   "id": "e55c2141-cc70-4ecc-b5cd-4340bf9d8b3e",
   "metadata": {},
   "outputs": [],
   "source": [
    "df = c.pd.concat([df, df.apply(lambda x: c.pd.Series(c.freqs(x['ins'], 'ACGT')), axis=1)], axis=1)"
   ]
  },
  {
   "cell_type": "code",
   "execution_count": 9,
   "id": "4fbc0196-3c65-4040-bbc1-453a95b9b8c1",
   "metadata": {},
   "outputs": [
    {
     "data": {
      "text/html": [
       "<div>\n",
       "<style scoped>\n",
       "    .dataframe tbody tr th:only-of-type {\n",
       "        vertical-align: middle;\n",
       "    }\n",
       "\n",
       "    .dataframe tbody tr th {\n",
       "        vertical-align: top;\n",
       "    }\n",
       "\n",
       "    .dataframe thead th {\n",
       "        text-align: right;\n",
       "    }\n",
       "</style>\n",
       "<table border=\"1\" class=\"dataframe\">\n",
       "  <thead>\n",
       "    <tr style=\"text-align: right;\">\n",
       "      <th></th>\n",
       "      <th>direction</th>\n",
       "      <th>id</th>\n",
       "      <th>prefix_flank</th>\n",
       "      <th>ins</th>\n",
       "      <th>suffix_flank</th>\n",
       "      <th>prefix_flank_q</th>\n",
       "      <th>ins_q</th>\n",
       "      <th>suffix_flank_q</th>\n",
       "      <th>len_ins</th>\n",
       "      <th>A</th>\n",
       "      <th>C</th>\n",
       "      <th>G</th>\n",
       "      <th>T</th>\n",
       "    </tr>\n",
       "  </thead>\n",
       "  <tbody>\n",
       "    <tr>\n",
       "      <th>254</th>\n",
       "      <td>fwd</td>\n",
       "      <td>@9d2c7514-bd84-4c42-8f66-8027a714fa87</td>\n",
       "      <td>GTGATCCCCC</td>\n",
       "      <td>CAGCAGCAGCAGCAGCAGCAGCAGCAGCAGCGGCGCGGCGCAGCGG...</td>\n",
       "      <td>GCAGCATCCA</td>\n",
       "      <td>0-9684422=</td>\n",
       "      <td>&gt;2...55444122-,,*******,,+,,)(&amp;%''(''))(%'-/07...</td>\n",
       "      <td>22....0&amp;&amp;3</td>\n",
       "      <td>889</td>\n",
       "      <td>88</td>\n",
       "      <td>358</td>\n",
       "      <td>443</td>\n",
       "      <td>0</td>\n",
       "    </tr>\n",
       "    <tr>\n",
       "      <th>376</th>\n",
       "      <td>fwd</td>\n",
       "      <td>@351ef4ac-766b-47fc-83f9-5a6c83997440</td>\n",
       "      <td>GTGATCCCCA</td>\n",
       "      <td>GCAGCAGCAGCAGCAGCAGCAGCAGCAGCAGCAGCAGCAGCAGCAG...</td>\n",
       "      <td>CGGCGTTCCG</td>\n",
       "      <td>%%%%(/,8;&lt;</td>\n",
       "      <td>DMKINRI{OMHNIFK{{LPGKUPHJEGKKLJFNI{LIHLMOTF{NI...</td>\n",
       "      <td>''00***)-'</td>\n",
       "      <td>1352</td>\n",
       "      <td>582</td>\n",
       "      <td>449</td>\n",
       "      <td>320</td>\n",
       "      <td>1</td>\n",
       "    </tr>\n",
       "  </tbody>\n",
       "</table>\n",
       "</div>"
      ],
      "text/plain": [
       "    direction                                     id prefix_flank  \\\n",
       "254       fwd  @9d2c7514-bd84-4c42-8f66-8027a714fa87   GTGATCCCCC   \n",
       "376       fwd  @351ef4ac-766b-47fc-83f9-5a6c83997440   GTGATCCCCA   \n",
       "\n",
       "                                                   ins suffix_flank  \\\n",
       "254  CAGCAGCAGCAGCAGCAGCAGCAGCAGCAGCGGCGCGGCGCAGCGG...   GCAGCATCCA   \n",
       "376  GCAGCAGCAGCAGCAGCAGCAGCAGCAGCAGCAGCAGCAGCAGCAG...   CGGCGTTCCG   \n",
       "\n",
       "    prefix_flank_q                                              ins_q  \\\n",
       "254     0-9684422=  >2...55444122-,,*******,,+,,)(&%''(''))(%'-/07...   \n",
       "376     %%%%(/,8;<  DMKINRI{OMHNIFK{{LPGKUPHJEGKKLJFNI{LIHLMOTF{NI...   \n",
       "\n",
       "    suffix_flank_q  len_ins    A    C    G  T  \n",
       "254     22....0&&3      889   88  358  443  0  \n",
       "376     ''00***)-'     1352  582  449  320  1  "
      ]
     },
     "execution_count": 9,
     "metadata": {},
     "output_type": "execute_result"
    }
   ],
   "source": [
    "df.head(2)"
   ]
  },
  {
   "cell_type": "code",
   "execution_count": 10,
   "id": "4f779347-187a-40af-84cc-104505824af7",
   "metadata": {},
   "outputs": [],
   "source": [
    "df['AT'] = df.apply(lambda x: (x['A'] + x['T']) / x.len_ins, axis=1)"
   ]
  },
  {
   "cell_type": "code",
   "execution_count": 11,
   "id": "bf37b3af-7f32-4f00-a479-5b788d68b230",
   "metadata": {},
   "outputs": [
    {
     "data": {
      "text/plain": [
       "array([[<Axes: title={'center': 'AT'}>]], dtype=object)"
      ]
     },
     "execution_count": 11,
     "metadata": {},
     "output_type": "execute_result"
    },
    {
     "data": {
      "image/png": "[encoded data removed]",
      "text/plain": [
       "<Figure size 640x480 with 1 Axes>"
      ]
     },
     "metadata": {},
     "output_type": "display_data"
    }
   ],
   "source": [
    "df.hist('AT', bins=10)"
   ]
  }
 ],
 "metadata": {
  "kernelspec": {
   "display_name": "Python 3 (ipykernel)",
   "language": "python",
   "name": "python3"
  },
  "language_info": {
   "codemirror_mode": {
    "name": "ipython",
    "version": 3
   },
   "file_extension": ".py",
   "mimetype": "text/x-python",
   "name": "python",
   "nbconvert_exporter": "python",
   "pygments_lexer": "ipython3",
   "version": "3.8.18"
  }
 },
 "nbformat": 4,
 "nbformat_minor": 5
}
