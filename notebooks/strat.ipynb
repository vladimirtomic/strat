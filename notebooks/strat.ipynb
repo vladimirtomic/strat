{
 "cells": [
  {
   "cell_type": "markdown",
   "id": "42861d41-a59e-4aa7-8c95-8ec5f058d605",
   "metadata": {},
   "source": [
    "# STRAT - Short Tandem Repeat Analysis tool"
   ]
  },
  {
   "cell_type": "markdown",
   "id": "820018bd-f333-44c8-87ea-45d3c15225dc",
   "metadata": {},
   "source": [
    "## 1. Detect flanks and high fidelity reads"
   ]
  },
  {
   "cell_type": "markdown",
   "id": "e0e4bbdf-5ffc-4c4e-8215-01b444b7b71e",
   "metadata": {},
   "source": [
    "### 1.1 Imports"
   ]
  },
  {
   "cell_type": "code",
   "execution_count": 1,
   "id": "66f244c0-8dbd-4100-9242-4a26eefb0578",
   "metadata": {},
   "outputs": [],
   "source": [
    "from datetime import datetime\n",
    "import gzip\n",
    "from multiprocessing.dummy import Pool\n",
    "import regex\n",
    "from os import listdir\n",
    "from os import sched_getaffinity\n",
    "from os.path import isfile, join"
   ]
  },
  {
   "cell_type": "markdown",
   "id": "035ef85a-f2ba-4a0f-a853-74d6b71a7df1",
   "metadata": {},
   "source": [
    "### 1.2 Arguments"
   ]
  },
  {
   "cell_type": "code",
   "execution_count": 2,
   "id": "6dfc47ba-04b3-4e88-b902-f9ee059bd99d",
   "metadata": {},
   "outputs": [
    {
     "data": {
      "text/plain": [
       "[68,\n",
       " '/opt/data/pcr2persons/fastq/guppy/AQD087_pass_fae3d762_8343086c_0.fastq.gz',\n",
       " '/opt/data/pcr2persons/fastq/guppy/AQD087_pass_fae3d762_8343086c_9.fastq.gz']"
      ]
     },
     "execution_count": 2,
     "metadata": {},
     "output_type": "execute_result"
    }
   ],
   "source": [
    "prefix = 'AGAAAGAAATGGTCTGTGATCCCCC'\n",
    "suffix = 'CATTCCCGGCTACAAGGACCCTTCG'\n",
    "motif = 'CAG'\n",
    "tolerance = '{e<=5}'\n",
    "\n",
    "# pcr2persons guppy\n",
    "input_path = '/opt/data/pcr2persons/fastq/guppy/'\n",
    "output_path = '/opt/data/pcr2persons/output/guppy/'\n",
    "\n",
    "# pcr2persons dorado\n",
    "# input_path = '/opt/data/pcr2persons/fastq/dorado/'\n",
    "# output_path = '/opt/data/pcr2persons/output/dorado/'\n",
    "\n",
    "# jovan guppy\n",
    "# input_path = '/opt/data/jovan/fastq/guppy/'\n",
    "# output_path = '/opt/data/jovan/output/guppy/'\n",
    "\n",
    "# jovan dorado\n",
    "# input_path = '/opt/data/jovan/fastq/dorado/'\n",
    "# output_path = '/opt/data/jovan/output/dorado/'\n",
    "\n",
    "# dm108 guppy\n",
    "# input_path = '/opt/data/dm108/fastq/guppy/'\n",
    "# output_path = '/opt/data/dm108/output/guppy/'\n",
    "\n",
    "fastq_paths = sorted(join(input_path, f) for f in listdir(input_path) if 'fastq' in f and isfile(join(input_path, f)))\n",
    "# fastq_paths = fastq_paths[:1]\n",
    "[len(fastq_paths), fastq_paths[0], fastq_paths[-1]]"
   ]
  },
  {
   "cell_type": "markdown",
   "id": "9d539672-5878-4cb8-b24e-f3ce6a3bcaa5",
   "metadata": {},
   "source": [
    "### 1.3 Constants"
   ]
  },
  {
   "cell_type": "code",
   "execution_count": 3,
   "id": "9e2bcd3b-fda9-46d7-b95b-8e2c3abd83f9",
   "metadata": {},
   "outputs": [],
   "source": [
    "DIRECTIONS = ['fwd', 'rev']\n",
    "\n",
    "COMPLEMENT = {\n",
    "    'A': 'T',\n",
    "    'C': 'G',\n",
    "    'G': 'C',\n",
    "    'T': 'A'\n",
    "}"
   ]
  },
  {
   "cell_type": "markdown",
   "id": "8e3a1c8e-5bda-4f71-b5cb-412bf443af14",
   "metadata": {},
   "source": [
    "### 1.4 Functions"
   ]
  },
  {
   "cell_type": "code",
   "execution_count": 4,
   "id": "65aa7543-e54e-48be-a616-3d6b5c2ac514",
   "metadata": {},
   "outputs": [],
   "source": [
    "def rev_comp(seq, comps):\n",
    "    return ''.join(comps.get(n, n) for n in reversed(seq))\n",
    "\n",
    "\n",
    "def chop(string, start, end):\n",
    "    prefix_flank = string[start-10:start]\n",
    "    suffix_flank = string[end:end+10]\n",
    "    ins = string[start:end]\n",
    "    return prefix_flank, ins, suffix_flank\n",
    "\n",
    "\n",
    "class ReadProcessor:\n",
    "    def __init__(\n",
    "        self,\n",
    "        prefix,\n",
    "        suffix,\n",
    "        tolerance\n",
    "    ):\n",
    "        self.prefix = {\n",
    "            'fwd': f'({prefix})' + tolerance,\n",
    "            'rev': f'({rev_comp(suffix, COMPLEMENT)})' + tolerance\n",
    "        }\n",
    "        self.suffix = {\n",
    "            'fwd': f'({suffix})' + tolerance,\n",
    "            'rev': f'({rev_comp(prefix, COMPLEMENT)})' + tolerance\n",
    "        }\n",
    "\n",
    "    def process_read(self, id, seq, opt, qual):\n",
    "        hits = 0\n",
    "        row = ['offtarget', id, seq, qual]\n",
    "        for k in DIRECTIONS:\n",
    "            prefixes = regex.findall(self.prefix[k], seq)\n",
    "            suffixes = regex.findall(self.suffix[k], seq)\n",
    "            if len(prefixes) == 1 and len(suffixes) == 1:\n",
    "                if hits == 1:\n",
    "                    hits = 2\n",
    "                    break\n",
    "                \n",
    "                start = seq.index(prefixes[0]) + len(prefixes[0])\n",
    "                end = seq.index(suffixes[0])\n",
    "                if end > start:\n",
    "                    direction = k\n",
    "                    hits = 1\n",
    "                    prefix_flank, ins, suffix_flank = chop(seq, start, end)\n",
    "                    prefix_flank_q, ins_q, suffix_flank_q = chop(qual, start, end)\n",
    "\n",
    "        if hits == 1:\n",
    "            return [\n",
    "                'ontarget',\n",
    "                direction,\n",
    "                id,\n",
    "                prefix_flank, ins, suffix_flank,\n",
    "                prefix_flank_q, ins_q, suffix_flank_q\n",
    "            ]\n",
    "        else:\n",
    "            return row\n",
    "\n",
    "\n",
    "def process_fastq(fastq_path, output_path, read_processor):\n",
    "    print(f'{datetime.now()} - {fastq_path}')\n",
    "    fastq_name = fastq_path.split('/')[-1]\n",
    "    gzipped = fastq_name.endswith('.gz')\n",
    "    ontarget_output_path = f'{output_path}{fastq_name}.ontarget.tsv'\n",
    "    # offtarget_output_path = f'{output_path}{fastq_name}.offtarget.tsv'\n",
    "    openner = gzip.open if gzipped else open\n",
    "\n",
    "    with openner(fastq_path, 'rt') as f, open(ontarget_output_path, 'wt') as o:\n",
    "        for i, line in enumerate(f):\n",
    "            line = line.strip()\n",
    "            if i%4 == 0:\n",
    "                if line.startswith('@'):\n",
    "                    id = line.split(' ')[0]\n",
    "                else:\n",
    "                    print(f'Error in {fastq_path} line {i} - not an ID line')\n",
    "                    raise\n",
    "            elif i%4 == 1:\n",
    "                seq = line\n",
    "            elif i%4 == 2:\n",
    "                if line.startswith('+'):\n",
    "                    opt = line\n",
    "                else:\n",
    "                    print(f'Error in {fastq_path} line {i} - not a + line')\n",
    "                    raise\n",
    "            elif i%4 == 3:\n",
    "                qual = line\n",
    "                res = read_processor.process_read(id, seq, opt, qual)\n",
    "                if res[0] == 'ontarget':\n",
    "                    o.write('\\t'.join(res[1:]) + '\\n')\n",
    "                else:\n",
    "                    # g.write('\\t'.join(res[1:]) + '\\n')\n",
    "                    pass"
   ]
  },
  {
   "cell_type": "markdown",
   "id": "b01caf10-f0a9-41a3-939e-bdfc784c2a3f",
   "metadata": {},
   "source": [
    "### 1.5 Main"
   ]
  },
  {
   "cell_type": "code",
   "execution_count": 5,
   "id": "0f2a817d-08a2-4125-a919-b60ff424312e",
   "metadata": {},
   "outputs": [
    {
     "data": {
      "text/plain": [
       "{0, 1, 2, 3, 4, 5, 6, 7}"
      ]
     },
     "execution_count": 5,
     "metadata": {},
     "output_type": "execute_result"
    }
   ],
   "source": [
    "sched_getaffinity(0)"
   ]
  },
  {
   "cell_type": "code",
   "execution_count": 6,
   "id": "d5bfefe9-5e43-46ae-bf8f-7680bc1c30d2",
   "metadata": {},
   "outputs": [],
   "source": [
    "# stop"
   ]
  },
  {
   "cell_type": "code",
   "execution_count": 7,
   "id": "fdebbd29-1170-4063-b7a9-d81f4075826e",
   "metadata": {},
   "outputs": [
    {
     "name": "stdout",
     "output_type": "stream",
     "text": [
      "2024-01-27 18:30:33.274182 - Strat start\n",
      "2024-01-27 18:30:33.289917 - /opt/data/pcr2persons/fastq/guppy/AQD087_pass_fae3d762_8343086c_0.fastq.gz\n",
      "2024-01-27 18:30:33.290087 - /opt/data/pcr2persons/fastq/guppy/AQD087_pass_fae3d762_8343086c_17.fastq.gz\n",
      "2024-01-27 18:34:16.164783 - /opt/data/pcr2persons/fastq/guppy/AQD087_pass_fae3d762_8343086c_18.fastq.gz\n",
      "2024-01-27 18:34:22.225852 - /opt/data/pcr2persons/fastq/guppy/AQD087_pass_fae3d762_8343086c_1.fastq.gz\n",
      "2024-01-27 18:37:49.371716 - /opt/data/pcr2persons/fastq/guppy/AQD087_pass_fae3d762_8343086c_19.fastq.gz\n",
      "2024-01-27 18:38:04.124312 - /opt/data/pcr2persons/fastq/guppy/AQD087_pass_fae3d762_8343086c_10.fastq.gz\n",
      "2024-01-27 18:41:24.819586 - /opt/data/pcr2persons/fastq/guppy/AQD087_pass_fae3d762_8343086c_2.fastq.gz\n",
      "2024-01-27 18:41:48.312182 - /opt/data/pcr2persons/fastq/guppy/AQD087_pass_fae3d762_8343086c_11.fastq.gz\n",
      "2024-01-27 18:45:04.083059 - /opt/data/pcr2persons/fastq/guppy/AQD087_pass_fae3d762_8343086c_20.fastq.gz\n",
      "2024-01-27 18:45:23.358504 - /opt/data/pcr2persons/fastq/guppy/AQD087_pass_fae3d762_8343086c_12.fastq.gz\n",
      "2024-01-27 18:48:37.279642 - /opt/data/pcr2persons/fastq/guppy/AQD087_pass_fae3d762_8343086c_21.fastq.gz\n",
      "2024-01-27 18:48:59.507758 - /opt/data/pcr2persons/fastq/guppy/AQD087_pass_fae3d762_8343086c_13.fastq.gz\n",
      "2024-01-27 18:52:09.161906 - /opt/data/pcr2persons/fastq/guppy/AQD087_pass_fae3d762_8343086c_22.fastq.gz\n",
      "2024-01-27 18:52:33.746272 - /opt/data/pcr2persons/fastq/guppy/AQD087_pass_fae3d762_8343086c_14.fastq.gz\n",
      "2024-01-27 18:55:43.451579 - /opt/data/pcr2persons/fastq/guppy/AQD087_pass_fae3d762_8343086c_23.fastq.gz\n",
      "2024-01-27 18:56:10.333851 - /opt/data/pcr2persons/fastq/guppy/AQD087_pass_fae3d762_8343086c_15.fastq.gz\n",
      "2024-01-27 18:59:17.235073 - /opt/data/pcr2persons/fastq/guppy/AQD087_pass_fae3d762_8343086c_24.fastq.gz\n",
      "2024-01-27 18:59:42.443640 - /opt/data/pcr2persons/fastq/guppy/AQD087_pass_fae3d762_8343086c_16.fastq.gz\n",
      "2024-01-27 19:02:49.234665 - /opt/data/pcr2persons/fastq/guppy/AQD087_pass_fae3d762_8343086c_25.fastq.gz\n",
      "2024-01-27 19:03:14.381024 - /opt/data/pcr2persons/fastq/guppy/AQD087_pass_fae3d762_8343086c_33.fastq.gz\n",
      "2024-01-27 19:06:25.121740 - /opt/data/pcr2persons/fastq/guppy/AQD087_pass_fae3d762_8343086c_26.fastq.gz\n",
      "2024-01-27 19:06:46.444157 - /opt/data/pcr2persons/fastq/guppy/AQD087_pass_fae3d762_8343086c_34.fastq.gz\n",
      "2024-01-27 19:09:58.651600 - /opt/data/pcr2persons/fastq/guppy/AQD087_pass_fae3d762_8343086c_27.fastq.gz\n",
      "2024-01-27 19:10:18.126683 - /opt/data/pcr2persons/fastq/guppy/AQD087_pass_fae3d762_8343086c_35.fastq.gz\n",
      "2024-01-27 19:13:28.577056 - /opt/data/pcr2persons/fastq/guppy/AQD087_pass_fae3d762_8343086c_28.fastq.gz\n",
      "2024-01-27 19:13:47.274108 - /opt/data/pcr2persons/fastq/guppy/AQD087_pass_fae3d762_8343086c_36.fastq.gz\n",
      "2024-01-27 19:16:58.013079 - /opt/data/pcr2persons/fastq/guppy/AQD087_pass_fae3d762_8343086c_29.fastq.gz\n",
      "2024-01-27 19:17:16.084399 - /opt/data/pcr2persons/fastq/guppy/AQD087_pass_fae3d762_8343086c_37.fastq.gz\n",
      "2024-01-27 19:20:29.922601 - /opt/data/pcr2persons/fastq/guppy/AQD087_pass_fae3d762_8343086c_3.fastq.gz\n",
      "2024-01-27 19:20:44.589183 - /opt/data/pcr2persons/fastq/guppy/AQD087_pass_fae3d762_8343086c_38.fastq.gz\n",
      "2024-01-27 19:24:06.753287 - /opt/data/pcr2persons/fastq/guppy/AQD087_pass_fae3d762_8343086c_30.fastq.gz\n",
      "2024-01-27 19:24:13.029581 - /opt/data/pcr2persons/fastq/guppy/AQD087_pass_fae3d762_8343086c_39.fastq.gz\n",
      "2024-01-27 19:27:34.335408 - /opt/data/pcr2persons/fastq/guppy/AQD087_pass_fae3d762_8343086c_31.fastq.gz\n",
      "2024-01-27 19:27:40.302125 - /opt/data/pcr2persons/fastq/guppy/AQD087_pass_fae3d762_8343086c_4.fastq.gz\n",
      "2024-01-27 19:31:00.329737 - /opt/data/pcr2persons/fastq/guppy/AQD087_pass_fae3d762_8343086c_32.fastq.gz\n",
      "2024-01-27 19:31:18.646945 - /opt/data/pcr2persons/fastq/guppy/AQD087_pass_fae3d762_8343086c_40.fastq.gz\n",
      "2024-01-27 19:34:28.454331 - /opt/data/pcr2persons/fastq/guppy/AQD087_pass_fae3d762_8343086c_41.fastq.gz\n",
      "2024-01-27 19:34:45.994094 - /opt/data/pcr2persons/fastq/guppy/AQD087_pass_fae3d762_8343086c_5.fastq.gz\n",
      "2024-01-27 19:38:00.854255 - /opt/data/pcr2persons/fastq/guppy/AQD087_pass_fae3d762_8343086c_42.fastq.gz\n",
      "2024-01-27 19:38:28.655367 - /opt/data/pcr2persons/fastq/guppy/AQD087_pass_fae3d762_8343086c_50.fastq.gz\n",
      "2024-01-27 19:41:31.445016 - /opt/data/pcr2persons/fastq/guppy/AQD087_pass_fae3d762_8343086c_43.fastq.gz\n",
      "2024-01-27 19:41:59.370146 - /opt/data/pcr2persons/fastq/guppy/AQD087_pass_fae3d762_8343086c_51.fastq.gz\n",
      "2024-01-27 19:45:00.627176 - /opt/data/pcr2persons/fastq/guppy/AQD087_pass_fae3d762_8343086c_44.fastq.gz\n",
      "2024-01-27 19:45:27.811678 - /opt/data/pcr2persons/fastq/guppy/AQD087_pass_fae3d762_8343086c_52.fastq.gz\n",
      "2024-01-27 19:48:29.358765 - /opt/data/pcr2persons/fastq/guppy/AQD087_pass_fae3d762_8343086c_45.fastq.gz\n",
      "2024-01-27 19:48:58.972263 - /opt/data/pcr2persons/fastq/guppy/AQD087_pass_fae3d762_8343086c_53.fastq.gz\n",
      "2024-01-27 19:51:55.998789 - /opt/data/pcr2persons/fastq/guppy/AQD087_pass_fae3d762_8343086c_46.fastq.gz\n",
      "2024-01-27 19:52:26.833469 - /opt/data/pcr2persons/fastq/guppy/AQD087_pass_fae3d762_8343086c_54.fastq.gz\n",
      "2024-01-27 19:55:20.947140 - /opt/data/pcr2persons/fastq/guppy/AQD087_pass_fae3d762_8343086c_47.fastq.gz\n",
      "2024-01-27 19:55:51.151898 - /opt/data/pcr2persons/fastq/guppy/AQD087_pass_fae3d762_8343086c_55.fastq.gz\n",
      "2024-01-27 19:58:45.930323 - /opt/data/pcr2persons/fastq/guppy/AQD087_pass_fae3d762_8343086c_48.fastq.gz\n",
      "2024-01-27 19:59:18.173968 - /opt/data/pcr2persons/fastq/guppy/AQD087_pass_fae3d762_8343086c_56.fastq.gz\n",
      "2024-01-27 20:02:16.168525 - /opt/data/pcr2persons/fastq/guppy/AQD087_pass_fae3d762_8343086c_49.fastq.gz\n",
      "2024-01-27 20:02:50.954027 - /opt/data/pcr2persons/fastq/guppy/AQD087_pass_fae3d762_8343086c_57.fastq.gz\n",
      "2024-01-27 20:05:50.353110 - /opt/data/pcr2persons/fastq/guppy/AQD087_pass_fae3d762_8343086c_58.fastq.gz\n",
      "2024-01-27 20:06:26.615253 - /opt/data/pcr2persons/fastq/guppy/AQD087_pass_fae3d762_8343086c_66.fastq.gz\n",
      "2024-01-27 20:09:25.860842 - /opt/data/pcr2persons/fastq/guppy/AQD087_pass_fae3d762_8343086c_59.fastq.gz\n",
      "2024-01-27 20:09:50.416293 - /opt/data/pcr2persons/fastq/guppy/AQD087_pass_fae3d762_8343086c_67.fastq.gz\n",
      "2024-01-27 20:12:41.474600 - /opt/data/pcr2persons/fastq/guppy/AQD087_pass_fae3d762_8343086c_7.fastq.gz\n",
      "2024-01-27 20:13:05.799081 - /opt/data/pcr2persons/fastq/guppy/AQD087_pass_fae3d762_8343086c_6.fastq.gz\n",
      "2024-01-27 20:16:35.681701 - /opt/data/pcr2persons/fastq/guppy/AQD087_pass_fae3d762_8343086c_8.fastq.gz\n",
      "2024-01-27 20:17:04.188376 - /opt/data/pcr2persons/fastq/guppy/AQD087_pass_fae3d762_8343086c_60.fastq.gz\n",
      "2024-01-27 20:20:31.621516 - /opt/data/pcr2persons/fastq/guppy/AQD087_pass_fae3d762_8343086c_9.fastq.gz\n",
      "2024-01-27 20:20:50.243929 - /opt/data/pcr2persons/fastq/guppy/AQD087_pass_fae3d762_8343086c_61.fastq.gz\n",
      "2024-01-27 20:24:31.461136 - /opt/data/pcr2persons/fastq/guppy/AQD087_pass_fae3d762_8343086c_62.fastq.gz\n",
      "2024-01-27 20:27:38.546061 - /opt/data/pcr2persons/fastq/guppy/AQD087_pass_fae3d762_8343086c_63.fastq.gz\n",
      "2024-01-27 20:30:45.723542 - /opt/data/pcr2persons/fastq/guppy/AQD087_pass_fae3d762_8343086c_64.fastq.gz\n",
      "2024-01-27 20:33:54.562680 - /opt/data/pcr2persons/fastq/guppy/AQD087_pass_fae3d762_8343086c_65.fastq.gz\n",
      "2024-01-27 20:36:54.494439 - Strat end\n"
     ]
    }
   ],
   "source": [
    "print(f'{datetime.now()} - Strat start')\n",
    "\n",
    "inputs = [(fastq_path, output_path, ReadProcessor(prefix, suffix, tolerance)) for fastq_path in fastq_paths]\n",
    "\n",
    "with Pool(2) as p:\n",
    "    p.starmap(process_fastq, inputs)\n",
    "\n",
    "print(f'{datetime.now()} - Strat end')"
   ]
  },
  {
   "cell_type": "code",
   "execution_count": 8,
   "id": "165d8c8f-bcf4-4fe1-b5fa-e6b333c09fa5",
   "metadata": {},
   "outputs": [],
   "source": [
    "# print(f'{datetime.now()} - Strat start')\n",
    "# read_processor = ReadProcessor(prefix, suffix, tolerance)\n",
    "# for fastq_path in fastq_paths:\n",
    "#     print(f'{datetime.now()} - {fastq_path}')\n",
    "#     process_fastq(fastq_path, output_path, read_processor)\n",
    "# print(f'{datetime.now()} - Strat end')"
   ]
  }
 ],
 "metadata": {
  "kernelspec": {
   "display_name": "Python 3 (ipykernel)",
   "language": "python",
   "name": "python3"
  },
  "language_info": {
   "codemirror_mode": {
    "name": "ipython",
    "version": 3
   },
   "file_extension": ".py",
   "mimetype": "text/x-python",
   "name": "python",
   "nbconvert_exporter": "python",
   "pygments_lexer": "ipython3",
   "version": "3.8.18"
  }
 },
 "nbformat": 4,
 "nbformat_minor": 5
}
