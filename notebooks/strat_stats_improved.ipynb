{
 "cells": [
  {
   "cell_type": "markdown",
   "id": "bdf6e882-a205-4954-9dd5-064b4a35af13",
   "metadata": {},
   "source": [
    "# STRAT - Short Tandem Repeat Analysis Tool"
   ]
  },
  {
   "cell_type": "markdown",
   "id": "7393e4ee-4878-4a92-b13e-5ba191273feb",
   "metadata": {},
   "source": [
    "## 2. Collect statistics on high fidelity reads - IMPROVED"
   ]
  },
  {
   "cell_type": "markdown",
   "id": "a2e1db31-2289-4e08-b896-ea7dad0b33cf",
   "metadata": {},
   "source": [
    "### 2.1 Imports"
   ]
  },
  {
   "cell_type": "code",
   "execution_count": 1,
   "id": "982a4874-f217-4ec9-a3bd-a5e97d88905f",
   "metadata": {},
   "outputs": [],
   "source": [
    "from csv import QUOTE_NONE\n",
    "import matplotlib.pyplot as plt\n",
    "import matplotlib.ticker as plticker\n",
    "import pandas as pd\n",
    "import seaborn as sns"
   ]
  },
  {
   "cell_type": "markdown",
   "id": "40b3a678-c12d-4851-8196-92eb930ccce4",
   "metadata": {},
   "source": [
    "### 2.2 Arguments"
   ]
  },
  {
   "cell_type": "code",
   "execution_count": 2,
   "id": "396e96cf-1a52-4248-bfc6-e7e73e351842",
   "metadata": {},
   "outputs": [],
   "source": [
    "motif = 'CAG'\n",
    "\n",
    "# pcr2persons guppy\n",
    "# threshold = 100\n",
    "# input_path = '/opt/data/pcr2persons/output/guppy/guppy.ontarget.tsv'\n",
    "# output_path = '/opt/data/pcr2persons/output/guppy/'\n",
    "\n",
    "# pcr2persons dorado\n",
    "# threshold = 100\n",
    "# input_path = '/opt/data/pcr2persons/output/dorado/dorado.ontarget.tsv'\n",
    "# output_path = '/opt/data/pcr2persons/output/dorado/'\n",
    "\n",
    "# jovan guppy\n",
    "# threshold = 100\n",
    "# input_path = '/opt/data/jovan/output/guppy/guppy.ontarget.tsv'\n",
    "# output_path = '/opt/data/jovan/output/guppy/'\n",
    "\n",
    "# jovan dorado\n",
    "# threshold = 100\n",
    "# input_path = '/opt/data/jovan/output/dorado/dorado.ontarget.tsv'\n",
    "# output_path = '/opt/data/jovan/output/dorado/'\n",
    "\n",
    "# dm108 guppy\n",
    "threshold = 10\n",
    "input_path = '/opt/data/dm108/output/guppy/guppy.ontarget.tsv'\n",
    "output_path = '/opt/data/dm108/output/guppy/'"
   ]
  },
  {
   "cell_type": "markdown",
   "id": "9e10b4e9-5a27-45c9-be05-09e09fde1486",
   "metadata": {},
   "source": [
    "### 2.3 Constants"
   ]
  },
  {
   "cell_type": "code",
   "execution_count": 3,
   "id": "b3925436-e9fa-4035-baa8-197fa9e7d475",
   "metadata": {},
   "outputs": [],
   "source": [
    "def rev_comp(seq, comps):\n",
    "    return ''.join(comps.get(n, n) for n in reversed(seq))\n",
    "\n",
    "\n",
    "DIRECTIONS = ['fwd', 'rev']\n",
    "\n",
    "COMPLEMENT = {\n",
    "    'A': 'T',\n",
    "    'C': 'G',\n",
    "    'G': 'C',\n",
    "    'T': 'A'\n",
    "}\n",
    "\n",
    "MOTIFS = {\n",
    "    'fwd': motif,\n",
    "    'rev': rev_comp(motif, COMPLEMENT)\n",
    "}\n",
    "\n",
    "COLUMNS = [\n",
    "    'direction',\n",
    "    'id',\n",
    "    'prefix_flank',\n",
    "    'ins',\n",
    "    'suffix_flank',\n",
    "    'prefix_flank_q',\n",
    "    'ins_q',\n",
    "    'suffix_flank_q',\n",
    "]\n",
    "\n",
    "COLUMNS_SEQ = [\n",
    "    'prefix_flank',\n",
    "    'ins',\n",
    "    'suffix_flank',\n",
    "]\n",
    "\n",
    "COLUMNS_LEN = ['len_' + s for s in COLUMNS_SEQ]\n",
    "\n",
    "COLUMNS_SEQ_IMP = ['ins_imp']\n",
    "COLUMNS_LEN_IMP = ['len_ins_imp']"
   ]
  },
  {
   "cell_type": "markdown",
   "id": "682ce945-06df-4e4d-bf17-510e6b10f694",
   "metadata": {},
   "source": [
    "### 2.4 Functions"
   ]
  },
  {
   "cell_type": "code",
   "execution_count": 4,
   "id": "d748688e-c85e-4c6e-a32f-1aec429046bb",
   "metadata": {},
   "outputs": [],
   "source": [
    "def lengths(df, columns_seq, columns_len):\n",
    "    for s, l in zip(columns_seq, columns_len):\n",
    "        df[l] = df[s].str.len()\n",
    "        df[l + '_adj'] = (df[l] / 3).round().astype(int)\n",
    "    return df\n",
    "\n",
    "\n",
    "def load(input_path, columns, columns_seq, columns_len):\n",
    "    df = pd.read_csv(input_path, sep='\\t', header=None, dtype=str, quoting=QUOTE_NONE)\n",
    "    df.columns = columns\n",
    "\n",
    "    return df\n",
    "\n",
    "\n",
    "def get_abundant_lengths(df, column_seq, column_len, threshold):\n",
    "    dfg = df.groupby(column_len)[column_seq].count().reset_index()\n",
    "\n",
    "    cond = dfg[column_seq] > threshold\n",
    "    dfg = dfg[cond]\n",
    "    return dfg\n",
    "\n",
    "\n",
    "def consensus_string(strings):\n",
    "    if not strings or not all(len(strings[0]) == len(s) for s in strings):\n",
    "        raise ValueError(\"Input strings must be non-empty and of equal length\")\n",
    "\n",
    "    consensus = ''\n",
    "    for i in range(len(strings[0])):\n",
    "        # Create a dictionary to count occurrences of each character at the current position\n",
    "        char_count = {}\n",
    "        for s in strings:\n",
    "            char = s[i]\n",
    "            char_count[char] = char_count.get(char, 0) + 1\n",
    "\n",
    "        # Find the most frequent character at the current position\n",
    "        most_frequent_char = max(char_count, key=char_count.get)\n",
    "\n",
    "        # Append the most frequent character to the consensus string\n",
    "        consensus += most_frequent_char\n",
    "\n",
    "    return consensus\n",
    "\n",
    "\n",
    "def get_consensus_strings(df, abundant_lengths, column_len, column_seq, directions):\n",
    "    consensi = []\n",
    "    for l in sorted(abundant_lengths):\n",
    "        for direction in directions:\n",
    "            cond = df[column_len] == l\n",
    "            cond &= df['direction'] == direction\n",
    "            strings = list(df[cond][column_seq])\n",
    "            if strings:\n",
    "                consensi.append([direction, l, len(strings), consensus_string(strings)])\n",
    "    \n",
    "    df_consensus = pd.DataFrame(consensi, columns=['direction', 'len_ins', 'count', 'seq'])\n",
    "    return df_consensus"
   ]
  },
  {
   "cell_type": "markdown",
   "id": "f27b2af6-ef49-467d-a659-1c4cab9f0f52",
   "metadata": {},
   "source": [
    "### 2.5 Main"
   ]
  },
  {
   "cell_type": "markdown",
   "id": "bb2c1285-2493-4815-8107-d99b4145cd25",
   "metadata": {},
   "source": [
    "#### 2.5.1 Load the data"
   ]
  },
  {
   "cell_type": "code",
   "execution_count": 5,
   "id": "b41f03f8-49e9-4e7d-9f75-94854eafb202",
   "metadata": {},
   "outputs": [],
   "source": [
    "df = load(input_path, COLUMNS, COLUMNS_SEQ, COLUMNS_LEN)"
   ]
  },
  {
   "cell_type": "code",
   "execution_count": 6,
   "id": "1058f92d-ad3a-4c0d-a37b-d64ae92df506",
   "metadata": {},
   "outputs": [
    {
     "name": "stdout",
     "output_type": "stream",
     "text": [
      "Index(['direction', 'id', 'prefix_flank', 'ins', 'suffix_flank',\n",
      "       'prefix_flank_q', 'ins_q', 'suffix_flank_q'],\n",
      "      dtype='object')\n"
     ]
    },
    {
     "data": {
      "text/html": [
       "<div>\n",
       "<style scoped>\n",
       "    .dataframe tbody tr th:only-of-type {\n",
       "        vertical-align: middle;\n",
       "    }\n",
       "\n",
       "    .dataframe tbody tr th {\n",
       "        vertical-align: top;\n",
       "    }\n",
       "\n",
       "    .dataframe thead th {\n",
       "        text-align: right;\n",
       "    }\n",
       "</style>\n",
       "<table border=\"1\" class=\"dataframe\">\n",
       "  <thead>\n",
       "    <tr style=\"text-align: right;\">\n",
       "      <th></th>\n",
       "      <th>direction</th>\n",
       "      <th>id</th>\n",
       "      <th>prefix_flank</th>\n",
       "      <th>ins</th>\n",
       "      <th>suffix_flank</th>\n",
       "      <th>prefix_flank_q</th>\n",
       "      <th>ins_q</th>\n",
       "      <th>suffix_flank_q</th>\n",
       "    </tr>\n",
       "  </thead>\n",
       "  <tbody>\n",
       "    <tr>\n",
       "      <th>0</th>\n",
       "      <td>rev</td>\n",
       "      <td>@4b634639-0c99-4e34-aa2f-ee69f3dd8f45</td>\n",
       "      <td>GCCGGGAATG</td>\n",
       "      <td>CTGCTGCTGC</td>\n",
       "      <td>TGCTGGGGGG</td>\n",
       "      <td>0132545433</td>\n",
       "      <td>58=&gt;&lt;=&lt;&lt;&gt;=</td>\n",
       "      <td>&gt;?@?&gt;&lt;&lt;?A9</td>\n",
       "    </tr>\n",
       "    <tr>\n",
       "      <th>1</th>\n",
       "      <td>rev</td>\n",
       "      <td>@e2c68d98-4964-4c5b-8031-377f5b46c8f5</td>\n",
       "      <td>GCCGGGAATG</td>\n",
       "      <td>CTGCTGCTA</td>\n",
       "      <td>TTCTGGGGGG</td>\n",
       "      <td>',-0446544</td>\n",
       "      <td>479::9:;2</td>\n",
       "      <td>10///68&gt;&gt;8</td>\n",
       "    </tr>\n",
       "    <tr>\n",
       "      <th>2</th>\n",
       "      <td>fwd</td>\n",
       "      <td>@cce360fc-acc0-433b-ab4e-1e897175f709</td>\n",
       "      <td>GTGATCCCCC</td>\n",
       "      <td>AGCAGCAGCAGC</td>\n",
       "      <td>AGCATTCCCG</td>\n",
       "      <td>8&lt;&lt;;;;&lt;&gt;&gt;&lt;</td>\n",
       "      <td>:&gt;34&gt;=444*))</td>\n",
       "      <td>&amp;&amp;%&amp;+++/41</td>\n",
       "    </tr>\n",
       "  </tbody>\n",
       "</table>\n",
       "</div>"
      ],
      "text/plain": [
       "  direction                                     id prefix_flank           ins  \\\n",
       "0       rev  @4b634639-0c99-4e34-aa2f-ee69f3dd8f45   GCCGGGAATG    CTGCTGCTGC   \n",
       "1       rev  @e2c68d98-4964-4c5b-8031-377f5b46c8f5   GCCGGGAATG     CTGCTGCTA   \n",
       "2       fwd  @cce360fc-acc0-433b-ab4e-1e897175f709   GTGATCCCCC  AGCAGCAGCAGC   \n",
       "\n",
       "  suffix_flank prefix_flank_q         ins_q suffix_flank_q  \n",
       "0   TGCTGGGGGG     0132545433    58=><=<<>=     >?@?><<?A9  \n",
       "1   TTCTGGGGGG     ',-0446544     479::9:;2     10///68>>8  \n",
       "2   AGCATTCCCG     8<<;;;<>><  :>34>=444*))     &&%&+++/41  "
      ]
     },
     "execution_count": 6,
     "metadata": {},
     "output_type": "execute_result"
    }
   ],
   "source": [
    "print(df.columns)\n",
    "df.head(3)"
   ]
  },
  {
   "cell_type": "code",
   "execution_count": 7,
   "id": "6eb86ba9-4136-4a89-aed0-7cb3b8ff0453",
   "metadata": {},
   "outputs": [],
   "source": [
    "def improve_ins(row):\n",
    "    prefix = row['prefix_flank']\n",
    "    ins = row['ins']\n",
    "    suffix = row['suffix_flank']\n",
    "    motif = MOTIFS[row['direction']]\n",
    "    target = 2 * motif\n",
    "    window = len(target)\n",
    "    for s in range(window - 1):\n",
    "        # i in (window-1)..1\n",
    "        i = window - 1 - s\n",
    "        if prefix[-i:] + ins[:window - i] == target:\n",
    "            ins = prefix[-i:] + ins\n",
    "            break\n",
    "    \n",
    "    for s in range(window - 1):\n",
    "        # i in 1..(window-1)\n",
    "        i = s + 1\n",
    "        if ins[-i:] + suffix[:window - i] == target:\n",
    "            ins = ins + suffix[:window - i]\n",
    "            break\n",
    "\n",
    "    return ins\n",
    "\n",
    "df['ins_imp'] = df.apply(improve_ins, axis=1)"
   ]
  },
  {
   "cell_type": "code",
   "execution_count": 8,
   "id": "2c37ebe9-2584-4d69-80f8-020d46832239",
   "metadata": {},
   "outputs": [],
   "source": [
    "df = lengths(df, COLUMNS_SEQ+COLUMNS_SEQ_IMP, COLUMNS_LEN+COLUMNS_LEN_IMP)"
   ]
  },
  {
   "cell_type": "code",
   "execution_count": 9,
   "id": "a8c9a5cc-4d14-4b1b-b31d-d5e976c673a7",
   "metadata": {},
   "outputs": [
    {
     "data": {
      "text/plain": [
       "direction\n",
       "fwd    57331\n",
       "rev    49244\n",
       "Name: count, dtype: int64"
      ]
     },
     "execution_count": 9,
     "metadata": {},
     "output_type": "execute_result"
    }
   ],
   "source": [
    "df['direction'].value_counts()"
   ]
  },
  {
   "cell_type": "code",
   "execution_count": 10,
   "id": "95a5914e-86eb-4c9b-b4ce-20a1041f3811",
   "metadata": {},
   "outputs": [
    {
     "name": "stdout",
     "output_type": "stream",
     "text": [
      "fwd - len_prefix_flank: 10 (57331)\n",
      "fwd - len_ins: 10 (9724)\n",
      "fwd - len_suffix_flank: 10 (57331)\n",
      "rev - len_prefix_flank: 10 (49244)\n",
      "rev - len_ins: 10 (28372)\n",
      "rev - len_suffix_flank: 10 (49244)\n"
     ]
    }
   ],
   "source": [
    "for direction in DIRECTIONS:\n",
    "    cond = df['direction'] == direction\n",
    "    for c in COLUMNS_LEN:\n",
    "        vc = df[cond][c].value_counts()\n",
    "        print(f\"{direction} - {c}: {vc.index[0]} ({vc.iloc[0]})\")"
   ]
  },
  {
   "cell_type": "markdown",
   "id": "e0ed5480-7e1c-4a75-b627-a3d00226e324",
   "metadata": {},
   "source": [
    "#### 2.5.2 Old-school"
   ]
  },
  {
   "cell_type": "code",
   "execution_count": 11,
   "id": "9a9686ec-826d-4d74-aaaa-184e28753ec9",
   "metadata": {},
   "outputs": [],
   "source": [
    "dfg = get_abundant_lengths(df, 'ins_imp', 'len_ins_imp', threshold)\n",
    "abundant_lengths = set(dfg['len_ins_imp'])\n",
    "\n",
    "cond = df['len_ins'].isin(abundant_lengths)\n",
    "df = df[cond]"
   ]
  },
  {
   "cell_type": "code",
   "execution_count": 12,
   "id": "e6f74d2f-adb4-4ba5-9cb7-9781a49b4abc",
   "metadata": {},
   "outputs": [
    {
     "data": {
      "text/html": [
       "<div>\n",
       "<style scoped>\n",
       "    .dataframe tbody tr th:only-of-type {\n",
       "        vertical-align: middle;\n",
       "    }\n",
       "\n",
       "    .dataframe tbody tr th {\n",
       "        vertical-align: top;\n",
       "    }\n",
       "\n",
       "    .dataframe thead th {\n",
       "        text-align: right;\n",
       "    }\n",
       "</style>\n",
       "<table border=\"1\" class=\"dataframe\">\n",
       "  <thead>\n",
       "    <tr style=\"text-align: right;\">\n",
       "      <th></th>\n",
       "      <th>direction</th>\n",
       "      <th>len_ins</th>\n",
       "      <th>count</th>\n",
       "      <th>seq</th>\n",
       "    </tr>\n",
       "  </thead>\n",
       "  <tbody>\n",
       "    <tr>\n",
       "      <th>0</th>\n",
       "      <td>fwd</td>\n",
       "      <td>6</td>\n",
       "      <td>6</td>\n",
       "      <td>CGGCCG</td>\n",
       "    </tr>\n",
       "    <tr>\n",
       "      <th>1</th>\n",
       "      <td>rev</td>\n",
       "      <td>6</td>\n",
       "      <td>13</td>\n",
       "      <td>CTGCTG</td>\n",
       "    </tr>\n",
       "    <tr>\n",
       "      <th>2</th>\n",
       "      <td>fwd</td>\n",
       "      <td>7</td>\n",
       "      <td>21</td>\n",
       "      <td>CAGCAGC</td>\n",
       "    </tr>\n",
       "  </tbody>\n",
       "</table>\n",
       "</div>"
      ],
      "text/plain": [
       "  direction  len_ins  count      seq\n",
       "0       fwd        6      6   CGGCCG\n",
       "1       rev        6     13   CTGCTG\n",
       "2       fwd        7     21  CAGCAGC"
      ]
     },
     "execution_count": 12,
     "metadata": {},
     "output_type": "execute_result"
    }
   ],
   "source": [
    "dfc = get_consensus_strings(df, abundant_lengths, 'len_ins_imp', 'ins_imp', DIRECTIONS)\n",
    "\n",
    "dfc.to_csv(f'{output_path}consensus.ontarget.imp.tsv', index=False, sep='\\t')\n",
    "\n",
    "dfc.head(3)"
   ]
  },
  {
   "cell_type": "code",
   "execution_count": 13,
   "id": "4a82fc1f-375c-489d-9493-385c7ac39520",
   "metadata": {},
   "outputs": [
    {
     "name": "stderr",
     "output_type": "stream",
     "text": [
      "/tmp/ipykernel_24523/597721656.py:7: UserWarning: FixedFormatter should only be used together with FixedLocator\n",
      "  gfg.set_xticklabels(gfg.get_xticklabels(), rotation=90)\n"
     ]
    },
    {
     "data": {
      "image/png": "[encoded data removed]",
      "text/plain": [
       "<Figure size 1600x1000 with 1 Axes>"
      ]
     },
     "metadata": {},
     "output_type": "display_data"
    }
   ],
   "source": [
    "fig, ax = plt.subplots(figsize=(16, 10))\n",
    "gfg = sns.histplot(df.sort_values('direction'), x='len_ins_imp_adj', discrete=True, hue='direction')\n",
    "# gfg.set_xlim(0, 1000)\n",
    "gfg.set_yscale(\"log\")\n",
    "loc = plticker.MultipleLocator(base=5)\n",
    "gfg.xaxis.set_major_locator(loc)\n",
    "gfg.set_xticklabels(gfg.get_xticklabels(), rotation=90)\n",
    "fig.savefig(f'{output_path}inserts.ontarget.imp.png')"
   ]
  },
  {
   "cell_type": "code",
   "execution_count": 14,
   "id": "1041b9f7-89fa-4d76-899c-61c96a4f3806",
   "metadata": {},
   "outputs": [],
   "source": [
    "# fig, ax = plt.subplots(figsize=(16, 10))\n",
    "# gfg = sns.histplot(df, x='len_prefix_flank', discrete=True, hue='direction')\n",
    "# gfg.set_xlim(0, 500)\n",
    "# gfg.set_yscale(\"log\")"
   ]
  }
 ],
 "metadata": {
  "kernelspec": {
   "display_name": "Python 3 (ipykernel)",
   "language": "python",
   "name": "python3"
  },
  "language_info": {
   "codemirror_mode": {
    "name": "ipython",
    "version": 3
   },
   "file_extension": ".py",
   "mimetype": "text/x-python",
   "name": "python",
   "nbconvert_exporter": "python",
   "pygments_lexer": "ipython3",
   "version": "3.8.18"
  }
 },
 "nbformat": 4,
 "nbformat_minor": 5
}
